{
 "cells": [
  {
   "cell_type": "markdown",
   "metadata": {},
   "source": [
    "# IMPORT LIBRARIES USED"
   ]
  },
  {
   "cell_type": "code",
   "execution_count": 2,
   "metadata": {},
   "outputs": [],
   "source": [
    "import csv\n",
    "import os\n",
    "import numpy as np\n",
    "import tensorflow as tf\n",
    "from sklearn.model_selection import train_test_split\n",
    "from tensorflow import keras\n",
    "\n",
    "import pandas as pd\n",
    "import seaborn as sns\n",
    "import matplotlib.pyplot as plt\n",
    "from sklearn.metrics import confusion_matrix, classification_report"
   ]
  },
  {
   "cell_type": "code",
   "execution_count": 2,
   "metadata": {},
   "outputs": [],
   "source": [
    "tf.debugging.set_log_device_placement(False)"
   ]
  },
  {
   "cell_type": "markdown",
   "metadata": {},
   "source": [
    "# SPECIFY THE PATH USED"
   ]
  },
  {
   "cell_type": "markdown",
   "metadata": {},
   "source": [
    "## *Path to current directory*"
   ]
  },
  {
   "cell_type": "code",
   "execution_count": 3,
   "metadata": {},
   "outputs": [
    {
     "data": {
      "text/plain": [
       "'e:\\\\Games\\\\UnityProject\\\\HandDetection\\\\hand-gesture-recognition-using-mediapipe-main'"
      ]
     },
     "execution_count": 3,
     "metadata": {},
     "output_type": "execute_result"
    }
   ],
   "source": [
    "full_path = os.path.abspath('')\n",
    "full_path"
   ]
  },
  {
   "cell_type": "markdown",
   "metadata": {},
   "source": [
    "## *Path to dataset*"
   ]
  },
  {
   "cell_type": "code",
   "execution_count": 4,
   "metadata": {},
   "outputs": [
    {
     "data": {
      "text/plain": [
       "'e:\\\\Games\\\\UnityProject\\\\HandDetection\\\\hand-gesture-recognition-using-mediapipe-main\\\\model\\\\thumb_and_index_finger_classifier\\\\thumb_and_index_finger.csv'"
      ]
     },
     "execution_count": 4,
     "metadata": {},
     "output_type": "execute_result"
    }
   ],
   "source": [
    "dataset = os.path.join(full_path, 'model/thumb_and_index_finger_classifier/thumb_and_index_finger.csv')\n",
    "dataset = os.path.normpath(dataset)\n",
    "dataset"
   ]
  },
  {
   "cell_type": "markdown",
   "metadata": {},
   "source": [
    "## *Path to where the model is saved*"
   ]
  },
  {
   "cell_type": "code",
   "execution_count": 5,
   "metadata": {},
   "outputs": [
    {
     "data": {
      "text/plain": [
       "'e:\\\\Games\\\\UnityProject\\\\HandDetection\\\\hand-gesture-recognition-using-mediapipe-main\\\\model\\\\thumb_and_index_finger_classifier\\\\thumb_and_index_finger_classifier.keras'"
      ]
     },
     "execution_count": 5,
     "metadata": {},
     "output_type": "execute_result"
    }
   ],
   "source": [
    "model_save_path = os.path.join(full_path, 'model/thumb_and_index_finger_classifier/thumb_and_index_finger_classifier.keras')\n",
    "model_save_path = os.path.normpath(model_save_path)\n",
    "model_save_path"
   ]
  },
  {
   "cell_type": "markdown",
   "metadata": {},
   "source": [
    "## *Path to the folder where the model is saved*"
   ]
  },
  {
   "cell_type": "code",
   "execution_count": 6,
   "metadata": {},
   "outputs": [
    {
     "data": {
      "text/plain": [
       "'e:\\\\Games\\\\UnityProject\\\\HandDetection\\\\hand-gesture-recognition-using-mediapipe-main\\\\model\\\\thumb_and_index_finger_classifier'"
      ]
     },
     "execution_count": 6,
     "metadata": {},
     "output_type": "execute_result"
    }
   ],
   "source": [
    "saved_model_path = os.path.join(full_path, 'model/thumb_and_index_finger_classifier')\n",
    "saved_model_path = os.path.normpath(saved_model_path)\n",
    "saved_model_path"
   ]
  },
  {
   "cell_type": "markdown",
   "metadata": {},
   "source": [
    "## *Path to TfLite model*"
   ]
  },
  {
   "cell_type": "code",
   "execution_count": 7,
   "metadata": {},
   "outputs": [
    {
     "data": {
      "text/plain": [
       "'e:\\\\Games\\\\UnityProject\\\\HandDetection\\\\hand-gesture-recognition-using-mediapipe-main\\\\model\\\\thumb_and_index_finger_classifier\\\\thumb_and_index_finger_classifier.tflite'"
      ]
     },
     "execution_count": 7,
     "metadata": {},
     "output_type": "execute_result"
    }
   ],
   "source": [
    "tflite_save_path = os.path.join(full_path, 'model/thumb_and_index_finger_classifier/thumb_and_index_finger_classifier.tflite')\n",
    "tflite_save_path = os.path.normpath(tflite_save_path)\n",
    "tflite_save_path"
   ]
  },
  {
   "cell_type": "markdown",
   "metadata": {},
   "source": [
    "# SET PARAMETERS"
   ]
  },
  {
   "cell_type": "markdown",
   "metadata": {},
   "source": [
    "## *Classification number*"
   ]
  },
  {
   "cell_type": "code",
   "execution_count": 8,
   "metadata": {},
   "outputs": [],
   "source": [
    "NUM_CLASSES = 9"
   ]
  },
  {
   "cell_type": "markdown",
   "metadata": {},
   "source": [
    "## *Input length*"
   ]
  },
  {
   "cell_type": "code",
   "execution_count": 9,
   "metadata": {},
   "outputs": [],
   "source": [
    "TIME_STEPS = 16\n",
    "DIMENSION = 4"
   ]
  },
  {
   "cell_type": "markdown",
   "metadata": {},
   "source": [
    "# LOAD DATA FOR LEARNING"
   ]
  },
  {
   "cell_type": "markdown",
   "metadata": {},
   "source": [
    "## *Load data without dependency*"
   ]
  },
  {
   "cell_type": "code",
   "execution_count": 10,
   "metadata": {},
   "outputs": [
    {
     "data": {
      "text/html": [
       "<div>\n",
       "<style scoped>\n",
       "    .dataframe tbody tr th:only-of-type {\n",
       "        vertical-align: middle;\n",
       "    }\n",
       "\n",
       "    .dataframe tbody tr th {\n",
       "        vertical-align: top;\n",
       "    }\n",
       "\n",
       "    .dataframe thead th {\n",
       "        text-align: right;\n",
       "    }\n",
       "</style>\n",
       "<table border=\"1\" class=\"dataframe\">\n",
       "  <thead>\n",
       "    <tr style=\"text-align: right;\">\n",
       "      <th></th>\n",
       "      <th>0</th>\n",
       "      <th>1</th>\n",
       "      <th>2</th>\n",
       "      <th>3</th>\n",
       "      <th>4</th>\n",
       "      <th>5</th>\n",
       "      <th>6</th>\n",
       "      <th>7</th>\n",
       "      <th>8</th>\n",
       "      <th>9</th>\n",
       "      <th>...</th>\n",
       "      <th>55</th>\n",
       "      <th>56</th>\n",
       "      <th>57</th>\n",
       "      <th>58</th>\n",
       "      <th>59</th>\n",
       "      <th>60</th>\n",
       "      <th>61</th>\n",
       "      <th>62</th>\n",
       "      <th>63</th>\n",
       "      <th>64</th>\n",
       "    </tr>\n",
       "  </thead>\n",
       "  <tbody>\n",
       "    <tr>\n",
       "      <th>0</th>\n",
       "      <td>0</td>\n",
       "      <td>0.0</td>\n",
       "      <td>0.0</td>\n",
       "      <td>0.0</td>\n",
       "      <td>0.0</td>\n",
       "      <td>0.000000</td>\n",
       "      <td>0.001389</td>\n",
       "      <td>0.000000</td>\n",
       "      <td>0.000000</td>\n",
       "      <td>0.000000</td>\n",
       "      <td>...</td>\n",
       "      <td>0.003125</td>\n",
       "      <td>-0.006944</td>\n",
       "      <td>0.003125</td>\n",
       "      <td>-0.002778</td>\n",
       "      <td>0.003125</td>\n",
       "      <td>-0.006944</td>\n",
       "      <td>0.003125</td>\n",
       "      <td>-0.004167</td>\n",
       "      <td>0.003125</td>\n",
       "      <td>-0.006944</td>\n",
       "    </tr>\n",
       "    <tr>\n",
       "      <th>1</th>\n",
       "      <td>0</td>\n",
       "      <td>0.0</td>\n",
       "      <td>0.0</td>\n",
       "      <td>0.0</td>\n",
       "      <td>0.0</td>\n",
       "      <td>0.000000</td>\n",
       "      <td>0.000000</td>\n",
       "      <td>0.000000</td>\n",
       "      <td>0.000000</td>\n",
       "      <td>-0.008594</td>\n",
       "      <td>...</td>\n",
       "      <td>0.000000</td>\n",
       "      <td>0.000000</td>\n",
       "      <td>-0.010937</td>\n",
       "      <td>-0.005556</td>\n",
       "      <td>-0.000781</td>\n",
       "      <td>-0.001389</td>\n",
       "      <td>-0.010937</td>\n",
       "      <td>-0.002778</td>\n",
       "      <td>0.000781</td>\n",
       "      <td>0.000000</td>\n",
       "    </tr>\n",
       "    <tr>\n",
       "      <th>2</th>\n",
       "      <td>0</td>\n",
       "      <td>0.0</td>\n",
       "      <td>0.0</td>\n",
       "      <td>0.0</td>\n",
       "      <td>0.0</td>\n",
       "      <td>0.000000</td>\n",
       "      <td>0.000000</td>\n",
       "      <td>0.000000</td>\n",
       "      <td>0.000000</td>\n",
       "      <td>0.000000</td>\n",
       "      <td>...</td>\n",
       "      <td>-0.004687</td>\n",
       "      <td>0.004167</td>\n",
       "      <td>0.000781</td>\n",
       "      <td>0.006944</td>\n",
       "      <td>-0.003125</td>\n",
       "      <td>0.005556</td>\n",
       "      <td>0.000000</td>\n",
       "      <td>0.004167</td>\n",
       "      <td>-0.004687</td>\n",
       "      <td>0.002778</td>\n",
       "    </tr>\n",
       "    <tr>\n",
       "      <th>3</th>\n",
       "      <td>0</td>\n",
       "      <td>0.0</td>\n",
       "      <td>0.0</td>\n",
       "      <td>0.0</td>\n",
       "      <td>0.0</td>\n",
       "      <td>0.000781</td>\n",
       "      <td>0.002778</td>\n",
       "      <td>0.001563</td>\n",
       "      <td>0.001389</td>\n",
       "      <td>-0.000781</td>\n",
       "      <td>...</td>\n",
       "      <td>0.001563</td>\n",
       "      <td>-0.002778</td>\n",
       "      <td>0.001563</td>\n",
       "      <td>0.001389</td>\n",
       "      <td>0.003125</td>\n",
       "      <td>-0.001389</td>\n",
       "      <td>0.000781</td>\n",
       "      <td>0.000000</td>\n",
       "      <td>0.002344</td>\n",
       "      <td>-0.001389</td>\n",
       "    </tr>\n",
       "    <tr>\n",
       "      <th>4</th>\n",
       "      <td>0</td>\n",
       "      <td>0.0</td>\n",
       "      <td>0.0</td>\n",
       "      <td>0.0</td>\n",
       "      <td>0.0</td>\n",
       "      <td>-0.000781</td>\n",
       "      <td>-0.002778</td>\n",
       "      <td>-0.001563</td>\n",
       "      <td>-0.002778</td>\n",
       "      <td>-0.000781</td>\n",
       "      <td>...</td>\n",
       "      <td>0.000781</td>\n",
       "      <td>-0.005556</td>\n",
       "      <td>-0.000781</td>\n",
       "      <td>-0.004167</td>\n",
       "      <td>0.000781</td>\n",
       "      <td>-0.004167</td>\n",
       "      <td>-0.001563</td>\n",
       "      <td>-0.004167</td>\n",
       "      <td>0.001563</td>\n",
       "      <td>-0.004167</td>\n",
       "    </tr>\n",
       "    <tr>\n",
       "      <th>...</th>\n",
       "      <td>...</td>\n",
       "      <td>...</td>\n",
       "      <td>...</td>\n",
       "      <td>...</td>\n",
       "      <td>...</td>\n",
       "      <td>...</td>\n",
       "      <td>...</td>\n",
       "      <td>...</td>\n",
       "      <td>...</td>\n",
       "      <td>...</td>\n",
       "      <td>...</td>\n",
       "      <td>...</td>\n",
       "      <td>...</td>\n",
       "      <td>...</td>\n",
       "      <td>...</td>\n",
       "      <td>...</td>\n",
       "      <td>...</td>\n",
       "      <td>...</td>\n",
       "      <td>...</td>\n",
       "      <td>...</td>\n",
       "      <td>...</td>\n",
       "    </tr>\n",
       "    <tr>\n",
       "      <th>4495</th>\n",
       "      <td>8</td>\n",
       "      <td>0.0</td>\n",
       "      <td>0.0</td>\n",
       "      <td>0.0</td>\n",
       "      <td>0.0</td>\n",
       "      <td>0.000000</td>\n",
       "      <td>0.000000</td>\n",
       "      <td>-0.000781</td>\n",
       "      <td>0.000000</td>\n",
       "      <td>0.000781</td>\n",
       "      <td>...</td>\n",
       "      <td>0.084375</td>\n",
       "      <td>0.000000</td>\n",
       "      <td>0.090625</td>\n",
       "      <td>0.030556</td>\n",
       "      <td>0.095312</td>\n",
       "      <td>-0.002778</td>\n",
       "      <td>0.106250</td>\n",
       "      <td>0.027778</td>\n",
       "      <td>0.114844</td>\n",
       "      <td>0.000000</td>\n",
       "    </tr>\n",
       "    <tr>\n",
       "      <th>4496</th>\n",
       "      <td>8</td>\n",
       "      <td>0.0</td>\n",
       "      <td>0.0</td>\n",
       "      <td>0.0</td>\n",
       "      <td>0.0</td>\n",
       "      <td>-0.000781</td>\n",
       "      <td>0.002778</td>\n",
       "      <td>-0.001563</td>\n",
       "      <td>0.004167</td>\n",
       "      <td>0.000000</td>\n",
       "      <td>...</td>\n",
       "      <td>0.085938</td>\n",
       "      <td>0.001389</td>\n",
       "      <td>0.094531</td>\n",
       "      <td>0.033333</td>\n",
       "      <td>0.096875</td>\n",
       "      <td>-0.002778</td>\n",
       "      <td>0.103125</td>\n",
       "      <td>0.031944</td>\n",
       "      <td>0.105469</td>\n",
       "      <td>0.000000</td>\n",
       "    </tr>\n",
       "    <tr>\n",
       "      <th>4497</th>\n",
       "      <td>8</td>\n",
       "      <td>0.0</td>\n",
       "      <td>0.0</td>\n",
       "      <td>0.0</td>\n",
       "      <td>0.0</td>\n",
       "      <td>0.000781</td>\n",
       "      <td>0.000000</td>\n",
       "      <td>0.000781</td>\n",
       "      <td>0.000000</td>\n",
       "      <td>0.001563</td>\n",
       "      <td>...</td>\n",
       "      <td>0.059375</td>\n",
       "      <td>0.019444</td>\n",
       "      <td>0.096094</td>\n",
       "      <td>0.037500</td>\n",
       "      <td>0.095312</td>\n",
       "      <td>0.005556</td>\n",
       "      <td>0.108594</td>\n",
       "      <td>0.044444</td>\n",
       "      <td>0.110156</td>\n",
       "      <td>0.016667</td>\n",
       "    </tr>\n",
       "    <tr>\n",
       "      <th>4498</th>\n",
       "      <td>8</td>\n",
       "      <td>0.0</td>\n",
       "      <td>0.0</td>\n",
       "      <td>0.0</td>\n",
       "      <td>0.0</td>\n",
       "      <td>-0.000781</td>\n",
       "      <td>0.000000</td>\n",
       "      <td>0.000000</td>\n",
       "      <td>-0.001389</td>\n",
       "      <td>0.000000</td>\n",
       "      <td>...</td>\n",
       "      <td>0.078906</td>\n",
       "      <td>-0.002778</td>\n",
       "      <td>0.080469</td>\n",
       "      <td>0.027778</td>\n",
       "      <td>0.088281</td>\n",
       "      <td>-0.006944</td>\n",
       "      <td>0.089063</td>\n",
       "      <td>0.025000</td>\n",
       "      <td>0.096094</td>\n",
       "      <td>-0.006944</td>\n",
       "    </tr>\n",
       "    <tr>\n",
       "      <th>4499</th>\n",
       "      <td>8</td>\n",
       "      <td>0.0</td>\n",
       "      <td>0.0</td>\n",
       "      <td>0.0</td>\n",
       "      <td>0.0</td>\n",
       "      <td>-0.000781</td>\n",
       "      <td>0.000000</td>\n",
       "      <td>0.000000</td>\n",
       "      <td>0.000000</td>\n",
       "      <td>0.000781</td>\n",
       "      <td>...</td>\n",
       "      <td>0.075781</td>\n",
       "      <td>0.012500</td>\n",
       "      <td>0.083594</td>\n",
       "      <td>0.044444</td>\n",
       "      <td>0.091406</td>\n",
       "      <td>0.008333</td>\n",
       "      <td>0.092969</td>\n",
       "      <td>0.040278</td>\n",
       "      <td>0.102344</td>\n",
       "      <td>0.006944</td>\n",
       "    </tr>\n",
       "  </tbody>\n",
       "</table>\n",
       "<p>4500 rows × 65 columns</p>\n",
       "</div>"
      ],
      "text/plain": [
       "      0    1    2    3    4         5         6         7         8   \\\n",
       "0      0  0.0  0.0  0.0  0.0  0.000000  0.001389  0.000000  0.000000   \n",
       "1      0  0.0  0.0  0.0  0.0  0.000000  0.000000  0.000000  0.000000   \n",
       "2      0  0.0  0.0  0.0  0.0  0.000000  0.000000  0.000000  0.000000   \n",
       "3      0  0.0  0.0  0.0  0.0  0.000781  0.002778  0.001563  0.001389   \n",
       "4      0  0.0  0.0  0.0  0.0 -0.000781 -0.002778 -0.001563 -0.002778   \n",
       "...   ..  ...  ...  ...  ...       ...       ...       ...       ...   \n",
       "4495   8  0.0  0.0  0.0  0.0  0.000000  0.000000 -0.000781  0.000000   \n",
       "4496   8  0.0  0.0  0.0  0.0 -0.000781  0.002778 -0.001563  0.004167   \n",
       "4497   8  0.0  0.0  0.0  0.0  0.000781  0.000000  0.000781  0.000000   \n",
       "4498   8  0.0  0.0  0.0  0.0 -0.000781  0.000000  0.000000 -0.001389   \n",
       "4499   8  0.0  0.0  0.0  0.0 -0.000781  0.000000  0.000000  0.000000   \n",
       "\n",
       "            9   ...        55        56        57        58        59  \\\n",
       "0     0.000000  ...  0.003125 -0.006944  0.003125 -0.002778  0.003125   \n",
       "1    -0.008594  ...  0.000000  0.000000 -0.010937 -0.005556 -0.000781   \n",
       "2     0.000000  ... -0.004687  0.004167  0.000781  0.006944 -0.003125   \n",
       "3    -0.000781  ...  0.001563 -0.002778  0.001563  0.001389  0.003125   \n",
       "4    -0.000781  ...  0.000781 -0.005556 -0.000781 -0.004167  0.000781   \n",
       "...        ...  ...       ...       ...       ...       ...       ...   \n",
       "4495  0.000781  ...  0.084375  0.000000  0.090625  0.030556  0.095312   \n",
       "4496  0.000000  ...  0.085938  0.001389  0.094531  0.033333  0.096875   \n",
       "4497  0.001563  ...  0.059375  0.019444  0.096094  0.037500  0.095312   \n",
       "4498  0.000000  ...  0.078906 -0.002778  0.080469  0.027778  0.088281   \n",
       "4499  0.000781  ...  0.075781  0.012500  0.083594  0.044444  0.091406   \n",
       "\n",
       "            60        61        62        63        64  \n",
       "0    -0.006944  0.003125 -0.004167  0.003125 -0.006944  \n",
       "1    -0.001389 -0.010937 -0.002778  0.000781  0.000000  \n",
       "2     0.005556  0.000000  0.004167 -0.004687  0.002778  \n",
       "3    -0.001389  0.000781  0.000000  0.002344 -0.001389  \n",
       "4    -0.004167 -0.001563 -0.004167  0.001563 -0.004167  \n",
       "...        ...       ...       ...       ...       ...  \n",
       "4495 -0.002778  0.106250  0.027778  0.114844  0.000000  \n",
       "4496 -0.002778  0.103125  0.031944  0.105469  0.000000  \n",
       "4497  0.005556  0.108594  0.044444  0.110156  0.016667  \n",
       "4498 -0.006944  0.089063  0.025000  0.096094 -0.006944  \n",
       "4499  0.008333  0.092969  0.040278  0.102344  0.006944  \n",
       "\n",
       "[4500 rows x 65 columns]"
      ]
     },
     "execution_count": 10,
     "metadata": {},
     "output_type": "execute_result"
    }
   ],
   "source": [
    "_dataset = pd.read_csv(dataset, header=None)\n",
    "_dataset"
   ]
  },
  {
   "cell_type": "code",
   "execution_count": 11,
   "metadata": {},
   "outputs": [
    {
     "data": {
      "text/plain": [
       "array([[ 0.        ,  0.        ,  0.        , ..., -0.00416667,\n",
       "         0.003125  , -0.00694444],\n",
       "       [ 0.        ,  0.        ,  0.        , ..., -0.00277778,\n",
       "         0.00078125,  0.        ],\n",
       "       [ 0.        ,  0.        ,  0.        , ...,  0.00416667,\n",
       "        -0.0046875 ,  0.00277778],\n",
       "       ...,\n",
       "       [ 0.        ,  0.        ,  0.        , ...,  0.04444444,\n",
       "         0.11015625,  0.01666667],\n",
       "       [ 0.        ,  0.        ,  0.        , ...,  0.025     ,\n",
       "         0.09609375, -0.00694444],\n",
       "       [ 0.        ,  0.        ,  0.        , ...,  0.04027778,\n",
       "         0.10234375,  0.00694444]])"
      ]
     },
     "execution_count": 11,
     "metadata": {},
     "output_type": "execute_result"
    }
   ],
   "source": [
    "# X_dataset = np.loadtxt(dataset, delimiter=',', dtype='float32', usecols=list(range(1, (TIME_STEPS * DIMENSION) + 1)))\n",
    "_dataset = _dataset.to_numpy()\n",
    "X_dataset = _dataset[:, 1:]\n",
    "X_dataset"
   ]
  },
  {
   "cell_type": "code",
   "execution_count": 12,
   "metadata": {},
   "outputs": [
    {
     "data": {
      "text/plain": [
       "4.0"
      ]
     },
     "execution_count": 12,
     "metadata": {},
     "output_type": "execute_result"
    }
   ],
   "source": [
    "len(X_dataset[0,:])/16"
   ]
  },
  {
   "cell_type": "markdown",
   "metadata": {},
   "source": [
    "## *Load dependent data (**Label**)*"
   ]
  },
  {
   "cell_type": "code",
   "execution_count": 13,
   "metadata": {},
   "outputs": [
    {
     "data": {
      "text/plain": [
       "array([0., 0., 0., ..., 8., 8., 8.])"
      ]
     },
     "execution_count": 13,
     "metadata": {},
     "output_type": "execute_result"
    }
   ],
   "source": [
    "y_dataset = _dataset[:, 0]\n",
    "y_dataset"
   ]
  },
  {
   "cell_type": "markdown",
   "metadata": {},
   "source": [
    "### *Value for random state*"
   ]
  },
  {
   "cell_type": "code",
   "execution_count": 14,
   "metadata": {},
   "outputs": [],
   "source": [
    "RANDOM_SEED = 42"
   ]
  },
  {
   "cell_type": "markdown",
   "metadata": {},
   "source": [
    "### *Splitting the dataset*"
   ]
  },
  {
   "cell_type": "code",
   "execution_count": 15,
   "metadata": {},
   "outputs": [],
   "source": [
    "X_train, X_test, y_train, y_test = train_test_split(X_dataset, y_dataset, train_size=0.75, random_state=RANDOM_SEED)"
   ]
  },
  {
   "cell_type": "markdown",
   "metadata": {},
   "source": [
    "# CONFIGURE THE LEARNING MODEL"
   ]
  },
  {
   "cell_type": "markdown",
   "metadata": {},
   "source": [
    "## *Set up model structure*"
   ]
  },
  {
   "cell_type": "markdown",
   "metadata": {},
   "source": [
    "### *Set parameters to configure the model*"
   ]
  },
  {
   "cell_type": "markdown",
   "metadata": {},
   "source": [
    "#### *Parameter indicating whether LTSM (Long Short Term Memory) is used in the model*"
   ]
  },
  {
   "cell_type": "code",
   "execution_count": 16,
   "metadata": {},
   "outputs": [],
   "source": [
    "use_lstm = True"
   ]
  },
  {
   "cell_type": "markdown",
   "metadata": {},
   "source": [
    "#### *Parameter refer to the model*"
   ]
  },
  {
   "cell_type": "code",
   "execution_count": 17,
   "metadata": {},
   "outputs": [],
   "source": [
    "model = None"
   ]
  },
  {
   "cell_type": "markdown",
   "metadata": {},
   "source": [
    "### *Model configurating*"
   ]
  },
  {
   "cell_type": "markdown",
   "metadata": {},
   "source": [
    "* Model structure using LSTM:\n",
    "> 1. Input Layer\n",
    "> 2. Reshape Layer ((32) -> (16, 2))\n",
    "> 3. Dropout Layer (0.2)\n",
    "> 4. LSTM Layer\n",
    "> 5. Dropout Layer (0.5)\n",
    "> 6. Fully-connected-10 with ReLU as activation\n",
    "> 7. Fully-connected-5 with SoftMax as activation\n",
    "* Model structure without using LSTM:\n",
    "> 1. Input Layer\n",
    "> 2. Dropout Layer (0.2)\n",
    "> 3. Fully-connected-24 with ReLU as activation\n",
    "> 4. Dropout Layer (0.5)\n",
    "> 5. Fully-connected-10 with ReLU as activation\n",
    "> 6. Fully-connected-5 with SoftMax as activation"
   ]
  },
  {
   "cell_type": "code",
   "execution_count": 18,
   "metadata": {},
   "outputs": [
    {
     "name": "stderr",
     "output_type": "stream",
     "text": [
      "c:\\Python311\\Lib\\site-packages\\keras\\src\\layers\\reshaping\\reshape.py:39: UserWarning: Do not pass an `input_shape`/`input_dim` argument to a layer. When using Sequential models, prefer using an `Input(shape)` object as the first layer in the model instead.\n",
      "  super().__init__(**kwargs)\n",
      "c:\\Python311\\Lib\\site-packages\\keras\\src\\layers\\rnn\\rnn.py:205: UserWarning: Do not pass an `input_shape`/`input_dim` argument to a layer. When using Sequential models, prefer using an `Input(shape)` object as the first layer in the model instead.\n",
      "  super().__init__(**kwargs)\n"
     ]
    }
   ],
   "source": [
    "if use_lstm:\n",
    "    model = tf.keras.models.Sequential([\n",
    "        tf.keras.layers.Input(shape=(TIME_STEPS * DIMENSION, )),\n",
    "        tf.keras.layers.Reshape((TIME_STEPS, DIMENSION), input_shape=(TIME_STEPS * DIMENSION, )), \n",
    "        tf.keras.layers.Dropout(0.2),\n",
    "        tf.keras.layers.LSTM(16, input_shape=[TIME_STEPS, DIMENSION]),\n",
    "        # tf.keras.layers.Reshape((16, 1), input_shape=(16, )), \n",
    "        # tf.keras.layers.LSTM(16, input_shape=(16, 1)),\n",
    "        tf.keras.layers.Dropout(0.5),\n",
    "        tf.keras.layers.Dense(10, activation='relu'),\n",
    "        tf.keras.layers.Dense(NUM_CLASSES, activation='softmax')\n",
    "    ])\n",
    "    model.name = \"Hand_Gesture_Regconize_Using_LTSM_Model\"\n",
    "else:\n",
    "    model = tf.keras.models.Sequential([\n",
    "        tf.keras.layers.Input(shape=(TIME_STEPS * DIMENSION, )),\n",
    "        tf.keras.layers.Dropout(0.2),\n",
    "        tf.keras.layers.Dense(24, activation='relu'),\n",
    "        tf.keras.layers.Dropout(0.5),\n",
    "        tf.keras.layers.Dense(10, activation='relu'),\n",
    "        tf.keras.layers.Dense(NUM_CLASSES, activation='softmax')\n",
    "    ])\n",
    "    model.name = \"Hand_Gesture_Regconize_Model\""
   ]
  },
  {
   "cell_type": "markdown",
   "metadata": {},
   "source": [
    "## *Model summary*"
   ]
  },
  {
   "cell_type": "markdown",
   "metadata": {},
   "source": [
    "### *Table*"
   ]
  },
  {
   "cell_type": "code",
   "execution_count": 19,
   "metadata": {},
   "outputs": [
    {
     "data": {
      "text/html": [
       "<pre style=\"white-space:pre;overflow-x:auto;line-height:normal;font-family:Menlo,'DejaVu Sans Mono',consolas,'Courier New',monospace\"><span style=\"font-weight: bold\">Model: \"Hand_Gesture_Regconize_Using_LTSM_Model\"</span>\n",
       "</pre>\n"
      ],
      "text/plain": [
       "\u001b[1mModel: \"Hand_Gesture_Regconize_Using_LTSM_Model\"\u001b[0m\n"
      ]
     },
     "metadata": {},
     "output_type": "display_data"
    },
    {
     "data": {
      "text/html": [
       "<pre style=\"white-space:pre;overflow-x:auto;line-height:normal;font-family:Menlo,'DejaVu Sans Mono',consolas,'Courier New',monospace\">┏━━━━━━━━━━━━━━━━━━━━━━━━━━━━━━━━━┳━━━━━━━━━━━━━━━━━━━━━━━━┳━━━━━━━━━━━━━━━┓\n",
       "┃<span style=\"font-weight: bold\"> Layer (type)                    </span>┃<span style=\"font-weight: bold\"> Output Shape           </span>┃<span style=\"font-weight: bold\">       Param # </span>┃\n",
       "┡━━━━━━━━━━━━━━━━━━━━━━━━━━━━━━━━━╇━━━━━━━━━━━━━━━━━━━━━━━━╇━━━━━━━━━━━━━━━┩\n",
       "│ reshape (<span style=\"color: #0087ff; text-decoration-color: #0087ff\">Reshape</span>)               │ (<span style=\"color: #00d7ff; text-decoration-color: #00d7ff\">None</span>, <span style=\"color: #00af00; text-decoration-color: #00af00\">16</span>, <span style=\"color: #00af00; text-decoration-color: #00af00\">4</span>)          │             <span style=\"color: #00af00; text-decoration-color: #00af00\">0</span> │\n",
       "├─────────────────────────────────┼────────────────────────┼───────────────┤\n",
       "│ dropout (<span style=\"color: #0087ff; text-decoration-color: #0087ff\">Dropout</span>)               │ (<span style=\"color: #00d7ff; text-decoration-color: #00d7ff\">None</span>, <span style=\"color: #00af00; text-decoration-color: #00af00\">16</span>, <span style=\"color: #00af00; text-decoration-color: #00af00\">4</span>)          │             <span style=\"color: #00af00; text-decoration-color: #00af00\">0</span> │\n",
       "├─────────────────────────────────┼────────────────────────┼───────────────┤\n",
       "│ lstm (<span style=\"color: #0087ff; text-decoration-color: #0087ff\">LSTM</span>)                     │ (<span style=\"color: #00d7ff; text-decoration-color: #00d7ff\">None</span>, <span style=\"color: #00af00; text-decoration-color: #00af00\">16</span>)             │         <span style=\"color: #00af00; text-decoration-color: #00af00\">1,344</span> │\n",
       "├─────────────────────────────────┼────────────────────────┼───────────────┤\n",
       "│ dropout_1 (<span style=\"color: #0087ff; text-decoration-color: #0087ff\">Dropout</span>)             │ (<span style=\"color: #00d7ff; text-decoration-color: #00d7ff\">None</span>, <span style=\"color: #00af00; text-decoration-color: #00af00\">16</span>)             │             <span style=\"color: #00af00; text-decoration-color: #00af00\">0</span> │\n",
       "├─────────────────────────────────┼────────────────────────┼───────────────┤\n",
       "│ dense (<span style=\"color: #0087ff; text-decoration-color: #0087ff\">Dense</span>)                   │ (<span style=\"color: #00d7ff; text-decoration-color: #00d7ff\">None</span>, <span style=\"color: #00af00; text-decoration-color: #00af00\">10</span>)             │           <span style=\"color: #00af00; text-decoration-color: #00af00\">170</span> │\n",
       "├─────────────────────────────────┼────────────────────────┼───────────────┤\n",
       "│ dense_1 (<span style=\"color: #0087ff; text-decoration-color: #0087ff\">Dense</span>)                 │ (<span style=\"color: #00d7ff; text-decoration-color: #00d7ff\">None</span>, <span style=\"color: #00af00; text-decoration-color: #00af00\">9</span>)              │            <span style=\"color: #00af00; text-decoration-color: #00af00\">99</span> │\n",
       "└─────────────────────────────────┴────────────────────────┴───────────────┘\n",
       "</pre>\n"
      ],
      "text/plain": [
       "┏━━━━━━━━━━━━━━━━━━━━━━━━━━━━━━━━━┳━━━━━━━━━━━━━━━━━━━━━━━━┳━━━━━━━━━━━━━━━┓\n",
       "┃\u001b[1m \u001b[0m\u001b[1mLayer (type)                   \u001b[0m\u001b[1m \u001b[0m┃\u001b[1m \u001b[0m\u001b[1mOutput Shape          \u001b[0m\u001b[1m \u001b[0m┃\u001b[1m \u001b[0m\u001b[1m      Param #\u001b[0m\u001b[1m \u001b[0m┃\n",
       "┡━━━━━━━━━━━━━━━━━━━━━━━━━━━━━━━━━╇━━━━━━━━━━━━━━━━━━━━━━━━╇━━━━━━━━━━━━━━━┩\n",
       "│ reshape (\u001b[38;5;33mReshape\u001b[0m)               │ (\u001b[38;5;45mNone\u001b[0m, \u001b[38;5;34m16\u001b[0m, \u001b[38;5;34m4\u001b[0m)          │             \u001b[38;5;34m0\u001b[0m │\n",
       "├─────────────────────────────────┼────────────────────────┼───────────────┤\n",
       "│ dropout (\u001b[38;5;33mDropout\u001b[0m)               │ (\u001b[38;5;45mNone\u001b[0m, \u001b[38;5;34m16\u001b[0m, \u001b[38;5;34m4\u001b[0m)          │             \u001b[38;5;34m0\u001b[0m │\n",
       "├─────────────────────────────────┼────────────────────────┼───────────────┤\n",
       "│ lstm (\u001b[38;5;33mLSTM\u001b[0m)                     │ (\u001b[38;5;45mNone\u001b[0m, \u001b[38;5;34m16\u001b[0m)             │         \u001b[38;5;34m1,344\u001b[0m │\n",
       "├─────────────────────────────────┼────────────────────────┼───────────────┤\n",
       "│ dropout_1 (\u001b[38;5;33mDropout\u001b[0m)             │ (\u001b[38;5;45mNone\u001b[0m, \u001b[38;5;34m16\u001b[0m)             │             \u001b[38;5;34m0\u001b[0m │\n",
       "├─────────────────────────────────┼────────────────────────┼───────────────┤\n",
       "│ dense (\u001b[38;5;33mDense\u001b[0m)                   │ (\u001b[38;5;45mNone\u001b[0m, \u001b[38;5;34m10\u001b[0m)             │           \u001b[38;5;34m170\u001b[0m │\n",
       "├─────────────────────────────────┼────────────────────────┼───────────────┤\n",
       "│ dense_1 (\u001b[38;5;33mDense\u001b[0m)                 │ (\u001b[38;5;45mNone\u001b[0m, \u001b[38;5;34m9\u001b[0m)              │            \u001b[38;5;34m99\u001b[0m │\n",
       "└─────────────────────────────────┴────────────────────────┴───────────────┘\n"
      ]
     },
     "metadata": {},
     "output_type": "display_data"
    },
    {
     "data": {
      "text/html": [
       "<pre style=\"white-space:pre;overflow-x:auto;line-height:normal;font-family:Menlo,'DejaVu Sans Mono',consolas,'Courier New',monospace\"><span style=\"font-weight: bold\"> Total params: </span><span style=\"color: #00af00; text-decoration-color: #00af00\">1,613</span> (6.30 KB)\n",
       "</pre>\n"
      ],
      "text/plain": [
       "\u001b[1m Total params: \u001b[0m\u001b[38;5;34m1,613\u001b[0m (6.30 KB)\n"
      ]
     },
     "metadata": {},
     "output_type": "display_data"
    },
    {
     "data": {
      "text/html": [
       "<pre style=\"white-space:pre;overflow-x:auto;line-height:normal;font-family:Menlo,'DejaVu Sans Mono',consolas,'Courier New',monospace\"><span style=\"font-weight: bold\"> Trainable params: </span><span style=\"color: #00af00; text-decoration-color: #00af00\">1,613</span> (6.30 KB)\n",
       "</pre>\n"
      ],
      "text/plain": [
       "\u001b[1m Trainable params: \u001b[0m\u001b[38;5;34m1,613\u001b[0m (6.30 KB)\n"
      ]
     },
     "metadata": {},
     "output_type": "display_data"
    },
    {
     "data": {
      "text/html": [
       "<pre style=\"white-space:pre;overflow-x:auto;line-height:normal;font-family:Menlo,'DejaVu Sans Mono',consolas,'Courier New',monospace\"><span style=\"font-weight: bold\"> Non-trainable params: </span><span style=\"color: #00af00; text-decoration-color: #00af00\">0</span> (0.00 B)\n",
       "</pre>\n"
      ],
      "text/plain": [
       "\u001b[1m Non-trainable params: \u001b[0m\u001b[38;5;34m0\u001b[0m (0.00 B)\n"
      ]
     },
     "metadata": {},
     "output_type": "display_data"
    }
   ],
   "source": [
    "model.summary()  "
   ]
  },
  {
   "cell_type": "markdown",
   "metadata": {},
   "source": [
    "### *Graph*"
   ]
  },
  {
   "cell_type": "code",
   "execution_count": 20,
   "metadata": {},
   "outputs": [
    {
     "data": {
      "image/png": "[encoded data removed]",
      "text/plain": [
       "<IPython.core.display.Image object>"
      ]
     },
     "execution_count": 20,
     "metadata": {},
     "output_type": "execute_result"
    }
   ],
   "source": [
    "tf.keras.utils.plot_model(model, show_shapes=True, to_file=\"graph/ThumbAndIndexFingerGestureModelStructure.png\")"
   ]
  },
  {
   "cell_type": "markdown",
   "metadata": {},
   "source": [
    "## *Set up callbacks for the model*"
   ]
  },
  {
   "cell_type": "markdown",
   "metadata": {},
   "source": [
    "### *Model checkpoint callback*"
   ]
  },
  {
   "cell_type": "code",
   "execution_count": 21,
   "metadata": {},
   "outputs": [],
   "source": [
    "cp_callback = tf.keras.callbacks.ModelCheckpoint(\n",
    "    model_save_path, verbose=1, save_weights_only=False)"
   ]
  },
  {
   "cell_type": "markdown",
   "metadata": {},
   "source": [
    "### *Model early stopping callback*"
   ]
  },
  {
   "cell_type": "code",
   "execution_count": 22,
   "metadata": {},
   "outputs": [],
   "source": [
    "es_callback = tf.keras.callbacks.EarlyStopping(patience=20, verbose=1)"
   ]
  },
  {
   "cell_type": "markdown",
   "metadata": {},
   "source": [
    "## *Model compilation*"
   ]
  },
  {
   "cell_type": "code",
   "execution_count": 23,
   "metadata": {},
   "outputs": [],
   "source": [
    "model.compile(\n",
    "    optimizer='adam',\n",
    "    loss='sparse_categorical_crossentropy',\n",
    "    metrics=['accuracy']\n",
    ")"
   ]
  },
  {
   "cell_type": "markdown",
   "metadata": {},
   "source": [
    "# MODEL TRAINING"
   ]
  },
  {
   "cell_type": "code",
   "execution_count": 24,
   "metadata": {
    "scrolled": true
   },
   "outputs": [
    {
     "name": "stdout",
     "output_type": "stream",
     "text": [
      "Epoch 1/1000\n",
      "\u001b[1m16/27\u001b[0m \u001b[32m━━━━━━━━━━━\u001b[0m\u001b[37m━━━━━━━━━\u001b[0m \u001b[1m0s\u001b[0m 4ms/step - accuracy: 0.2038 - loss: 2.1866 \n",
      "Epoch 1: saving model to e:\\Games\\UnityProject\\HandDetection\\hand-gesture-recognition-using-mediapipe-main\\model\\thumb_and_index_finger_classifier\\thumb_and_index_finger_classifier.keras\n",
      "\u001b[1m27/27\u001b[0m \u001b[32m━━━━━━━━━━━━━━━━━━━━\u001b[0m\u001b[37m\u001b[0m \u001b[1m3s\u001b[0m 19ms/step - accuracy: 0.2407 - loss: 2.1823 - val_accuracy: 0.2462 - val_loss: 2.1515\n",
      "Epoch 2/1000\n",
      "\u001b[1m17/27\u001b[0m \u001b[32m━━━━━━━━━━━━\u001b[0m\u001b[37m━━━━━━━━\u001b[0m \u001b[1m0s\u001b[0m 3ms/step - accuracy: 0.2788 - loss: 2.1456 \n",
      "Epoch 2: saving model to e:\\Games\\UnityProject\\HandDetection\\hand-gesture-recognition-using-mediapipe-main\\model\\thumb_and_index_finger_classifier\\thumb_and_index_finger_classifier.keras\n",
      "\u001b[1m27/27\u001b[0m \u001b[32m━━━━━━━━━━━━━━━━━━━━\u001b[0m\u001b[37m\u001b[0m \u001b[1m0s\u001b[0m 5ms/step - accuracy: 0.2788 - loss: 2.1405 - val_accuracy: 0.2631 - val_loss: 2.0913\n",
      "Epoch 3/1000\n",
      "\u001b[1m16/27\u001b[0m \u001b[32m━━━━━━━━━━━\u001b[0m\u001b[37m━━━━━━━━━\u001b[0m \u001b[1m0s\u001b[0m 3ms/step - accuracy: 0.2457 - loss: 2.0874 \n",
      "Epoch 3: saving model to e:\\Games\\UnityProject\\HandDetection\\hand-gesture-recognition-using-mediapipe-main\\model\\thumb_and_index_finger_classifier\\thumb_and_index_finger_classifier.keras\n",
      "\u001b[1m27/27\u001b[0m \u001b[32m━━━━━━━━━━━━━━━━━━━━\u001b[0m\u001b[37m\u001b[0m \u001b[1m0s\u001b[0m 5ms/step - accuracy: 0.2537 - loss: 2.0715 - val_accuracy: 0.2649 - val_loss: 1.9287\n",
      "Epoch 4/1000\n",
      "\u001b[1m17/27\u001b[0m \u001b[32m━━━━━━━━━━━━\u001b[0m\u001b[37m━━━━━━━━\u001b[0m \u001b[1m0s\u001b[0m 3ms/step - accuracy: 0.2869 - loss: 1.9123 \n",
      "Epoch 4: saving model to e:\\Games\\UnityProject\\HandDetection\\hand-gesture-recognition-using-mediapipe-main\\model\\thumb_and_index_finger_classifier\\thumb_and_index_finger_classifier.keras\n",
      "\u001b[1m27/27\u001b[0m \u001b[32m━━━━━━━━━━━━━━━━━━━━\u001b[0m\u001b[37m\u001b[0m \u001b[1m0s\u001b[0m 5ms/step - accuracy: 0.2947 - loss: 1.8836 - val_accuracy: 0.2667 - val_loss: 1.6956\n",
      "Epoch 5/1000\n",
      "\u001b[1m17/27\u001b[0m \u001b[32m━━━━━━━━━━━━\u001b[0m\u001b[37m━━━━━━━━\u001b[0m \u001b[1m0s\u001b[0m 3ms/step - accuracy: 0.3452 - loss: 1.7558 \n",
      "Epoch 5: saving model to e:\\Games\\UnityProject\\HandDetection\\hand-gesture-recognition-using-mediapipe-main\\model\\thumb_and_index_finger_classifier\\thumb_and_index_finger_classifier.keras\n",
      "\u001b[1m27/27\u001b[0m \u001b[32m━━━━━━━━━━━━━━━━━━━━\u001b[0m\u001b[37m\u001b[0m \u001b[1m0s\u001b[0m 5ms/step - accuracy: 0.3725 - loss: 1.7365 - val_accuracy: 0.5458 - val_loss: 1.5433\n",
      "Epoch 6/1000\n",
      "\u001b[1m16/27\u001b[0m \u001b[32m━━━━━━━━━━━\u001b[0m\u001b[37m━━━━━━━━━\u001b[0m \u001b[1m0s\u001b[0m 3ms/step - accuracy: 0.5009 - loss: 1.5985 \n",
      "Epoch 6: saving model to e:\\Games\\UnityProject\\HandDetection\\hand-gesture-recognition-using-mediapipe-main\\model\\thumb_and_index_finger_classifier\\thumb_and_index_finger_classifier.keras\n",
      "\u001b[1m27/27\u001b[0m \u001b[32m━━━━━━━━━━━━━━━━━━━━\u001b[0m\u001b[37m\u001b[0m \u001b[1m0s\u001b[0m 5ms/step - accuracy: 0.5037 - loss: 1.5931 - val_accuracy: 0.5431 - val_loss: 1.4048\n",
      "Epoch 7/1000\n",
      "\u001b[1m15/27\u001b[0m \u001b[32m━━━━━━━━━━━\u001b[0m\u001b[37m━━━━━━━━━\u001b[0m \u001b[1m0s\u001b[0m 4ms/step - accuracy: 0.5276 - loss: 1.4914 \n",
      "Epoch 7: saving model to e:\\Games\\UnityProject\\HandDetection\\hand-gesture-recognition-using-mediapipe-main\\model\\thumb_and_index_finger_classifier\\thumb_and_index_finger_classifier.keras\n",
      "\u001b[1m27/27\u001b[0m \u001b[32m━━━━━━━━━━━━━━━━━━━━\u001b[0m\u001b[37m\u001b[0m \u001b[1m0s\u001b[0m 6ms/step - accuracy: 0.5239 - loss: 1.4844 - val_accuracy: 0.5458 - val_loss: 1.2954\n",
      "Epoch 8/1000\n",
      "\u001b[1m17/27\u001b[0m \u001b[32m━━━━━━━━━━━━\u001b[0m\u001b[37m━━━━━━━━\u001b[0m \u001b[1m0s\u001b[0m 3ms/step - accuracy: 0.5039 - loss: 1.4571 \n",
      "Epoch 8: saving model to e:\\Games\\UnityProject\\HandDetection\\hand-gesture-recognition-using-mediapipe-main\\model\\thumb_and_index_finger_classifier\\thumb_and_index_finger_classifier.keras\n",
      "\u001b[1m27/27\u001b[0m \u001b[32m━━━━━━━━━━━━━━━━━━━━\u001b[0m\u001b[37m\u001b[0m \u001b[1m0s\u001b[0m 5ms/step - accuracy: 0.5132 - loss: 1.4341 - val_accuracy: 0.5573 - val_loss: 1.1901\n",
      "Epoch 9/1000\n",
      "\u001b[1m17/27\u001b[0m \u001b[32m━━━━━━━━━━━━\u001b[0m\u001b[37m━━━━━━━━\u001b[0m \u001b[1m0s\u001b[0m 3ms/step - accuracy: 0.5365 - loss: 1.3191 \n",
      "Epoch 9: saving model to e:\\Games\\UnityProject\\HandDetection\\hand-gesture-recognition-using-mediapipe-main\\model\\thumb_and_index_finger_classifier\\thumb_and_index_finger_classifier.keras\n",
      "\u001b[1m27/27\u001b[0m \u001b[32m━━━━━━━━━━━━━━━━━━━━\u001b[0m\u001b[37m\u001b[0m \u001b[1m0s\u001b[0m 5ms/step - accuracy: 0.5385 - loss: 1.3137 - val_accuracy: 0.5956 - val_loss: 1.1390\n",
      "Epoch 10/1000\n",
      "\u001b[1m15/27\u001b[0m \u001b[32m━━━━━━━━━━━\u001b[0m\u001b[37m━━━━━━━━━\u001b[0m \u001b[1m0s\u001b[0m 4ms/step - accuracy: 0.5424 - loss: 1.3387 \n",
      "Epoch 10: saving model to e:\\Games\\UnityProject\\HandDetection\\hand-gesture-recognition-using-mediapipe-main\\model\\thumb_and_index_finger_classifier\\thumb_and_index_finger_classifier.keras\n",
      "\u001b[1m27/27\u001b[0m \u001b[32m━━━━━━━━━━━━━━━━━━━━\u001b[0m\u001b[37m\u001b[0m \u001b[1m0s\u001b[0m 6ms/step - accuracy: 0.5408 - loss: 1.3299 - val_accuracy: 0.5964 - val_loss: 1.0655\n",
      "Epoch 11/1000\n",
      "\u001b[1m16/27\u001b[0m \u001b[32m━━━━━━━━━━━\u001b[0m\u001b[37m━━━━━━━━━\u001b[0m \u001b[1m0s\u001b[0m 3ms/step - accuracy: 0.5580 - loss: 1.2089 \n",
      "Epoch 11: saving model to e:\\Games\\UnityProject\\HandDetection\\hand-gesture-recognition-using-mediapipe-main\\model\\thumb_and_index_finger_classifier\\thumb_and_index_finger_classifier.keras\n",
      "\u001b[1m27/27\u001b[0m \u001b[32m━━━━━━━━━━━━━━━━━━━━\u001b[0m\u001b[37m\u001b[0m \u001b[1m0s\u001b[0m 5ms/step - accuracy: 0.5584 - loss: 1.2087 - val_accuracy: 0.6213 - val_loss: 1.0003\n",
      "Epoch 12/1000\n",
      "\u001b[1m17/27\u001b[0m \u001b[32m━━━━━━━━━━━━\u001b[0m\u001b[37m━━━━━━━━\u001b[0m \u001b[1m0s\u001b[0m 3ms/step - accuracy: 0.5917 - loss: 1.1288 \n",
      "Epoch 12: saving model to e:\\Games\\UnityProject\\HandDetection\\hand-gesture-recognition-using-mediapipe-main\\model\\thumb_and_index_finger_classifier\\thumb_and_index_finger_classifier.keras\n",
      "\u001b[1m27/27\u001b[0m \u001b[32m━━━━━━━━━━━━━━━━━━━━\u001b[0m\u001b[37m\u001b[0m \u001b[1m0s\u001b[0m 5ms/step - accuracy: 0.5849 - loss: 1.1433 - val_accuracy: 0.6436 - val_loss: 0.9458\n",
      "Epoch 13/1000\n",
      "\u001b[1m17/27\u001b[0m \u001b[32m━━━━━━━━━━━━\u001b[0m\u001b[37m━━━━━━━━\u001b[0m \u001b[1m0s\u001b[0m 3ms/step - accuracy: 0.5566 - loss: 1.1620 \n",
      "Epoch 13: saving model to e:\\Games\\UnityProject\\HandDetection\\hand-gesture-recognition-using-mediapipe-main\\model\\thumb_and_index_finger_classifier\\thumb_and_index_finger_classifier.keras\n",
      "\u001b[1m27/27\u001b[0m \u001b[32m━━━━━━━━━━━━━━━━━━━━\u001b[0m\u001b[37m\u001b[0m \u001b[1m0s\u001b[0m 5ms/step - accuracy: 0.5673 - loss: 1.1455 - val_accuracy: 0.6542 - val_loss: 0.9181\n",
      "Epoch 14/1000\n",
      "\u001b[1m16/27\u001b[0m \u001b[32m━━━━━━━━━━━\u001b[0m\u001b[37m━━━━━━━━━\u001b[0m \u001b[1m0s\u001b[0m 3ms/step - accuracy: 0.5930 - loss: 1.0909 \n",
      "Epoch 14: saving model to e:\\Games\\UnityProject\\HandDetection\\hand-gesture-recognition-using-mediapipe-main\\model\\thumb_and_index_finger_classifier\\thumb_and_index_finger_classifier.keras\n",
      "\u001b[1m27/27\u001b[0m \u001b[32m━━━━━━━━━━━━━━━━━━━━\u001b[0m\u001b[37m\u001b[0m \u001b[1m0s\u001b[0m 6ms/step - accuracy: 0.5965 - loss: 1.0901 - val_accuracy: 0.6604 - val_loss: 0.8719\n",
      "Epoch 15/1000\n",
      "\u001b[1m17/27\u001b[0m \u001b[32m━━━━━━━━━━━━\u001b[0m\u001b[37m━━━━━━━━\u001b[0m \u001b[1m0s\u001b[0m 3ms/step - accuracy: 0.5947 - loss: 1.1068 \n",
      "Epoch 15: saving model to e:\\Games\\UnityProject\\HandDetection\\hand-gesture-recognition-using-mediapipe-main\\model\\thumb_and_index_finger_classifier\\thumb_and_index_finger_classifier.keras\n",
      "\u001b[1m27/27\u001b[0m \u001b[32m━━━━━━━━━━━━━━━━━━━━\u001b[0m\u001b[37m\u001b[0m \u001b[1m0s\u001b[0m 5ms/step - accuracy: 0.6018 - loss: 1.0925 - val_accuracy: 0.6960 - val_loss: 0.8271\n",
      "Epoch 16/1000\n",
      "\u001b[1m17/27\u001b[0m \u001b[32m━━━━━━━━━━━━\u001b[0m\u001b[37m━━━━━━━━\u001b[0m \u001b[1m0s\u001b[0m 3ms/step - accuracy: 0.6161 - loss: 1.0168 \n",
      "Epoch 16: saving model to e:\\Games\\UnityProject\\HandDetection\\hand-gesture-recognition-using-mediapipe-main\\model\\thumb_and_index_finger_classifier\\thumb_and_index_finger_classifier.keras\n",
      "\u001b[1m27/27\u001b[0m \u001b[32m━━━━━━━━━━━━━━━━━━━━\u001b[0m\u001b[37m\u001b[0m \u001b[1m0s\u001b[0m 5ms/step - accuracy: 0.6188 - loss: 1.0129 - val_accuracy: 0.7102 - val_loss: 0.7848\n",
      "Epoch 17/1000\n",
      "\u001b[1m16/27\u001b[0m \u001b[32m━━━━━━━━━━━\u001b[0m\u001b[37m━━━━━━━━━\u001b[0m \u001b[1m0s\u001b[0m 3ms/step - accuracy: 0.6122 - loss: 1.0272 \n",
      "Epoch 17: saving model to e:\\Games\\UnityProject\\HandDetection\\hand-gesture-recognition-using-mediapipe-main\\model\\thumb_and_index_finger_classifier\\thumb_and_index_finger_classifier.keras\n",
      "\u001b[1m27/27\u001b[0m \u001b[32m━━━━━━━━━━━━━━━━━━━━\u001b[0m\u001b[37m\u001b[0m \u001b[1m0s\u001b[0m 6ms/step - accuracy: 0.6184 - loss: 1.0119 - val_accuracy: 0.7289 - val_loss: 0.7974\n",
      "Epoch 18/1000\n",
      "\u001b[1m16/27\u001b[0m \u001b[32m━━━━━━━━━━━\u001b[0m\u001b[37m━━━━━━━━━\u001b[0m \u001b[1m0s\u001b[0m 3ms/step - accuracy: 0.6205 - loss: 0.9868 \n",
      "Epoch 18: saving model to e:\\Games\\UnityProject\\HandDetection\\hand-gesture-recognition-using-mediapipe-main\\model\\thumb_and_index_finger_classifier\\thumb_and_index_finger_classifier.keras\n",
      "\u001b[1m27/27\u001b[0m \u001b[32m━━━━━━━━━━━━━━━━━━━━\u001b[0m\u001b[37m\u001b[0m \u001b[1m0s\u001b[0m 5ms/step - accuracy: 0.6269 - loss: 0.9782 - val_accuracy: 0.7431 - val_loss: 0.7196\n",
      "Epoch 19/1000\n",
      "\u001b[1m16/27\u001b[0m \u001b[32m━━━━━━━━━━━\u001b[0m\u001b[37m━━━━━━━━━\u001b[0m \u001b[1m0s\u001b[0m 4ms/step - accuracy: 0.6522 - loss: 0.9336 \n",
      "Epoch 19: saving model to e:\\Games\\UnityProject\\HandDetection\\hand-gesture-recognition-using-mediapipe-main\\model\\thumb_and_index_finger_classifier\\thumb_and_index_finger_classifier.keras\n",
      "\u001b[1m27/27\u001b[0m \u001b[32m━━━━━━━━━━━━━━━━━━━━\u001b[0m\u001b[37m\u001b[0m \u001b[1m0s\u001b[0m 6ms/step - accuracy: 0.6536 - loss: 0.9289 - val_accuracy: 0.7662 - val_loss: 0.6919\n",
      "Epoch 20/1000\n",
      "\u001b[1m17/27\u001b[0m \u001b[32m━━━━━━━━━━━━\u001b[0m\u001b[37m━━━━━━━━\u001b[0m \u001b[1m0s\u001b[0m 3ms/step - accuracy: 0.6720 - loss: 0.9147 \n",
      "Epoch 20: saving model to e:\\Games\\UnityProject\\HandDetection\\hand-gesture-recognition-using-mediapipe-main\\model\\thumb_and_index_finger_classifier\\thumb_and_index_finger_classifier.keras\n",
      "\u001b[1m27/27\u001b[0m \u001b[32m━━━━━━━━━━━━━━━━━━━━\u001b[0m\u001b[37m\u001b[0m \u001b[1m0s\u001b[0m 5ms/step - accuracy: 0.6708 - loss: 0.9125 - val_accuracy: 0.7840 - val_loss: 0.6570\n",
      "Epoch 21/1000\n",
      "\u001b[1m15/27\u001b[0m \u001b[32m━━━━━━━━━━━\u001b[0m\u001b[37m━━━━━━━━━\u001b[0m \u001b[1m0s\u001b[0m 4ms/step - accuracy: 0.6817 - loss: 0.8609 \n",
      "Epoch 21: saving model to e:\\Games\\UnityProject\\HandDetection\\hand-gesture-recognition-using-mediapipe-main\\model\\thumb_and_index_finger_classifier\\thumb_and_index_finger_classifier.keras\n",
      "\u001b[1m27/27\u001b[0m \u001b[32m━━━━━━━━━━━━━━━━━━━━\u001b[0m\u001b[37m\u001b[0m \u001b[1m0s\u001b[0m 6ms/step - accuracy: 0.6788 - loss: 0.8636 - val_accuracy: 0.7973 - val_loss: 0.6233\n",
      "Epoch 22/1000\n",
      "\u001b[1m16/27\u001b[0m \u001b[32m━━━━━━━━━━━\u001b[0m\u001b[37m━━━━━━━━━\u001b[0m \u001b[1m0s\u001b[0m 3ms/step - accuracy: 0.6862 - loss: 0.8870 \n",
      "Epoch 22: saving model to e:\\Games\\UnityProject\\HandDetection\\hand-gesture-recognition-using-mediapipe-main\\model\\thumb_and_index_finger_classifier\\thumb_and_index_finger_classifier.keras\n",
      "\u001b[1m27/27\u001b[0m \u001b[32m━━━━━━━━━━━━━━━━━━━━\u001b[0m\u001b[37m\u001b[0m \u001b[1m0s\u001b[0m 5ms/step - accuracy: 0.6877 - loss: 0.8717 - val_accuracy: 0.8213 - val_loss: 0.5885\n",
      "Epoch 23/1000\n",
      "\u001b[1m14/27\u001b[0m \u001b[32m━━━━━━━━━━\u001b[0m\u001b[37m━━━━━━━━━━\u001b[0m \u001b[1m0s\u001b[0m 4ms/step - accuracy: 0.7107 - loss: 0.7877 \n",
      "Epoch 23: saving model to e:\\Games\\UnityProject\\HandDetection\\hand-gesture-recognition-using-mediapipe-main\\model\\thumb_and_index_finger_classifier\\thumb_and_index_finger_classifier.keras\n",
      "\u001b[1m27/27\u001b[0m \u001b[32m━━━━━━━━━━━━━━━━━━━━\u001b[0m\u001b[37m\u001b[0m \u001b[1m0s\u001b[0m 6ms/step - accuracy: 0.7072 - loss: 0.7945 - val_accuracy: 0.8293 - val_loss: 0.5636\n",
      "Epoch 24/1000\n",
      "\u001b[1m25/27\u001b[0m \u001b[32m━━━━━━━━━━━━━━━━━━\u001b[0m\u001b[37m━━\u001b[0m \u001b[1m0s\u001b[0m 4ms/step - accuracy: 0.7043 - loss: 0.7970\n",
      "Epoch 24: saving model to e:\\Games\\UnityProject\\HandDetection\\hand-gesture-recognition-using-mediapipe-main\\model\\thumb_and_index_finger_classifier\\thumb_and_index_finger_classifier.keras\n",
      "\u001b[1m27/27\u001b[0m \u001b[32m━━━━━━━━━━━━━━━━━━━━\u001b[0m\u001b[37m\u001b[0m \u001b[1m0s\u001b[0m 6ms/step - accuracy: 0.7048 - loss: 0.7958 - val_accuracy: 0.8160 - val_loss: 0.5482\n",
      "Epoch 25/1000\n",
      "\u001b[1m17/27\u001b[0m \u001b[32m━━━━━━━━━━━━\u001b[0m\u001b[37m━━━━━━━━\u001b[0m \u001b[1m0s\u001b[0m 3ms/step - accuracy: 0.7027 - loss: 0.8116 \n",
      "Epoch 25: saving model to e:\\Games\\UnityProject\\HandDetection\\hand-gesture-recognition-using-mediapipe-main\\model\\thumb_and_index_finger_classifier\\thumb_and_index_finger_classifier.keras\n",
      "\u001b[1m27/27\u001b[0m \u001b[32m━━━━━━━━━━━━━━━━━━━━\u001b[0m\u001b[37m\u001b[0m \u001b[1m0s\u001b[0m 5ms/step - accuracy: 0.7092 - loss: 0.7929 - val_accuracy: 0.8418 - val_loss: 0.5235\n",
      "Epoch 26/1000\n",
      "\u001b[1m15/27\u001b[0m \u001b[32m━━━━━━━━━━━\u001b[0m\u001b[37m━━━━━━━━━\u001b[0m \u001b[1m0s\u001b[0m 4ms/step - accuracy: 0.6931 - loss: 0.7833 \n",
      "Epoch 26: saving model to e:\\Games\\UnityProject\\HandDetection\\hand-gesture-recognition-using-mediapipe-main\\model\\thumb_and_index_finger_classifier\\thumb_and_index_finger_classifier.keras\n",
      "\u001b[1m27/27\u001b[0m \u001b[32m━━━━━━━━━━━━━━━━━━━━\u001b[0m\u001b[37m\u001b[0m \u001b[1m0s\u001b[0m 6ms/step - accuracy: 0.7045 - loss: 0.7646 - val_accuracy: 0.8213 - val_loss: 0.5346\n",
      "Epoch 27/1000\n",
      "\u001b[1m16/27\u001b[0m \u001b[32m━━━━━━━━━━━\u001b[0m\u001b[37m━━━━━━━━━\u001b[0m \u001b[1m0s\u001b[0m 3ms/step - accuracy: 0.7185 - loss: 0.7600 \n",
      "Epoch 27: saving model to e:\\Games\\UnityProject\\HandDetection\\hand-gesture-recognition-using-mediapipe-main\\model\\thumb_and_index_finger_classifier\\thumb_and_index_finger_classifier.keras\n",
      "\u001b[1m27/27\u001b[0m \u001b[32m━━━━━━━━━━━━━━━━━━━━\u001b[0m\u001b[37m\u001b[0m \u001b[1m0s\u001b[0m 5ms/step - accuracy: 0.7226 - loss: 0.7474 - val_accuracy: 0.8498 - val_loss: 0.4827\n",
      "Epoch 28/1000\n",
      "\u001b[1m15/27\u001b[0m \u001b[32m━━━━━━━━━━━\u001b[0m\u001b[37m━━━━━━━━━\u001b[0m \u001b[1m0s\u001b[0m 4ms/step - accuracy: 0.7345 - loss: 0.7512 \n",
      "Epoch 28: saving model to e:\\Games\\UnityProject\\HandDetection\\hand-gesture-recognition-using-mediapipe-main\\model\\thumb_and_index_finger_classifier\\thumb_and_index_finger_classifier.keras\n",
      "\u001b[1m27/27\u001b[0m \u001b[32m━━━━━━━━━━━━━━━━━━━━\u001b[0m\u001b[37m\u001b[0m \u001b[1m0s\u001b[0m 6ms/step - accuracy: 0.7371 - loss: 0.7348 - val_accuracy: 0.8489 - val_loss: 0.4692\n",
      "Epoch 29/1000\n",
      "\u001b[1m17/27\u001b[0m \u001b[32m━━━━━━━━━━━━\u001b[0m\u001b[37m━━━━━━━━\u001b[0m \u001b[1m0s\u001b[0m 3ms/step - accuracy: 0.7669 - loss: 0.6799 \n",
      "Epoch 29: saving model to e:\\Games\\UnityProject\\HandDetection\\hand-gesture-recognition-using-mediapipe-main\\model\\thumb_and_index_finger_classifier\\thumb_and_index_finger_classifier.keras\n",
      "\u001b[1m27/27\u001b[0m \u001b[32m━━━━━━━━━━━━━━━━━━━━\u001b[0m\u001b[37m\u001b[0m \u001b[1m0s\u001b[0m 5ms/step - accuracy: 0.7596 - loss: 0.6828 - val_accuracy: 0.8453 - val_loss: 0.4646\n",
      "Epoch 30/1000\n",
      "\u001b[1m16/27\u001b[0m \u001b[32m━━━━━━━━━━━\u001b[0m\u001b[37m━━━━━━━━━\u001b[0m \u001b[1m0s\u001b[0m 3ms/step - accuracy: 0.7208 - loss: 0.7103 \n",
      "Epoch 30: saving model to e:\\Games\\UnityProject\\HandDetection\\hand-gesture-recognition-using-mediapipe-main\\model\\thumb_and_index_finger_classifier\\thumb_and_index_finger_classifier.keras\n",
      "\u001b[1m27/27\u001b[0m \u001b[32m━━━━━━━━━━━━━━━━━━━━\u001b[0m\u001b[37m\u001b[0m \u001b[1m0s\u001b[0m 6ms/step - accuracy: 0.7307 - loss: 0.6961 - val_accuracy: 0.8604 - val_loss: 0.4345\n",
      "Epoch 31/1000\n",
      "\u001b[1m17/27\u001b[0m \u001b[32m━━━━━━━━━━━━\u001b[0m\u001b[37m━━━━━━━━\u001b[0m \u001b[1m0s\u001b[0m 3ms/step - accuracy: 0.7378 - loss: 0.6709 \n",
      "Epoch 31: saving model to e:\\Games\\UnityProject\\HandDetection\\hand-gesture-recognition-using-mediapipe-main\\model\\thumb_and_index_finger_classifier\\thumb_and_index_finger_classifier.keras\n",
      "\u001b[1m27/27\u001b[0m \u001b[32m━━━━━━━━━━━━━━━━━━━━\u001b[0m\u001b[37m\u001b[0m \u001b[1m0s\u001b[0m 5ms/step - accuracy: 0.7420 - loss: 0.6612 - val_accuracy: 0.8649 - val_loss: 0.4206\n",
      "Epoch 32/1000\n",
      "\u001b[1m17/27\u001b[0m \u001b[32m━━━━━━━━━━━━\u001b[0m\u001b[37m━━━━━━━━\u001b[0m \u001b[1m0s\u001b[0m 3ms/step - accuracy: 0.7588 - loss: 0.6636 \n",
      "Epoch 32: saving model to e:\\Games\\UnityProject\\HandDetection\\hand-gesture-recognition-using-mediapipe-main\\model\\thumb_and_index_finger_classifier\\thumb_and_index_finger_classifier.keras\n",
      "\u001b[1m27/27\u001b[0m \u001b[32m━━━━━━━━━━━━━━━━━━━━\u001b[0m\u001b[37m\u001b[0m \u001b[1m0s\u001b[0m 5ms/step - accuracy: 0.7601 - loss: 0.6546 - val_accuracy: 0.8693 - val_loss: 0.4129\n",
      "Epoch 33/1000\n",
      "\u001b[1m16/27\u001b[0m \u001b[32m━━━━━━━━━━━\u001b[0m\u001b[37m━━━━━━━━━\u001b[0m \u001b[1m0s\u001b[0m 3ms/step - accuracy: 0.7715 - loss: 0.6105 \n",
      "Epoch 33: saving model to e:\\Games\\UnityProject\\HandDetection\\hand-gesture-recognition-using-mediapipe-main\\model\\thumb_and_index_finger_classifier\\thumb_and_index_finger_classifier.keras\n",
      "\u001b[1m27/27\u001b[0m \u001b[32m━━━━━━━━━━━━━━━━━━━━\u001b[0m\u001b[37m\u001b[0m \u001b[1m0s\u001b[0m 5ms/step - accuracy: 0.7653 - loss: 0.6176 - val_accuracy: 0.8702 - val_loss: 0.3991\n",
      "Epoch 34/1000\n",
      "\u001b[1m16/27\u001b[0m \u001b[32m━━━━━━━━━━━\u001b[0m\u001b[37m━━━━━━━━━\u001b[0m \u001b[1m0s\u001b[0m 3ms/step - accuracy: 0.7690 - loss: 0.6347 \n",
      "Epoch 34: saving model to e:\\Games\\UnityProject\\HandDetection\\hand-gesture-recognition-using-mediapipe-main\\model\\thumb_and_index_finger_classifier\\thumb_and_index_finger_classifier.keras\n",
      "\u001b[1m27/27\u001b[0m \u001b[32m━━━━━━━━━━━━━━━━━━━━\u001b[0m\u001b[37m\u001b[0m \u001b[1m0s\u001b[0m 6ms/step - accuracy: 0.7699 - loss: 0.6302 - val_accuracy: 0.8720 - val_loss: 0.3900\n",
      "Epoch 35/1000\n",
      "\u001b[1m16/27\u001b[0m \u001b[32m━━━━━━━━━━━\u001b[0m\u001b[37m━━━━━━━━━\u001b[0m \u001b[1m0s\u001b[0m 4ms/step - accuracy: 0.7688 - loss: 0.6295 \n",
      "Epoch 35: saving model to e:\\Games\\UnityProject\\HandDetection\\hand-gesture-recognition-using-mediapipe-main\\model\\thumb_and_index_finger_classifier\\thumb_and_index_finger_classifier.keras\n",
      "\u001b[1m27/27\u001b[0m \u001b[32m━━━━━━━━━━━━━━━━━━━━\u001b[0m\u001b[37m\u001b[0m \u001b[1m0s\u001b[0m 6ms/step - accuracy: 0.7716 - loss: 0.6167 - val_accuracy: 0.8800 - val_loss: 0.3726\n",
      "Epoch 36/1000\n",
      "\u001b[1m15/27\u001b[0m \u001b[32m━━━━━━━━━━━\u001b[0m\u001b[37m━━━━━━━━━\u001b[0m \u001b[1m0s\u001b[0m 4ms/step - accuracy: 0.7852 - loss: 0.5877 \n",
      "Epoch 36: saving model to e:\\Games\\UnityProject\\HandDetection\\hand-gesture-recognition-using-mediapipe-main\\model\\thumb_and_index_finger_classifier\\thumb_and_index_finger_classifier.keras\n",
      "\u001b[1m27/27\u001b[0m \u001b[32m━━━━━━━━━━━━━━━━━━━━\u001b[0m\u001b[37m\u001b[0m \u001b[1m0s\u001b[0m 6ms/step - accuracy: 0.7816 - loss: 0.5902 - val_accuracy: 0.8809 - val_loss: 0.3698\n",
      "Epoch 37/1000\n",
      "\u001b[1m16/27\u001b[0m \u001b[32m━━━━━━━━━━━\u001b[0m\u001b[37m━━━━━━━━━\u001b[0m \u001b[1m0s\u001b[0m 3ms/step - accuracy: 0.7854 - loss: 0.5502 \n",
      "Epoch 37: saving model to e:\\Games\\UnityProject\\HandDetection\\hand-gesture-recognition-using-mediapipe-main\\model\\thumb_and_index_finger_classifier\\thumb_and_index_finger_classifier.keras\n",
      "\u001b[1m27/27\u001b[0m \u001b[32m━━━━━━━━━━━━━━━━━━━━\u001b[0m\u001b[37m\u001b[0m \u001b[1m0s\u001b[0m 5ms/step - accuracy: 0.7806 - loss: 0.5599 - val_accuracy: 0.8747 - val_loss: 0.3619\n",
      "Epoch 38/1000\n",
      "\u001b[1m25/27\u001b[0m \u001b[32m━━━━━━━━━━━━━━━━━━\u001b[0m\u001b[37m━━\u001b[0m \u001b[1m0s\u001b[0m 4ms/step - accuracy: 0.7795 - loss: 0.5866\n",
      "Epoch 38: saving model to e:\\Games\\UnityProject\\HandDetection\\hand-gesture-recognition-using-mediapipe-main\\model\\thumb_and_index_finger_classifier\\thumb_and_index_finger_classifier.keras\n",
      "\u001b[1m27/27\u001b[0m \u001b[32m━━━━━━━━━━━━━━━━━━━━\u001b[0m\u001b[37m\u001b[0m \u001b[1m0s\u001b[0m 6ms/step - accuracy: 0.7799 - loss: 0.5850 - val_accuracy: 0.8800 - val_loss: 0.3529\n",
      "Epoch 39/1000\n",
      "\u001b[1m15/27\u001b[0m \u001b[32m━━━━━━━━━━━\u001b[0m\u001b[37m━━━━━━━━━\u001b[0m \u001b[1m0s\u001b[0m 4ms/step - accuracy: 0.7703 - loss: 0.5697 \n",
      "Epoch 39: saving model to e:\\Games\\UnityProject\\HandDetection\\hand-gesture-recognition-using-mediapipe-main\\model\\thumb_and_index_finger_classifier\\thumb_and_index_finger_classifier.keras\n",
      "\u001b[1m27/27\u001b[0m \u001b[32m━━━━━━━━━━━━━━━━━━━━\u001b[0m\u001b[37m\u001b[0m \u001b[1m0s\u001b[0m 6ms/step - accuracy: 0.7768 - loss: 0.5614 - val_accuracy: 0.8818 - val_loss: 0.3463\n",
      "Epoch 40/1000\n",
      "\u001b[1m14/27\u001b[0m \u001b[32m━━━━━━━━━━\u001b[0m\u001b[37m━━━━━━━━━━\u001b[0m \u001b[1m0s\u001b[0m 4ms/step - accuracy: 0.8069 - loss: 0.5468 \n",
      "Epoch 40: saving model to e:\\Games\\UnityProject\\HandDetection\\hand-gesture-recognition-using-mediapipe-main\\model\\thumb_and_index_finger_classifier\\thumb_and_index_finger_classifier.keras\n",
      "\u001b[1m27/27\u001b[0m \u001b[32m━━━━━━━━━━━━━━━━━━━━\u001b[0m\u001b[37m\u001b[0m \u001b[1m0s\u001b[0m 6ms/step - accuracy: 0.8019 - loss: 0.5519 - val_accuracy: 0.8889 - val_loss: 0.3390\n",
      "Epoch 41/1000\n",
      "\u001b[1m16/27\u001b[0m \u001b[32m━━━━━━━━━━━\u001b[0m\u001b[37m━━━━━━━━━\u001b[0m \u001b[1m0s\u001b[0m 3ms/step - accuracy: 0.7806 - loss: 0.5391 \n",
      "Epoch 41: saving model to e:\\Games\\UnityProject\\HandDetection\\hand-gesture-recognition-using-mediapipe-main\\model\\thumb_and_index_finger_classifier\\thumb_and_index_finger_classifier.keras\n",
      "\u001b[1m27/27\u001b[0m \u001b[32m━━━━━━━━━━━━━━━━━━━━\u001b[0m\u001b[37m\u001b[0m \u001b[1m0s\u001b[0m 5ms/step - accuracy: 0.7842 - loss: 0.5415 - val_accuracy: 0.8818 - val_loss: 0.3315\n",
      "Epoch 42/1000\n",
      "\u001b[1m24/27\u001b[0m \u001b[32m━━━━━━━━━━━━━━━━━\u001b[0m\u001b[37m━━━\u001b[0m \u001b[1m0s\u001b[0m 4ms/step - accuracy: 0.7972 - loss: 0.5350\n",
      "Epoch 42: saving model to e:\\Games\\UnityProject\\HandDetection\\hand-gesture-recognition-using-mediapipe-main\\model\\thumb_and_index_finger_classifier\\thumb_and_index_finger_classifier.keras\n",
      "\u001b[1m27/27\u001b[0m \u001b[32m━━━━━━━━━━━━━━━━━━━━\u001b[0m\u001b[37m\u001b[0m \u001b[1m0s\u001b[0m 7ms/step - accuracy: 0.7977 - loss: 0.5346 - val_accuracy: 0.8862 - val_loss: 0.3220\n",
      "Epoch 43/1000\n",
      "\u001b[1m16/27\u001b[0m \u001b[32m━━━━━━━━━━━\u001b[0m\u001b[37m━━━━━━━━━\u001b[0m \u001b[1m0s\u001b[0m 3ms/step - accuracy: 0.8030 - loss: 0.5212 \n",
      "Epoch 43: saving model to e:\\Games\\UnityProject\\HandDetection\\hand-gesture-recognition-using-mediapipe-main\\model\\thumb_and_index_finger_classifier\\thumb_and_index_finger_classifier.keras\n",
      "\u001b[1m27/27\u001b[0m \u001b[32m━━━━━━━━━━━━━━━━━━━━\u001b[0m\u001b[37m\u001b[0m \u001b[1m0s\u001b[0m 6ms/step - accuracy: 0.8017 - loss: 0.5237 - val_accuracy: 0.8960 - val_loss: 0.3181\n",
      "Epoch 44/1000\n",
      "\u001b[1m16/27\u001b[0m \u001b[32m━━━━━━━━━━━\u001b[0m\u001b[37m━━━━━━━━━\u001b[0m \u001b[1m0s\u001b[0m 3ms/step - accuracy: 0.8068 - loss: 0.5158 \n",
      "Epoch 44: saving model to e:\\Games\\UnityProject\\HandDetection\\hand-gesture-recognition-using-mediapipe-main\\model\\thumb_and_index_finger_classifier\\thumb_and_index_finger_classifier.keras\n",
      "\u001b[1m27/27\u001b[0m \u001b[32m━━━━━━━━━━━━━━━━━━━━\u001b[0m\u001b[37m\u001b[0m \u001b[1m0s\u001b[0m 5ms/step - accuracy: 0.8024 - loss: 0.5182 - val_accuracy: 0.8836 - val_loss: 0.3218\n",
      "Epoch 45/1000\n",
      "\u001b[1m15/27\u001b[0m \u001b[32m━━━━━━━━━━━\u001b[0m\u001b[37m━━━━━━━━━\u001b[0m \u001b[1m0s\u001b[0m 4ms/step - accuracy: 0.7955 - loss: 0.5367 \n",
      "Epoch 45: saving model to e:\\Games\\UnityProject\\HandDetection\\hand-gesture-recognition-using-mediapipe-main\\model\\thumb_and_index_finger_classifier\\thumb_and_index_finger_classifier.keras\n",
      "\u001b[1m27/27\u001b[0m \u001b[32m━━━━━━━━━━━━━━━━━━━━\u001b[0m\u001b[37m\u001b[0m \u001b[1m0s\u001b[0m 6ms/step - accuracy: 0.7962 - loss: 0.5326 - val_accuracy: 0.8898 - val_loss: 0.3176\n",
      "Epoch 46/1000\n",
      "\u001b[1m13/27\u001b[0m \u001b[32m━━━━━━━━━\u001b[0m\u001b[37m━━━━━━━━━━━\u001b[0m \u001b[1m0s\u001b[0m 4ms/step - accuracy: 0.8258 - loss: 0.4943 \n",
      "Epoch 46: saving model to e:\\Games\\UnityProject\\HandDetection\\hand-gesture-recognition-using-mediapipe-main\\model\\thumb_and_index_finger_classifier\\thumb_and_index_finger_classifier.keras\n",
      "\u001b[1m27/27\u001b[0m \u001b[32m━━━━━━━━━━━━━━━━━━━━\u001b[0m\u001b[37m\u001b[0m \u001b[1m0s\u001b[0m 6ms/step - accuracy: 0.8171 - loss: 0.5062 - val_accuracy: 0.8898 - val_loss: 0.3110\n",
      "Epoch 47/1000\n",
      "\u001b[1m16/27\u001b[0m \u001b[32m━━━━━━━━━━━\u001b[0m\u001b[37m━━━━━━━━━\u001b[0m \u001b[1m0s\u001b[0m 3ms/step - accuracy: 0.8190 - loss: 0.4986 \n",
      "Epoch 47: saving model to e:\\Games\\UnityProject\\HandDetection\\hand-gesture-recognition-using-mediapipe-main\\model\\thumb_and_index_finger_classifier\\thumb_and_index_finger_classifier.keras\n",
      "\u001b[1m27/27\u001b[0m \u001b[32m━━━━━━━━━━━━━━━━━━━━\u001b[0m\u001b[37m\u001b[0m \u001b[1m0s\u001b[0m 6ms/step - accuracy: 0.8183 - loss: 0.4985 - val_accuracy: 0.8933 - val_loss: 0.3031\n",
      "Epoch 48/1000\n",
      "\u001b[1m15/27\u001b[0m \u001b[32m━━━━━━━━━━━\u001b[0m\u001b[37m━━━━━━━━━\u001b[0m \u001b[1m0s\u001b[0m 4ms/step - accuracy: 0.8265 - loss: 0.4841 \n",
      "Epoch 48: saving model to e:\\Games\\UnityProject\\HandDetection\\hand-gesture-recognition-using-mediapipe-main\\model\\thumb_and_index_finger_classifier\\thumb_and_index_finger_classifier.keras\n",
      "\u001b[1m27/27\u001b[0m \u001b[32m━━━━━━━━━━━━━━━━━━━━\u001b[0m\u001b[37m\u001b[0m \u001b[1m0s\u001b[0m 6ms/step - accuracy: 0.8217 - loss: 0.4882 - val_accuracy: 0.8978 - val_loss: 0.2962\n",
      "Epoch 49/1000\n",
      "\u001b[1m15/27\u001b[0m \u001b[32m━━━━━━━━━━━\u001b[0m\u001b[37m━━━━━━━━━\u001b[0m \u001b[1m0s\u001b[0m 4ms/step - accuracy: 0.8190 - loss: 0.4966 \n",
      "Epoch 49: saving model to e:\\Games\\UnityProject\\HandDetection\\hand-gesture-recognition-using-mediapipe-main\\model\\thumb_and_index_finger_classifier\\thumb_and_index_finger_classifier.keras\n",
      "\u001b[1m27/27\u001b[0m \u001b[32m━━━━━━━━━━━━━━━━━━━━\u001b[0m\u001b[37m\u001b[0m \u001b[1m0s\u001b[0m 6ms/step - accuracy: 0.8197 - loss: 0.4905 - val_accuracy: 0.8969 - val_loss: 0.2965\n",
      "Epoch 50/1000\n",
      "\u001b[1m15/27\u001b[0m \u001b[32m━━━━━━━━━━━\u001b[0m\u001b[37m━━━━━━━━━\u001b[0m \u001b[1m0s\u001b[0m 4ms/step - accuracy: 0.8308 - loss: 0.4625 \n",
      "Epoch 50: saving model to e:\\Games\\UnityProject\\HandDetection\\hand-gesture-recognition-using-mediapipe-main\\model\\thumb_and_index_finger_classifier\\thumb_and_index_finger_classifier.keras\n",
      "\u001b[1m27/27\u001b[0m \u001b[32m━━━━━━━━━━━━━━━━━━━━\u001b[0m\u001b[37m\u001b[0m \u001b[1m0s\u001b[0m 6ms/step - accuracy: 0.8298 - loss: 0.4603 - val_accuracy: 0.8987 - val_loss: 0.2882\n",
      "Epoch 51/1000\n",
      "\u001b[1m16/27\u001b[0m \u001b[32m━━━━━━━━━━━\u001b[0m\u001b[37m━━━━━━━━━\u001b[0m \u001b[1m0s\u001b[0m 4ms/step - accuracy: 0.8296 - loss: 0.4748 \n",
      "Epoch 51: saving model to e:\\Games\\UnityProject\\HandDetection\\hand-gesture-recognition-using-mediapipe-main\\model\\thumb_and_index_finger_classifier\\thumb_and_index_finger_classifier.keras\n",
      "\u001b[1m27/27\u001b[0m \u001b[32m━━━━━━━━━━━━━━━━━━━━\u001b[0m\u001b[37m\u001b[0m \u001b[1m0s\u001b[0m 6ms/step - accuracy: 0.8291 - loss: 0.4692 - val_accuracy: 0.8987 - val_loss: 0.2820\n",
      "Epoch 52/1000\n",
      "\u001b[1m16/27\u001b[0m \u001b[32m━━━━━━━━━━━\u001b[0m\u001b[37m━━━━━━━━━\u001b[0m \u001b[1m0s\u001b[0m 4ms/step - accuracy: 0.8196 - loss: 0.4769 \n",
      "Epoch 52: saving model to e:\\Games\\UnityProject\\HandDetection\\hand-gesture-recognition-using-mediapipe-main\\model\\thumb_and_index_finger_classifier\\thumb_and_index_finger_classifier.keras\n",
      "\u001b[1m27/27\u001b[0m \u001b[32m━━━━━━━━━━━━━━━━━━━━\u001b[0m\u001b[37m\u001b[0m \u001b[1m0s\u001b[0m 6ms/step - accuracy: 0.8243 - loss: 0.4711 - val_accuracy: 0.9093 - val_loss: 0.2769\n",
      "Epoch 53/1000\n",
      "\u001b[1m26/27\u001b[0m \u001b[32m━━━━━━━━━━━━━━━━━━━\u001b[0m\u001b[37m━\u001b[0m \u001b[1m0s\u001b[0m 4ms/step - accuracy: 0.8279 - loss: 0.4525\n",
      "Epoch 53: saving model to e:\\Games\\UnityProject\\HandDetection\\hand-gesture-recognition-using-mediapipe-main\\model\\thumb_and_index_finger_classifier\\thumb_and_index_finger_classifier.keras\n",
      "\u001b[1m27/27\u001b[0m \u001b[32m━━━━━━━━━━━━━━━━━━━━\u001b[0m\u001b[37m\u001b[0m \u001b[1m0s\u001b[0m 6ms/step - accuracy: 0.8273 - loss: 0.4532 - val_accuracy: 0.9120 - val_loss: 0.2711\n",
      "Epoch 54/1000\n",
      "\u001b[1m16/27\u001b[0m \u001b[32m━━━━━━━━━━━\u001b[0m\u001b[37m━━━━━━━━━\u001b[0m \u001b[1m0s\u001b[0m 3ms/step - accuracy: 0.8213 - loss: 0.4570 \n",
      "Epoch 54: saving model to e:\\Games\\UnityProject\\HandDetection\\hand-gesture-recognition-using-mediapipe-main\\model\\thumb_and_index_finger_classifier\\thumb_and_index_finger_classifier.keras\n",
      "\u001b[1m27/27\u001b[0m \u001b[32m━━━━━━━━━━━━━━━━━━━━\u001b[0m\u001b[37m\u001b[0m \u001b[1m0s\u001b[0m 6ms/step - accuracy: 0.8214 - loss: 0.4605 - val_accuracy: 0.9138 - val_loss: 0.2723\n",
      "Epoch 55/1000\n",
      "\u001b[1m16/27\u001b[0m \u001b[32m━━━━━━━━━━━\u001b[0m\u001b[37m━━━━━━━━━\u001b[0m \u001b[1m0s\u001b[0m 3ms/step - accuracy: 0.8331 - loss: 0.4570 \n",
      "Epoch 55: saving model to e:\\Games\\UnityProject\\HandDetection\\hand-gesture-recognition-using-mediapipe-main\\model\\thumb_and_index_finger_classifier\\thumb_and_index_finger_classifier.keras\n",
      "\u001b[1m27/27\u001b[0m \u001b[32m━━━━━━━━━━━━━━━━━━━━\u001b[0m\u001b[37m\u001b[0m \u001b[1m0s\u001b[0m 5ms/step - accuracy: 0.8314 - loss: 0.4576 - val_accuracy: 0.9120 - val_loss: 0.2654\n",
      "Epoch 56/1000\n",
      "\u001b[1m26/27\u001b[0m \u001b[32m━━━━━━━━━━━━━━━━━━━\u001b[0m\u001b[37m━\u001b[0m \u001b[1m0s\u001b[0m 4ms/step - accuracy: 0.8343 - loss: 0.4228\n",
      "Epoch 56: saving model to e:\\Games\\UnityProject\\HandDetection\\hand-gesture-recognition-using-mediapipe-main\\model\\thumb_and_index_finger_classifier\\thumb_and_index_finger_classifier.keras\n",
      "\u001b[1m27/27\u001b[0m \u001b[32m━━━━━━━━━━━━━━━━━━━━\u001b[0m\u001b[37m\u001b[0m \u001b[1m0s\u001b[0m 6ms/step - accuracy: 0.8342 - loss: 0.4237 - val_accuracy: 0.9111 - val_loss: 0.2624\n",
      "Epoch 57/1000\n",
      "\u001b[1m16/27\u001b[0m \u001b[32m━━━━━━━━━━━\u001b[0m\u001b[37m━━━━━━━━━\u001b[0m \u001b[1m0s\u001b[0m 4ms/step - accuracy: 0.8161 - loss: 0.4471 \n",
      "Epoch 57: saving model to e:\\Games\\UnityProject\\HandDetection\\hand-gesture-recognition-using-mediapipe-main\\model\\thumb_and_index_finger_classifier\\thumb_and_index_finger_classifier.keras\n",
      "\u001b[1m27/27\u001b[0m \u001b[32m━━━━━━━━━━━━━━━━━━━━\u001b[0m\u001b[37m\u001b[0m \u001b[1m0s\u001b[0m 6ms/step - accuracy: 0.8240 - loss: 0.4405 - val_accuracy: 0.9182 - val_loss: 0.2559\n",
      "Epoch 58/1000\n",
      "\u001b[1m15/27\u001b[0m \u001b[32m━━━━━━━━━━━\u001b[0m\u001b[37m━━━━━━━━━\u001b[0m \u001b[1m0s\u001b[0m 4ms/step - accuracy: 0.8226 - loss: 0.4694 \n",
      "Epoch 58: saving model to e:\\Games\\UnityProject\\HandDetection\\hand-gesture-recognition-using-mediapipe-main\\model\\thumb_and_index_finger_classifier\\thumb_and_index_finger_classifier.keras\n",
      "\u001b[1m27/27\u001b[0m \u001b[32m━━━━━━━━━━━━━━━━━━━━\u001b[0m\u001b[37m\u001b[0m \u001b[1m0s\u001b[0m 6ms/step - accuracy: 0.8263 - loss: 0.4592 - val_accuracy: 0.9129 - val_loss: 0.2523\n",
      "Epoch 59/1000\n",
      "\u001b[1m15/27\u001b[0m \u001b[32m━━━━━━━━━━━\u001b[0m\u001b[37m━━━━━━━━━\u001b[0m \u001b[1m0s\u001b[0m 4ms/step - accuracy: 0.8337 - loss: 0.4354 \n",
      "Epoch 59: saving model to e:\\Games\\UnityProject\\HandDetection\\hand-gesture-recognition-using-mediapipe-main\\model\\thumb_and_index_finger_classifier\\thumb_and_index_finger_classifier.keras\n",
      "\u001b[1m27/27\u001b[0m \u001b[32m━━━━━━━━━━━━━━━━━━━━\u001b[0m\u001b[37m\u001b[0m \u001b[1m0s\u001b[0m 7ms/step - accuracy: 0.8361 - loss: 0.4360 - val_accuracy: 0.9289 - val_loss: 0.2500\n",
      "Epoch 60/1000\n",
      "\u001b[1m26/27\u001b[0m \u001b[32m━━━━━━━━━━━━━━━━━━━\u001b[0m\u001b[37m━\u001b[0m \u001b[1m0s\u001b[0m 4ms/step - accuracy: 0.8294 - loss: 0.4453\n",
      "Epoch 60: saving model to e:\\Games\\UnityProject\\HandDetection\\hand-gesture-recognition-using-mediapipe-main\\model\\thumb_and_index_finger_classifier\\thumb_and_index_finger_classifier.keras\n",
      "\u001b[1m27/27\u001b[0m \u001b[32m━━━━━━━━━━━━━━━━━━━━\u001b[0m\u001b[37m\u001b[0m \u001b[1m0s\u001b[0m 6ms/step - accuracy: 0.8300 - loss: 0.4443 - val_accuracy: 0.9182 - val_loss: 0.2539\n",
      "Epoch 61/1000\n",
      "\u001b[1m14/27\u001b[0m \u001b[32m━━━━━━━━━━\u001b[0m\u001b[37m━━━━━━━━━━\u001b[0m \u001b[1m0s\u001b[0m 4ms/step - accuracy: 0.8429 - loss: 0.4206 \n",
      "Epoch 61: saving model to e:\\Games\\UnityProject\\HandDetection\\hand-gesture-recognition-using-mediapipe-main\\model\\thumb_and_index_finger_classifier\\thumb_and_index_finger_classifier.keras\n",
      "\u001b[1m27/27\u001b[0m \u001b[32m━━━━━━━━━━━━━━━━━━━━\u001b[0m\u001b[37m\u001b[0m \u001b[1m0s\u001b[0m 6ms/step - accuracy: 0.8372 - loss: 0.4253 - val_accuracy: 0.9200 - val_loss: 0.2513\n",
      "Epoch 62/1000\n",
      "\u001b[1m16/27\u001b[0m \u001b[32m━━━━━━━━━━━\u001b[0m\u001b[37m━━━━━━━━━\u001b[0m \u001b[1m0s\u001b[0m 3ms/step - accuracy: 0.8583 - loss: 0.3954 \n",
      "Epoch 62: saving model to e:\\Games\\UnityProject\\HandDetection\\hand-gesture-recognition-using-mediapipe-main\\model\\thumb_and_index_finger_classifier\\thumb_and_index_finger_classifier.keras\n",
      "\u001b[1m27/27\u001b[0m \u001b[32m━━━━━━━━━━━━━━━━━━━━\u001b[0m\u001b[37m\u001b[0m \u001b[1m0s\u001b[0m 6ms/step - accuracy: 0.8550 - loss: 0.3980 - val_accuracy: 0.9218 - val_loss: 0.2465\n",
      "Epoch 63/1000\n",
      "\u001b[1m15/27\u001b[0m \u001b[32m━━━━━━━━━━━\u001b[0m\u001b[37m━━━━━━━━━\u001b[0m \u001b[1m0s\u001b[0m 4ms/step - accuracy: 0.8391 - loss: 0.4146 \n",
      "Epoch 63: saving model to e:\\Games\\UnityProject\\HandDetection\\hand-gesture-recognition-using-mediapipe-main\\model\\thumb_and_index_finger_classifier\\thumb_and_index_finger_classifier.keras\n",
      "\u001b[1m27/27\u001b[0m \u001b[32m━━━━━━━━━━━━━━━━━━━━\u001b[0m\u001b[37m\u001b[0m \u001b[1m0s\u001b[0m 6ms/step - accuracy: 0.8428 - loss: 0.4127 - val_accuracy: 0.9218 - val_loss: 0.2428\n",
      "Epoch 64/1000\n",
      "\u001b[1m16/27\u001b[0m \u001b[32m━━━━━━━━━━━\u001b[0m\u001b[37m━━━━━━━━━\u001b[0m \u001b[1m0s\u001b[0m 4ms/step - accuracy: 0.8304 - loss: 0.4208 \n",
      "Epoch 64: saving model to e:\\Games\\UnityProject\\HandDetection\\hand-gesture-recognition-using-mediapipe-main\\model\\thumb_and_index_finger_classifier\\thumb_and_index_finger_classifier.keras\n",
      "\u001b[1m27/27\u001b[0m \u001b[32m━━━━━━━━━━━━━━━━━━━━\u001b[0m\u001b[37m\u001b[0m \u001b[1m0s\u001b[0m 6ms/step - accuracy: 0.8369 - loss: 0.4147 - val_accuracy: 0.9324 - val_loss: 0.2342\n",
      "Epoch 65/1000\n",
      "\u001b[1m27/27\u001b[0m \u001b[32m━━━━━━━━━━━━━━━━━━━━\u001b[0m\u001b[37m\u001b[0m \u001b[1m0s\u001b[0m 4ms/step - accuracy: 0.8454 - loss: 0.4019\n",
      "Epoch 65: saving model to e:\\Games\\UnityProject\\HandDetection\\hand-gesture-recognition-using-mediapipe-main\\model\\thumb_and_index_finger_classifier\\thumb_and_index_finger_classifier.keras\n",
      "\u001b[1m27/27\u001b[0m \u001b[32m━━━━━━━━━━━━━━━━━━━━\u001b[0m\u001b[37m\u001b[0m \u001b[1m0s\u001b[0m 6ms/step - accuracy: 0.8456 - loss: 0.4018 - val_accuracy: 0.9422 - val_loss: 0.2314\n",
      "Epoch 66/1000\n",
      "\u001b[1m16/27\u001b[0m \u001b[32m━━━━━━━━━━━\u001b[0m\u001b[37m━━━━━━━━━\u001b[0m \u001b[1m0s\u001b[0m 4ms/step - accuracy: 0.8527 - loss: 0.3866 \n",
      "Epoch 66: saving model to e:\\Games\\UnityProject\\HandDetection\\hand-gesture-recognition-using-mediapipe-main\\model\\thumb_and_index_finger_classifier\\thumb_and_index_finger_classifier.keras\n",
      "\u001b[1m27/27\u001b[0m \u001b[32m━━━━━━━━━━━━━━━━━━━━\u001b[0m\u001b[37m\u001b[0m \u001b[1m0s\u001b[0m 6ms/step - accuracy: 0.8513 - loss: 0.3912 - val_accuracy: 0.9484 - val_loss: 0.2281\n",
      "Epoch 67/1000\n",
      "\u001b[1m16/27\u001b[0m \u001b[32m━━━━━━━━━━━\u001b[0m\u001b[37m━━━━━━━━━\u001b[0m \u001b[1m0s\u001b[0m 4ms/step - accuracy: 0.8533 - loss: 0.3921 \n",
      "Epoch 67: saving model to e:\\Games\\UnityProject\\HandDetection\\hand-gesture-recognition-using-mediapipe-main\\model\\thumb_and_index_finger_classifier\\thumb_and_index_finger_classifier.keras\n",
      "\u001b[1m27/27\u001b[0m \u001b[32m━━━━━━━━━━━━━━━━━━━━\u001b[0m\u001b[37m\u001b[0m \u001b[1m0s\u001b[0m 6ms/step - accuracy: 0.8525 - loss: 0.3923 - val_accuracy: 0.9467 - val_loss: 0.2315\n",
      "Epoch 68/1000\n",
      "\u001b[1m15/27\u001b[0m \u001b[32m━━━━━━━━━━━\u001b[0m\u001b[37m━━━━━━━━━\u001b[0m \u001b[1m0s\u001b[0m 4ms/step - accuracy: 0.8429 - loss: 0.4000 \n",
      "Epoch 68: saving model to e:\\Games\\UnityProject\\HandDetection\\hand-gesture-recognition-using-mediapipe-main\\model\\thumb_and_index_finger_classifier\\thumb_and_index_finger_classifier.keras\n",
      "\u001b[1m27/27\u001b[0m \u001b[32m━━━━━━━━━━━━━━━━━━━━\u001b[0m\u001b[37m\u001b[0m \u001b[1m0s\u001b[0m 6ms/step - accuracy: 0.8497 - loss: 0.3899 - val_accuracy: 0.9538 - val_loss: 0.2195\n",
      "Epoch 69/1000\n",
      "\u001b[1m24/27\u001b[0m \u001b[32m━━━━━━━━━━━━━━━━━\u001b[0m\u001b[37m━━━\u001b[0m \u001b[1m0s\u001b[0m 4ms/step - accuracy: 0.8480 - loss: 0.4049\n",
      "Epoch 69: saving model to e:\\Games\\UnityProject\\HandDetection\\hand-gesture-recognition-using-mediapipe-main\\model\\thumb_and_index_finger_classifier\\thumb_and_index_finger_classifier.keras\n",
      "\u001b[1m27/27\u001b[0m \u001b[32m━━━━━━━━━━━━━━━━━━━━\u001b[0m\u001b[37m\u001b[0m \u001b[1m0s\u001b[0m 7ms/step - accuracy: 0.8480 - loss: 0.4039 - val_accuracy: 0.9458 - val_loss: 0.2231\n",
      "Epoch 70/1000\n",
      "\u001b[1m24/27\u001b[0m \u001b[32m━━━━━━━━━━━━━━━━━\u001b[0m\u001b[37m━━━\u001b[0m \u001b[1m0s\u001b[0m 5ms/step - accuracy: 0.8558 - loss: 0.3807\n",
      "Epoch 70: saving model to e:\\Games\\UnityProject\\HandDetection\\hand-gesture-recognition-using-mediapipe-main\\model\\thumb_and_index_finger_classifier\\thumb_and_index_finger_classifier.keras\n",
      "\u001b[1m27/27\u001b[0m \u001b[32m━━━━━━━━━━━━━━━━━━━━\u001b[0m\u001b[37m\u001b[0m \u001b[1m0s\u001b[0m 7ms/step - accuracy: 0.8556 - loss: 0.3811 - val_accuracy: 0.9360 - val_loss: 0.2197\n",
      "Epoch 71/1000\n",
      "\u001b[1m25/27\u001b[0m \u001b[32m━━━━━━━━━━━━━━━━━━\u001b[0m\u001b[37m━━\u001b[0m \u001b[1m0s\u001b[0m 4ms/step - accuracy: 0.8508 - loss: 0.3952\n",
      "Epoch 71: saving model to e:\\Games\\UnityProject\\HandDetection\\hand-gesture-recognition-using-mediapipe-main\\model\\thumb_and_index_finger_classifier\\thumb_and_index_finger_classifier.keras\n",
      "\u001b[1m27/27\u001b[0m \u001b[32m━━━━━━━━━━━━━━━━━━━━\u001b[0m\u001b[37m\u001b[0m \u001b[1m0s\u001b[0m 6ms/step - accuracy: 0.8516 - loss: 0.3935 - val_accuracy: 0.9547 - val_loss: 0.2138\n",
      "Epoch 72/1000\n",
      "\u001b[1m15/27\u001b[0m \u001b[32m━━━━━━━━━━━\u001b[0m\u001b[37m━━━━━━━━━\u001b[0m \u001b[1m0s\u001b[0m 4ms/step - accuracy: 0.8543 - loss: 0.3841 \n",
      "Epoch 72: saving model to e:\\Games\\UnityProject\\HandDetection\\hand-gesture-recognition-using-mediapipe-main\\model\\thumb_and_index_finger_classifier\\thumb_and_index_finger_classifier.keras\n",
      "\u001b[1m27/27\u001b[0m \u001b[32m━━━━━━━━━━━━━━━━━━━━\u001b[0m\u001b[37m\u001b[0m \u001b[1m0s\u001b[0m 6ms/step - accuracy: 0.8557 - loss: 0.3840 - val_accuracy: 0.9520 - val_loss: 0.2175\n",
      "Epoch 73/1000\n",
      "\u001b[1m25/27\u001b[0m \u001b[32m━━━━━━━━━━━━━━━━━━\u001b[0m\u001b[37m━━\u001b[0m \u001b[1m0s\u001b[0m 4ms/step - accuracy: 0.8687 - loss: 0.3578\n",
      "Epoch 73: saving model to e:\\Games\\UnityProject\\HandDetection\\hand-gesture-recognition-using-mediapipe-main\\model\\thumb_and_index_finger_classifier\\thumb_and_index_finger_classifier.keras\n",
      "\u001b[1m27/27\u001b[0m \u001b[32m━━━━━━━━━━━━━━━━━━━━\u001b[0m\u001b[37m\u001b[0m \u001b[1m0s\u001b[0m 7ms/step - accuracy: 0.8684 - loss: 0.3588 - val_accuracy: 0.9502 - val_loss: 0.2122\n",
      "Epoch 74/1000\n",
      "\u001b[1m15/27\u001b[0m \u001b[32m━━━━━━━━━━━\u001b[0m\u001b[37m━━━━━━━━━\u001b[0m \u001b[1m0s\u001b[0m 4ms/step - accuracy: 0.8570 - loss: 0.3834 \n",
      "Epoch 74: saving model to e:\\Games\\UnityProject\\HandDetection\\hand-gesture-recognition-using-mediapipe-main\\model\\thumb_and_index_finger_classifier\\thumb_and_index_finger_classifier.keras\n",
      "\u001b[1m27/27\u001b[0m \u001b[32m━━━━━━━━━━━━━━━━━━━━\u001b[0m\u001b[37m\u001b[0m \u001b[1m0s\u001b[0m 6ms/step - accuracy: 0.8578 - loss: 0.3773 - val_accuracy: 0.9582 - val_loss: 0.2169\n",
      "Epoch 75/1000\n",
      "\u001b[1m15/27\u001b[0m \u001b[32m━━━━━━━━━━━\u001b[0m\u001b[37m━━━━━━━━━\u001b[0m \u001b[1m0s\u001b[0m 4ms/step - accuracy: 0.8649 - loss: 0.3391 \n",
      "Epoch 75: saving model to e:\\Games\\UnityProject\\HandDetection\\hand-gesture-recognition-using-mediapipe-main\\model\\thumb_and_index_finger_classifier\\thumb_and_index_finger_classifier.keras\n",
      "\u001b[1m27/27\u001b[0m \u001b[32m━━━━━━━━━━━━━━━━━━━━\u001b[0m\u001b[37m\u001b[0m \u001b[1m0s\u001b[0m 6ms/step - accuracy: 0.8647 - loss: 0.3471 - val_accuracy: 0.9600 - val_loss: 0.2080\n",
      "Epoch 76/1000\n",
      "\u001b[1m26/27\u001b[0m \u001b[32m━━━━━━━━━━━━━━━━━━━\u001b[0m\u001b[37m━\u001b[0m \u001b[1m0s\u001b[0m 4ms/step - accuracy: 0.8694 - loss: 0.3502\n",
      "Epoch 76: saving model to e:\\Games\\UnityProject\\HandDetection\\hand-gesture-recognition-using-mediapipe-main\\model\\thumb_and_index_finger_classifier\\thumb_and_index_finger_classifier.keras\n",
      "\u001b[1m27/27\u001b[0m \u001b[32m━━━━━━━━━━━━━━━━━━━━\u001b[0m\u001b[37m\u001b[0m \u001b[1m0s\u001b[0m 7ms/step - accuracy: 0.8691 - loss: 0.3513 - val_accuracy: 0.9618 - val_loss: 0.2013\n",
      "Epoch 77/1000\n",
      "\u001b[1m15/27\u001b[0m \u001b[32m━━━━━━━━━━━\u001b[0m\u001b[37m━━━━━━━━━\u001b[0m \u001b[1m0s\u001b[0m 4ms/step - accuracy: 0.8708 - loss: 0.3522 \n",
      "Epoch 77: saving model to e:\\Games\\UnityProject\\HandDetection\\hand-gesture-recognition-using-mediapipe-main\\model\\thumb_and_index_finger_classifier\\thumb_and_index_finger_classifier.keras\n",
      "\u001b[1m27/27\u001b[0m \u001b[32m━━━━━━━━━━━━━━━━━━━━\u001b[0m\u001b[37m\u001b[0m \u001b[1m0s\u001b[0m 6ms/step - accuracy: 0.8710 - loss: 0.3509 - val_accuracy: 0.9600 - val_loss: 0.1999\n",
      "Epoch 78/1000\n",
      "\u001b[1m15/27\u001b[0m \u001b[32m━━━━━━━━━━━\u001b[0m\u001b[37m━━━━━━━━━\u001b[0m \u001b[1m0s\u001b[0m 4ms/step - accuracy: 0.8835 - loss: 0.3072 \n",
      "Epoch 78: saving model to e:\\Games\\UnityProject\\HandDetection\\hand-gesture-recognition-using-mediapipe-main\\model\\thumb_and_index_finger_classifier\\thumb_and_index_finger_classifier.keras\n",
      "\u001b[1m27/27\u001b[0m \u001b[32m━━━━━━━━━━━━━━━━━━━━\u001b[0m\u001b[37m\u001b[0m \u001b[1m0s\u001b[0m 6ms/step - accuracy: 0.8779 - loss: 0.3218 - val_accuracy: 0.9449 - val_loss: 0.2021\n",
      "Epoch 79/1000\n",
      "\u001b[1m23/27\u001b[0m \u001b[32m━━━━━━━━━━━━━━━━━\u001b[0m\u001b[37m━━━\u001b[0m \u001b[1m0s\u001b[0m 5ms/step - accuracy: 0.8670 - loss: 0.3398\n",
      "Epoch 79: saving model to e:\\Games\\UnityProject\\HandDetection\\hand-gesture-recognition-using-mediapipe-main\\model\\thumb_and_index_finger_classifier\\thumb_and_index_finger_classifier.keras\n",
      "\u001b[1m27/27\u001b[0m \u001b[32m━━━━━━━━━━━━━━━━━━━━\u001b[0m\u001b[37m\u001b[0m \u001b[1m0s\u001b[0m 7ms/step - accuracy: 0.8684 - loss: 0.3392 - val_accuracy: 0.9476 - val_loss: 0.2065\n",
      "Epoch 80/1000\n",
      "\u001b[1m26/27\u001b[0m \u001b[32m━━━━━━━━━━━━━━━━━━━\u001b[0m\u001b[37m━\u001b[0m \u001b[1m0s\u001b[0m 4ms/step - accuracy: 0.8737 - loss: 0.3583\n",
      "Epoch 80: saving model to e:\\Games\\UnityProject\\HandDetection\\hand-gesture-recognition-using-mediapipe-main\\model\\thumb_and_index_finger_classifier\\thumb_and_index_finger_classifier.keras\n",
      "\u001b[1m27/27\u001b[0m \u001b[32m━━━━━━━━━━━━━━━━━━━━\u001b[0m\u001b[37m\u001b[0m \u001b[1m0s\u001b[0m 7ms/step - accuracy: 0.8739 - loss: 0.3571 - val_accuracy: 0.9529 - val_loss: 0.2127\n",
      "Epoch 81/1000\n",
      "\u001b[1m27/27\u001b[0m \u001b[32m━━━━━━━━━━━━━━━━━━━━\u001b[0m\u001b[37m\u001b[0m \u001b[1m0s\u001b[0m 4ms/step - accuracy: 0.8658 - loss: 0.3529\n",
      "Epoch 81: saving model to e:\\Games\\UnityProject\\HandDetection\\hand-gesture-recognition-using-mediapipe-main\\model\\thumb_and_index_finger_classifier\\thumb_and_index_finger_classifier.keras\n",
      "\u001b[1m27/27\u001b[0m \u001b[32m━━━━━━━━━━━━━━━━━━━━\u001b[0m\u001b[37m\u001b[0m \u001b[1m0s\u001b[0m 6ms/step - accuracy: 0.8659 - loss: 0.3526 - val_accuracy: 0.9609 - val_loss: 0.1882\n",
      "Epoch 82/1000\n",
      "\u001b[1m14/27\u001b[0m \u001b[32m━━━━━━━━━━\u001b[0m\u001b[37m━━━━━━━━━━\u001b[0m \u001b[1m0s\u001b[0m 4ms/step - accuracy: 0.8800 - loss: 0.3311 \n",
      "Epoch 82: saving model to e:\\Games\\UnityProject\\HandDetection\\hand-gesture-recognition-using-mediapipe-main\\model\\thumb_and_index_finger_classifier\\thumb_and_index_finger_classifier.keras\n",
      "\u001b[1m27/27\u001b[0m \u001b[32m━━━━━━━━━━━━━━━━━━━━\u001b[0m\u001b[37m\u001b[0m \u001b[1m0s\u001b[0m 6ms/step - accuracy: 0.8808 - loss: 0.3351 - val_accuracy: 0.9538 - val_loss: 0.2002\n",
      "Epoch 83/1000\n",
      "\u001b[1m25/27\u001b[0m \u001b[32m━━━━━━━━━━━━━━━━━━\u001b[0m\u001b[37m━━\u001b[0m \u001b[1m0s\u001b[0m 4ms/step - accuracy: 0.8594 - loss: 0.3576\n",
      "Epoch 83: saving model to e:\\Games\\UnityProject\\HandDetection\\hand-gesture-recognition-using-mediapipe-main\\model\\thumb_and_index_finger_classifier\\thumb_and_index_finger_classifier.keras\n",
      "\u001b[1m27/27\u001b[0m \u001b[32m━━━━━━━━━━━━━━━━━━━━\u001b[0m\u001b[37m\u001b[0m \u001b[1m0s\u001b[0m 7ms/step - accuracy: 0.8602 - loss: 0.3574 - val_accuracy: 0.9529 - val_loss: 0.2071\n",
      "Epoch 84/1000\n",
      "\u001b[1m14/27\u001b[0m \u001b[32m━━━━━━━━━━\u001b[0m\u001b[37m━━━━━━━━━━\u001b[0m \u001b[1m0s\u001b[0m 4ms/step - accuracy: 0.8703 - loss: 0.3756 \n",
      "Epoch 84: saving model to e:\\Games\\UnityProject\\HandDetection\\hand-gesture-recognition-using-mediapipe-main\\model\\thumb_and_index_finger_classifier\\thumb_and_index_finger_classifier.keras\n",
      "\u001b[1m27/27\u001b[0m \u001b[32m━━━━━━━━━━━━━━━━━━━━\u001b[0m\u001b[37m\u001b[0m \u001b[1m0s\u001b[0m 6ms/step - accuracy: 0.8683 - loss: 0.3735 - val_accuracy: 0.9511 - val_loss: 0.1863\n",
      "Epoch 85/1000\n",
      "\u001b[1m15/27\u001b[0m \u001b[32m━━━━━━━━━━━\u001b[0m\u001b[37m━━━━━━━━━\u001b[0m \u001b[1m0s\u001b[0m 4ms/step - accuracy: 0.8870 - loss: 0.3284 \n",
      "Epoch 85: saving model to e:\\Games\\UnityProject\\HandDetection\\hand-gesture-recognition-using-mediapipe-main\\model\\thumb_and_index_finger_classifier\\thumb_and_index_finger_classifier.keras\n",
      "\u001b[1m27/27\u001b[0m \u001b[32m━━━━━━━━━━━━━━━━━━━━\u001b[0m\u001b[37m\u001b[0m \u001b[1m0s\u001b[0m 6ms/step - accuracy: 0.8851 - loss: 0.3266 - val_accuracy: 0.9636 - val_loss: 0.1880\n",
      "Epoch 86/1000\n",
      "\u001b[1m24/27\u001b[0m \u001b[32m━━━━━━━━━━━━━━━━━\u001b[0m\u001b[37m━━━\u001b[0m \u001b[1m0s\u001b[0m 5ms/step - accuracy: 0.8891 - loss: 0.3116\n",
      "Epoch 86: saving model to e:\\Games\\UnityProject\\HandDetection\\hand-gesture-recognition-using-mediapipe-main\\model\\thumb_and_index_finger_classifier\\thumb_and_index_finger_classifier.keras\n",
      "\u001b[1m27/27\u001b[0m \u001b[32m━━━━━━━━━━━━━━━━━━━━\u001b[0m\u001b[37m\u001b[0m \u001b[1m0s\u001b[0m 7ms/step - accuracy: 0.8885 - loss: 0.3124 - val_accuracy: 0.9529 - val_loss: 0.1825\n",
      "Epoch 87/1000\n",
      "\u001b[1m15/27\u001b[0m \u001b[32m━━━━━━━━━━━\u001b[0m\u001b[37m━━━━━━━━━\u001b[0m \u001b[1m0s\u001b[0m 4ms/step - accuracy: 0.8647 - loss: 0.3424 \n",
      "Epoch 87: saving model to e:\\Games\\UnityProject\\HandDetection\\hand-gesture-recognition-using-mediapipe-main\\model\\thumb_and_index_finger_classifier\\thumb_and_index_finger_classifier.keras\n",
      "\u001b[1m27/27\u001b[0m \u001b[32m━━━━━━━━━━━━━━━━━━━━\u001b[0m\u001b[37m\u001b[0m \u001b[1m0s\u001b[0m 6ms/step - accuracy: 0.8673 - loss: 0.3407 - val_accuracy: 0.9618 - val_loss: 0.1789\n",
      "Epoch 88/1000\n",
      "\u001b[1m16/27\u001b[0m \u001b[32m━━━━━━━━━━━\u001b[0m\u001b[37m━━━━━━━━━\u001b[0m \u001b[1m0s\u001b[0m 4ms/step - accuracy: 0.8739 - loss: 0.3571 \n",
      "Epoch 88: saving model to e:\\Games\\UnityProject\\HandDetection\\hand-gesture-recognition-using-mediapipe-main\\model\\thumb_and_index_finger_classifier\\thumb_and_index_finger_classifier.keras\n",
      "\u001b[1m27/27\u001b[0m \u001b[32m━━━━━━━━━━━━━━━━━━━━\u001b[0m\u001b[37m\u001b[0m \u001b[1m0s\u001b[0m 5ms/step - accuracy: 0.8756 - loss: 0.3483 - val_accuracy: 0.9662 - val_loss: 0.1739\n",
      "Epoch 89/1000\n",
      "\u001b[1m16/27\u001b[0m \u001b[32m━━━━━━━━━━━\u001b[0m\u001b[37m━━━━━━━━━\u001b[0m \u001b[1m0s\u001b[0m 4ms/step - accuracy: 0.8887 - loss: 0.3238 \n",
      "Epoch 89: saving model to e:\\Games\\UnityProject\\HandDetection\\hand-gesture-recognition-using-mediapipe-main\\model\\thumb_and_index_finger_classifier\\thumb_and_index_finger_classifier.keras\n",
      "\u001b[1m27/27\u001b[0m \u001b[32m━━━━━━━━━━━━━━━━━━━━\u001b[0m\u001b[37m\u001b[0m \u001b[1m0s\u001b[0m 6ms/step - accuracy: 0.8860 - loss: 0.3230 - val_accuracy: 0.9653 - val_loss: 0.1642\n",
      "Epoch 90/1000\n",
      "\u001b[1m23/27\u001b[0m \u001b[32m━━━━━━━━━━━━━━━━━\u001b[0m\u001b[37m━━━\u001b[0m \u001b[1m0s\u001b[0m 5ms/step - accuracy: 0.8833 - loss: 0.3276\n",
      "Epoch 90: saving model to e:\\Games\\UnityProject\\HandDetection\\hand-gesture-recognition-using-mediapipe-main\\model\\thumb_and_index_finger_classifier\\thumb_and_index_finger_classifier.keras\n",
      "\u001b[1m27/27\u001b[0m \u001b[32m━━━━━━━━━━━━━━━━━━━━\u001b[0m\u001b[37m\u001b[0m \u001b[1m0s\u001b[0m 7ms/step - accuracy: 0.8835 - loss: 0.3265 - val_accuracy: 0.9636 - val_loss: 0.1727\n",
      "Epoch 91/1000\n",
      "\u001b[1m15/27\u001b[0m \u001b[32m━━━━━━━━━━━\u001b[0m\u001b[37m━━━━━━━━━\u001b[0m \u001b[1m0s\u001b[0m 4ms/step - accuracy: 0.8850 - loss: 0.2880 \n",
      "Epoch 91: saving model to e:\\Games\\UnityProject\\HandDetection\\hand-gesture-recognition-using-mediapipe-main\\model\\thumb_and_index_finger_classifier\\thumb_and_index_finger_classifier.keras\n",
      "\u001b[1m27/27\u001b[0m \u001b[32m━━━━━━━━━━━━━━━━━━━━\u001b[0m\u001b[37m\u001b[0m \u001b[1m0s\u001b[0m 6ms/step - accuracy: 0.8848 - loss: 0.2955 - val_accuracy: 0.9627 - val_loss: 0.1758\n",
      "Epoch 92/1000\n",
      "\u001b[1m15/27\u001b[0m \u001b[32m━━━━━━━━━━━\u001b[0m\u001b[37m━━━━━━━━━\u001b[0m \u001b[1m0s\u001b[0m 4ms/step - accuracy: 0.8879 - loss: 0.2995 \n",
      "Epoch 92: saving model to e:\\Games\\UnityProject\\HandDetection\\hand-gesture-recognition-using-mediapipe-main\\model\\thumb_and_index_finger_classifier\\thumb_and_index_finger_classifier.keras\n",
      "\u001b[1m27/27\u001b[0m \u001b[32m━━━━━━━━━━━━━━━━━━━━\u001b[0m\u001b[37m\u001b[0m \u001b[1m0s\u001b[0m 6ms/step - accuracy: 0.8885 - loss: 0.2985 - val_accuracy: 0.9689 - val_loss: 0.1672\n",
      "Epoch 93/1000\n",
      "\u001b[1m15/27\u001b[0m \u001b[32m━━━━━━━━━━━\u001b[0m\u001b[37m━━━━━━━━━\u001b[0m \u001b[1m0s\u001b[0m 4ms/step - accuracy: 0.8737 - loss: 0.3439 \n",
      "Epoch 93: saving model to e:\\Games\\UnityProject\\HandDetection\\hand-gesture-recognition-using-mediapipe-main\\model\\thumb_and_index_finger_classifier\\thumb_and_index_finger_classifier.keras\n",
      "\u001b[1m27/27\u001b[0m \u001b[32m━━━━━━━━━━━━━━━━━━━━\u001b[0m\u001b[37m\u001b[0m \u001b[1m0s\u001b[0m 6ms/step - accuracy: 0.8780 - loss: 0.3341 - val_accuracy: 0.9671 - val_loss: 0.1611\n",
      "Epoch 94/1000\n",
      "\u001b[1m23/27\u001b[0m \u001b[32m━━━━━━━━━━━━━━━━━\u001b[0m\u001b[37m━━━\u001b[0m \u001b[1m0s\u001b[0m 5ms/step - accuracy: 0.9042 - loss: 0.2949\n",
      "Epoch 94: saving model to e:\\Games\\UnityProject\\HandDetection\\hand-gesture-recognition-using-mediapipe-main\\model\\thumb_and_index_finger_classifier\\thumb_and_index_finger_classifier.keras\n",
      "\u001b[1m27/27\u001b[0m \u001b[32m━━━━━━━━━━━━━━━━━━━━\u001b[0m\u001b[37m\u001b[0m \u001b[1m0s\u001b[0m 7ms/step - accuracy: 0.9026 - loss: 0.2959 - val_accuracy: 0.9618 - val_loss: 0.1758\n",
      "Epoch 95/1000\n",
      "\u001b[1m15/27\u001b[0m \u001b[32m━━━━━━━━━━━\u001b[0m\u001b[37m━━━━━━━━━\u001b[0m \u001b[1m0s\u001b[0m 4ms/step - accuracy: 0.8778 - loss: 0.3362 \n",
      "Epoch 95: saving model to e:\\Games\\UnityProject\\HandDetection\\hand-gesture-recognition-using-mediapipe-main\\model\\thumb_and_index_finger_classifier\\thumb_and_index_finger_classifier.keras\n",
      "\u001b[1m27/27\u001b[0m \u001b[32m━━━━━━━━━━━━━━━━━━━━\u001b[0m\u001b[37m\u001b[0m \u001b[1m0s\u001b[0m 6ms/step - accuracy: 0.8818 - loss: 0.3244 - val_accuracy: 0.9680 - val_loss: 0.1539\n",
      "Epoch 96/1000\n",
      "\u001b[1m16/27\u001b[0m \u001b[32m━━━━━━━━━━━\u001b[0m\u001b[37m━━━━━━━━━\u001b[0m \u001b[1m0s\u001b[0m 4ms/step - accuracy: 0.8896 - loss: 0.3230 \n",
      "Epoch 96: saving model to e:\\Games\\UnityProject\\HandDetection\\hand-gesture-recognition-using-mediapipe-main\\model\\thumb_and_index_finger_classifier\\thumb_and_index_finger_classifier.keras\n",
      "\u001b[1m27/27\u001b[0m \u001b[32m━━━━━━━━━━━━━━━━━━━━\u001b[0m\u001b[37m\u001b[0m \u001b[1m0s\u001b[0m 6ms/step - accuracy: 0.8922 - loss: 0.3140 - val_accuracy: 0.9680 - val_loss: 0.1485\n",
      "Epoch 97/1000\n",
      "\u001b[1m16/27\u001b[0m \u001b[32m━━━━━━━━━━━\u001b[0m\u001b[37m━━━━━━━━━\u001b[0m \u001b[1m0s\u001b[0m 3ms/step - accuracy: 0.9038 - loss: 0.2754 \n",
      "Epoch 97: saving model to e:\\Games\\UnityProject\\HandDetection\\hand-gesture-recognition-using-mediapipe-main\\model\\thumb_and_index_finger_classifier\\thumb_and_index_finger_classifier.keras\n",
      "\u001b[1m27/27\u001b[0m \u001b[32m━━━━━━━━━━━━━━━━━━━━\u001b[0m\u001b[37m\u001b[0m \u001b[1m0s\u001b[0m 5ms/step - accuracy: 0.8996 - loss: 0.2797 - val_accuracy: 0.9680 - val_loss: 0.1506\n",
      "Epoch 98/1000\n",
      "\u001b[1m16/27\u001b[0m \u001b[32m━━━━━━━━━━━\u001b[0m\u001b[37m━━━━━━━━━\u001b[0m \u001b[1m0s\u001b[0m 4ms/step - accuracy: 0.9000 - loss: 0.2882 \n",
      "Epoch 98: saving model to e:\\Games\\UnityProject\\HandDetection\\hand-gesture-recognition-using-mediapipe-main\\model\\thumb_and_index_finger_classifier\\thumb_and_index_finger_classifier.keras\n",
      "\u001b[1m27/27\u001b[0m \u001b[32m━━━━━━━━━━━━━━━━━━━━\u001b[0m\u001b[37m\u001b[0m \u001b[1m0s\u001b[0m 6ms/step - accuracy: 0.8986 - loss: 0.2879 - val_accuracy: 0.9644 - val_loss: 0.1548\n",
      "Epoch 99/1000\n",
      "\u001b[1m16/27\u001b[0m \u001b[32m━━━━━━━━━━━\u001b[0m\u001b[37m━━━━━━━━━\u001b[0m \u001b[1m0s\u001b[0m 3ms/step - accuracy: 0.8823 - loss: 0.3115 \n",
      "Epoch 99: saving model to e:\\Games\\UnityProject\\HandDetection\\hand-gesture-recognition-using-mediapipe-main\\model\\thumb_and_index_finger_classifier\\thumb_and_index_finger_classifier.keras\n",
      "\u001b[1m27/27\u001b[0m \u001b[32m━━━━━━━━━━━━━━━━━━━━\u001b[0m\u001b[37m\u001b[0m \u001b[1m0s\u001b[0m 6ms/step - accuracy: 0.8858 - loss: 0.3041 - val_accuracy: 0.9680 - val_loss: 0.1505\n",
      "Epoch 100/1000\n",
      "\u001b[1m27/27\u001b[0m \u001b[32m━━━━━━━━━━━━━━━━━━━━\u001b[0m\u001b[37m\u001b[0m \u001b[1m0s\u001b[0m 4ms/step - accuracy: 0.8981 - loss: 0.2908\n",
      "Epoch 100: saving model to e:\\Games\\UnityProject\\HandDetection\\hand-gesture-recognition-using-mediapipe-main\\model\\thumb_and_index_finger_classifier\\thumb_and_index_finger_classifier.keras\n",
      "\u001b[1m27/27\u001b[0m \u001b[32m━━━━━━━━━━━━━━━━━━━━\u001b[0m\u001b[37m\u001b[0m \u001b[1m0s\u001b[0m 6ms/step - accuracy: 0.8981 - loss: 0.2905 - val_accuracy: 0.9698 - val_loss: 0.1415\n",
      "Epoch 101/1000\n",
      "\u001b[1m15/27\u001b[0m \u001b[32m━━━━━━━━━━━\u001b[0m\u001b[37m━━━━━━━━━\u001b[0m \u001b[1m0s\u001b[0m 4ms/step - accuracy: 0.9186 - loss: 0.2455 \n",
      "Epoch 101: saving model to e:\\Games\\UnityProject\\HandDetection\\hand-gesture-recognition-using-mediapipe-main\\model\\thumb_and_index_finger_classifier\\thumb_and_index_finger_classifier.keras\n",
      "\u001b[1m27/27\u001b[0m \u001b[32m━━━━━━━━━━━━━━━━━━━━\u001b[0m\u001b[37m\u001b[0m \u001b[1m0s\u001b[0m 6ms/step - accuracy: 0.9105 - loss: 0.2629 - val_accuracy: 0.9707 - val_loss: 0.1454\n",
      "Epoch 102/1000\n",
      "\u001b[1m14/27\u001b[0m \u001b[32m━━━━━━━━━━\u001b[0m\u001b[37m━━━━━━━━━━\u001b[0m \u001b[1m0s\u001b[0m 4ms/step - accuracy: 0.9079 - loss: 0.2730 \n",
      "Epoch 102: saving model to e:\\Games\\UnityProject\\HandDetection\\hand-gesture-recognition-using-mediapipe-main\\model\\thumb_and_index_finger_classifier\\thumb_and_index_finger_classifier.keras\n",
      "\u001b[1m27/27\u001b[0m \u001b[32m━━━━━━━━━━━━━━━━━━━━\u001b[0m\u001b[37m\u001b[0m \u001b[1m0s\u001b[0m 6ms/step - accuracy: 0.9023 - loss: 0.2783 - val_accuracy: 0.9680 - val_loss: 0.1524\n",
      "Epoch 103/1000\n",
      "\u001b[1m15/27\u001b[0m \u001b[32m━━━━━━━━━━━\u001b[0m\u001b[37m━━━━━━━━━\u001b[0m \u001b[1m0s\u001b[0m 4ms/step - accuracy: 0.8927 - loss: 0.2872 \n",
      "Epoch 103: saving model to e:\\Games\\UnityProject\\HandDetection\\hand-gesture-recognition-using-mediapipe-main\\model\\thumb_and_index_finger_classifier\\thumb_and_index_finger_classifier.keras\n",
      "\u001b[1m27/27\u001b[0m \u001b[32m━━━━━━━━━━━━━━━━━━━━\u001b[0m\u001b[37m\u001b[0m \u001b[1m0s\u001b[0m 6ms/step - accuracy: 0.8938 - loss: 0.2889 - val_accuracy: 0.9751 - val_loss: 0.1343\n",
      "Epoch 104/1000\n",
      "\u001b[1m15/27\u001b[0m \u001b[32m━━━━━━━━━━━\u001b[0m\u001b[37m━━━━━━━━━\u001b[0m \u001b[1m0s\u001b[0m 4ms/step - accuracy: 0.8911 - loss: 0.2760 \n",
      "Epoch 104: saving model to e:\\Games\\UnityProject\\HandDetection\\hand-gesture-recognition-using-mediapipe-main\\model\\thumb_and_index_finger_classifier\\thumb_and_index_finger_classifier.keras\n",
      "\u001b[1m27/27\u001b[0m \u001b[32m━━━━━━━━━━━━━━━━━━━━\u001b[0m\u001b[37m\u001b[0m \u001b[1m0s\u001b[0m 6ms/step - accuracy: 0.8923 - loss: 0.2771 - val_accuracy: 0.9716 - val_loss: 0.1435\n",
      "Epoch 105/1000\n",
      "\u001b[1m15/27\u001b[0m \u001b[32m━━━━━━━━━━━\u001b[0m\u001b[37m━━━━━━━━━\u001b[0m \u001b[1m0s\u001b[0m 4ms/step - accuracy: 0.8889 - loss: 0.3118 \n",
      "Epoch 105: saving model to e:\\Games\\UnityProject\\HandDetection\\hand-gesture-recognition-using-mediapipe-main\\model\\thumb_and_index_finger_classifier\\thumb_and_index_finger_classifier.keras\n",
      "\u001b[1m27/27\u001b[0m \u001b[32m━━━━━━━━━━━━━━━━━━━━\u001b[0m\u001b[37m\u001b[0m \u001b[1m0s\u001b[0m 6ms/step - accuracy: 0.8919 - loss: 0.3004 - val_accuracy: 0.9707 - val_loss: 0.1393\n",
      "Epoch 106/1000\n",
      "\u001b[1m27/27\u001b[0m \u001b[32m━━━━━━━━━━━━━━━━━━━━\u001b[0m\u001b[37m\u001b[0m \u001b[1m0s\u001b[0m 4ms/step - accuracy: 0.9004 - loss: 0.2638\n",
      "Epoch 106: saving model to e:\\Games\\UnityProject\\HandDetection\\hand-gesture-recognition-using-mediapipe-main\\model\\thumb_and_index_finger_classifier\\thumb_and_index_finger_classifier.keras\n",
      "\u001b[1m27/27\u001b[0m \u001b[32m━━━━━━━━━━━━━━━━━━━━\u001b[0m\u001b[37m\u001b[0m \u001b[1m0s\u001b[0m 6ms/step - accuracy: 0.9003 - loss: 0.2640 - val_accuracy: 0.9707 - val_loss: 0.1341\n",
      "Epoch 107/1000\n",
      "\u001b[1m15/27\u001b[0m \u001b[32m━━━━━━━━━━━\u001b[0m\u001b[37m━━━━━━━━━\u001b[0m \u001b[1m0s\u001b[0m 4ms/step - accuracy: 0.9089 - loss: 0.2648 \n",
      "Epoch 107: saving model to e:\\Games\\UnityProject\\HandDetection\\hand-gesture-recognition-using-mediapipe-main\\model\\thumb_and_index_finger_classifier\\thumb_and_index_finger_classifier.keras\n",
      "\u001b[1m27/27\u001b[0m \u001b[32m━━━━━━━━━━━━━━━━━━━━\u001b[0m\u001b[37m\u001b[0m \u001b[1m0s\u001b[0m 6ms/step - accuracy: 0.9085 - loss: 0.2642 - val_accuracy: 0.9733 - val_loss: 0.1303\n",
      "Epoch 108/1000\n",
      "\u001b[1m15/27\u001b[0m \u001b[32m━━━━━━━━━━━\u001b[0m\u001b[37m━━━━━━━━━\u001b[0m \u001b[1m0s\u001b[0m 4ms/step - accuracy: 0.9092 - loss: 0.2703 \n",
      "Epoch 108: saving model to e:\\Games\\UnityProject\\HandDetection\\hand-gesture-recognition-using-mediapipe-main\\model\\thumb_and_index_finger_classifier\\thumb_and_index_finger_classifier.keras\n",
      "\u001b[1m27/27\u001b[0m \u001b[32m━━━━━━━━━━━━━━━━━━━━\u001b[0m\u001b[37m\u001b[0m \u001b[1m0s\u001b[0m 6ms/step - accuracy: 0.9072 - loss: 0.2681 - val_accuracy: 0.9716 - val_loss: 0.1367\n",
      "Epoch 109/1000\n",
      "\u001b[1m16/27\u001b[0m \u001b[32m━━━━━━━━━━━\u001b[0m\u001b[37m━━━━━━━━━\u001b[0m \u001b[1m0s\u001b[0m 4ms/step - accuracy: 0.9096 - loss: 0.2486 \n",
      "Epoch 109: saving model to e:\\Games\\UnityProject\\HandDetection\\hand-gesture-recognition-using-mediapipe-main\\model\\thumb_and_index_finger_classifier\\thumb_and_index_finger_classifier.keras\n",
      "\u001b[1m27/27\u001b[0m \u001b[32m━━━━━━━━━━━━━━━━━━━━\u001b[0m\u001b[37m\u001b[0m \u001b[1m0s\u001b[0m 6ms/step - accuracy: 0.9086 - loss: 0.2534 - val_accuracy: 0.9698 - val_loss: 0.1354\n",
      "Epoch 110/1000\n",
      "\u001b[1m15/27\u001b[0m \u001b[32m━━━━━━━━━━━\u001b[0m\u001b[37m━━━━━━━━━\u001b[0m \u001b[1m0s\u001b[0m 4ms/step - accuracy: 0.9115 - loss: 0.2550 \n",
      "Epoch 110: saving model to e:\\Games\\UnityProject\\HandDetection\\hand-gesture-recognition-using-mediapipe-main\\model\\thumb_and_index_finger_classifier\\thumb_and_index_finger_classifier.keras\n",
      "\u001b[1m27/27\u001b[0m \u001b[32m━━━━━━━━━━━━━━━━━━━━\u001b[0m\u001b[37m\u001b[0m \u001b[1m0s\u001b[0m 6ms/step - accuracy: 0.9076 - loss: 0.2647 - val_accuracy: 0.9733 - val_loss: 0.1233\n",
      "Epoch 111/1000\n",
      "\u001b[1m15/27\u001b[0m \u001b[32m━━━━━━━━━━━\u001b[0m\u001b[37m━━━━━━━━━\u001b[0m \u001b[1m0s\u001b[0m 4ms/step - accuracy: 0.9146 - loss: 0.2651 \n",
      "Epoch 111: saving model to e:\\Games\\UnityProject\\HandDetection\\hand-gesture-recognition-using-mediapipe-main\\model\\thumb_and_index_finger_classifier\\thumb_and_index_finger_classifier.keras\n",
      "\u001b[1m27/27\u001b[0m \u001b[32m━━━━━━━━━━━━━━━━━━━━\u001b[0m\u001b[37m\u001b[0m \u001b[1m0s\u001b[0m 6ms/step - accuracy: 0.9129 - loss: 0.2692 - val_accuracy: 0.9707 - val_loss: 0.1377\n",
      "Epoch 112/1000\n",
      "\u001b[1m27/27\u001b[0m \u001b[32m━━━━━━━━━━━━━━━━━━━━\u001b[0m\u001b[37m\u001b[0m \u001b[1m0s\u001b[0m 4ms/step - accuracy: 0.9157 - loss: 0.2604\n",
      "Epoch 112: saving model to e:\\Games\\UnityProject\\HandDetection\\hand-gesture-recognition-using-mediapipe-main\\model\\thumb_and_index_finger_classifier\\thumb_and_index_finger_classifier.keras\n",
      "\u001b[1m27/27\u001b[0m \u001b[32m━━━━━━━━━━━━━━━━━━━━\u001b[0m\u001b[37m\u001b[0m \u001b[1m0s\u001b[0m 7ms/step - accuracy: 0.9153 - loss: 0.2607 - val_accuracy: 0.9742 - val_loss: 0.1262\n",
      "Epoch 113/1000\n",
      "\u001b[1m15/27\u001b[0m \u001b[32m━━━━━━━━━━━\u001b[0m\u001b[37m━━━━━━━━━\u001b[0m \u001b[1m0s\u001b[0m 4ms/step - accuracy: 0.9037 - loss: 0.2786 \n",
      "Epoch 113: saving model to e:\\Games\\UnityProject\\HandDetection\\hand-gesture-recognition-using-mediapipe-main\\model\\thumb_and_index_finger_classifier\\thumb_and_index_finger_classifier.keras\n",
      "\u001b[1m27/27\u001b[0m \u001b[32m━━━━━━━━━━━━━━━━━━━━\u001b[0m\u001b[37m\u001b[0m \u001b[1m0s\u001b[0m 6ms/step - accuracy: 0.9034 - loss: 0.2781 - val_accuracy: 0.9689 - val_loss: 0.1225\n",
      "Epoch 114/1000\n",
      "\u001b[1m15/27\u001b[0m \u001b[32m━━━━━━━━━━━\u001b[0m\u001b[37m━━━━━━━━━\u001b[0m \u001b[1m0s\u001b[0m 4ms/step - accuracy: 0.8863 - loss: 0.2802 \n",
      "Epoch 114: saving model to e:\\Games\\UnityProject\\HandDetection\\hand-gesture-recognition-using-mediapipe-main\\model\\thumb_and_index_finger_classifier\\thumb_and_index_finger_classifier.keras\n",
      "\u001b[1m27/27\u001b[0m \u001b[32m━━━━━━━━━━━━━━━━━━━━\u001b[0m\u001b[37m\u001b[0m \u001b[1m0s\u001b[0m 6ms/step - accuracy: 0.8929 - loss: 0.2787 - val_accuracy: 0.9671 - val_loss: 0.1311\n",
      "Epoch 115/1000\n",
      "\u001b[1m15/27\u001b[0m \u001b[32m━━━━━━━━━━━\u001b[0m\u001b[37m━━━━━━━━━\u001b[0m \u001b[1m0s\u001b[0m 4ms/step - accuracy: 0.9141 - loss: 0.2571 \n",
      "Epoch 115: saving model to e:\\Games\\UnityProject\\HandDetection\\hand-gesture-recognition-using-mediapipe-main\\model\\thumb_and_index_finger_classifier\\thumb_and_index_finger_classifier.keras\n",
      "\u001b[1m27/27\u001b[0m \u001b[32m━━━━━━━━━━━━━━━━━━━━\u001b[0m\u001b[37m\u001b[0m \u001b[1m0s\u001b[0m 6ms/step - accuracy: 0.9115 - loss: 0.2599 - val_accuracy: 0.9733 - val_loss: 0.1378\n",
      "Epoch 116/1000\n",
      "\u001b[1m15/27\u001b[0m \u001b[32m━━━━━━━━━━━\u001b[0m\u001b[37m━━━━━━━━━\u001b[0m \u001b[1m0s\u001b[0m 4ms/step - accuracy: 0.9095 - loss: 0.2622 \n",
      "Epoch 116: saving model to e:\\Games\\UnityProject\\HandDetection\\hand-gesture-recognition-using-mediapipe-main\\model\\thumb_and_index_finger_classifier\\thumb_and_index_finger_classifier.keras\n",
      "\u001b[1m27/27\u001b[0m \u001b[32m━━━━━━━━━━━━━━━━━━━━\u001b[0m\u001b[37m\u001b[0m \u001b[1m0s\u001b[0m 6ms/step - accuracy: 0.9084 - loss: 0.2640 - val_accuracy: 0.9698 - val_loss: 0.1357\n",
      "Epoch 117/1000\n",
      "\u001b[1m15/27\u001b[0m \u001b[32m━━━━━━━━━━━\u001b[0m\u001b[37m━━━━━━━━━\u001b[0m \u001b[1m0s\u001b[0m 4ms/step - accuracy: 0.9113 - loss: 0.2717 \n",
      "Epoch 117: saving model to e:\\Games\\UnityProject\\HandDetection\\hand-gesture-recognition-using-mediapipe-main\\model\\thumb_and_index_finger_classifier\\thumb_and_index_finger_classifier.keras\n",
      "\u001b[1m27/27\u001b[0m \u001b[32m━━━━━━━━━━━━━━━━━━━━\u001b[0m\u001b[37m\u001b[0m \u001b[1m0s\u001b[0m 6ms/step - accuracy: 0.9106 - loss: 0.2735 - val_accuracy: 0.9778 - val_loss: 0.1121\n",
      "Epoch 118/1000\n",
      "\u001b[1m14/27\u001b[0m \u001b[32m━━━━━━━━━━\u001b[0m\u001b[37m━━━━━━━━━━\u001b[0m \u001b[1m0s\u001b[0m 4ms/step - accuracy: 0.9005 - loss: 0.2634 \n",
      "Epoch 118: saving model to e:\\Games\\UnityProject\\HandDetection\\hand-gesture-recognition-using-mediapipe-main\\model\\thumb_and_index_finger_classifier\\thumb_and_index_finger_classifier.keras\n",
      "\u001b[1m27/27\u001b[0m \u001b[32m━━━━━━━━━━━━━━━━━━━━\u001b[0m\u001b[37m\u001b[0m \u001b[1m0s\u001b[0m 6ms/step - accuracy: 0.9052 - loss: 0.2616 - val_accuracy: 0.9724 - val_loss: 0.1167\n",
      "Epoch 119/1000\n",
      "\u001b[1m15/27\u001b[0m \u001b[32m━━━━━━━━━━━\u001b[0m\u001b[37m━━━━━━━━━\u001b[0m \u001b[1m0s\u001b[0m 4ms/step - accuracy: 0.9087 - loss: 0.2582 \n",
      "Epoch 119: saving model to e:\\Games\\UnityProject\\HandDetection\\hand-gesture-recognition-using-mediapipe-main\\model\\thumb_and_index_finger_classifier\\thumb_and_index_finger_classifier.keras\n",
      "\u001b[1m27/27\u001b[0m \u001b[32m━━━━━━━━━━━━━━━━━━━━\u001b[0m\u001b[37m\u001b[0m \u001b[1m0s\u001b[0m 6ms/step - accuracy: 0.9128 - loss: 0.2499 - val_accuracy: 0.9707 - val_loss: 0.1199\n",
      "Epoch 120/1000\n",
      "\u001b[1m15/27\u001b[0m \u001b[32m━━━━━━━━━━━\u001b[0m\u001b[37m━━━━━━━━━\u001b[0m \u001b[1m0s\u001b[0m 4ms/step - accuracy: 0.8937 - loss: 0.2762 \n",
      "Epoch 120: saving model to e:\\Games\\UnityProject\\HandDetection\\hand-gesture-recognition-using-mediapipe-main\\model\\thumb_and_index_finger_classifier\\thumb_and_index_finger_classifier.keras\n",
      "\u001b[1m27/27\u001b[0m \u001b[32m━━━━━━━━━━━━━━━━━━━━\u001b[0m\u001b[37m\u001b[0m \u001b[1m0s\u001b[0m 6ms/step - accuracy: 0.8977 - loss: 0.2749 - val_accuracy: 0.9796 - val_loss: 0.1135\n",
      "Epoch 121/1000\n",
      "\u001b[1m16/27\u001b[0m \u001b[32m━━━━━━━━━━━\u001b[0m\u001b[37m━━━━━━━━━\u001b[0m \u001b[1m0s\u001b[0m 4ms/step - accuracy: 0.9253 - loss: 0.2340 \n",
      "Epoch 121: saving model to e:\\Games\\UnityProject\\HandDetection\\hand-gesture-recognition-using-mediapipe-main\\model\\thumb_and_index_finger_classifier\\thumb_and_index_finger_classifier.keras\n",
      "\u001b[1m27/27\u001b[0m \u001b[32m━━━━━━━━━━━━━━━━━━━━\u001b[0m\u001b[37m\u001b[0m \u001b[1m0s\u001b[0m 6ms/step - accuracy: 0.9203 - loss: 0.2420 - val_accuracy: 0.9751 - val_loss: 0.1056\n",
      "Epoch 122/1000\n",
      "\u001b[1m15/27\u001b[0m \u001b[32m━━━━━━━━━━━\u001b[0m\u001b[37m━━━━━━━━━\u001b[0m \u001b[1m0s\u001b[0m 4ms/step - accuracy: 0.9147 - loss: 0.2338 \n",
      "Epoch 122: saving model to e:\\Games\\UnityProject\\HandDetection\\hand-gesture-recognition-using-mediapipe-main\\model\\thumb_and_index_finger_classifier\\thumb_and_index_finger_classifier.keras\n",
      "\u001b[1m27/27\u001b[0m \u001b[32m━━━━━━━━━━━━━━━━━━━━\u001b[0m\u001b[37m\u001b[0m \u001b[1m0s\u001b[0m 6ms/step - accuracy: 0.9134 - loss: 0.2381 - val_accuracy: 0.9742 - val_loss: 0.1116\n",
      "Epoch 123/1000\n",
      "\u001b[1m14/27\u001b[0m \u001b[32m━━━━━━━━━━\u001b[0m\u001b[37m━━━━━━━━━━\u001b[0m \u001b[1m0s\u001b[0m 4ms/step - accuracy: 0.9204 - loss: 0.2505 \n",
      "Epoch 123: saving model to e:\\Games\\UnityProject\\HandDetection\\hand-gesture-recognition-using-mediapipe-main\\model\\thumb_and_index_finger_classifier\\thumb_and_index_finger_classifier.keras\n",
      "\u001b[1m27/27\u001b[0m \u001b[32m━━━━━━━━━━━━━━━━━━━━\u001b[0m\u001b[37m\u001b[0m \u001b[1m0s\u001b[0m 6ms/step - accuracy: 0.9197 - loss: 0.2481 - val_accuracy: 0.9671 - val_loss: 0.1301\n",
      "Epoch 124/1000\n",
      "\u001b[1m16/27\u001b[0m \u001b[32m━━━━━━━━━━━\u001b[0m\u001b[37m━━━━━━━━━\u001b[0m \u001b[1m0s\u001b[0m 4ms/step - accuracy: 0.9171 - loss: 0.2560 \n",
      "Epoch 124: saving model to e:\\Games\\UnityProject\\HandDetection\\hand-gesture-recognition-using-mediapipe-main\\model\\thumb_and_index_finger_classifier\\thumb_and_index_finger_classifier.keras\n",
      "\u001b[1m27/27\u001b[0m \u001b[32m━━━━━━━━━━━━━━━━━━━━\u001b[0m\u001b[37m\u001b[0m \u001b[1m0s\u001b[0m 6ms/step - accuracy: 0.9154 - loss: 0.2522 - val_accuracy: 0.9742 - val_loss: 0.1063\n",
      "Epoch 125/1000\n",
      "\u001b[1m15/27\u001b[0m \u001b[32m━━━━━━━━━━━\u001b[0m\u001b[37m━━━━━━━━━\u001b[0m \u001b[1m0s\u001b[0m 4ms/step - accuracy: 0.9266 - loss: 0.2240 \n",
      "Epoch 125: saving model to e:\\Games\\UnityProject\\HandDetection\\hand-gesture-recognition-using-mediapipe-main\\model\\thumb_and_index_finger_classifier\\thumb_and_index_finger_classifier.keras\n",
      "\u001b[1m27/27\u001b[0m \u001b[32m━━━━━━━━━━━━━━━━━━━━\u001b[0m\u001b[37m\u001b[0m \u001b[1m0s\u001b[0m 6ms/step - accuracy: 0.9231 - loss: 0.2314 - val_accuracy: 0.9716 - val_loss: 0.1159\n",
      "Epoch 126/1000\n",
      "\u001b[1m15/27\u001b[0m \u001b[32m━━━━━━━━━━━\u001b[0m\u001b[37m━━━━━━━━━\u001b[0m \u001b[1m0s\u001b[0m 4ms/step - accuracy: 0.9088 - loss: 0.2483 \n",
      "Epoch 126: saving model to e:\\Games\\UnityProject\\HandDetection\\hand-gesture-recognition-using-mediapipe-main\\model\\thumb_and_index_finger_classifier\\thumb_and_index_finger_classifier.keras\n",
      "\u001b[1m27/27\u001b[0m \u001b[32m━━━━━━━━━━━━━━━━━━━━\u001b[0m\u001b[37m\u001b[0m \u001b[1m0s\u001b[0m 6ms/step - accuracy: 0.9134 - loss: 0.2400 - val_accuracy: 0.9742 - val_loss: 0.1076\n",
      "Epoch 127/1000\n",
      "\u001b[1m15/27\u001b[0m \u001b[32m━━━━━━━━━━━\u001b[0m\u001b[37m━━━━━━━━━\u001b[0m \u001b[1m0s\u001b[0m 4ms/step - accuracy: 0.9032 - loss: 0.2474 \n",
      "Epoch 127: saving model to e:\\Games\\UnityProject\\HandDetection\\hand-gesture-recognition-using-mediapipe-main\\model\\thumb_and_index_finger_classifier\\thumb_and_index_finger_classifier.keras\n",
      "\u001b[1m27/27\u001b[0m \u001b[32m━━━━━━━━━━━━━━━━━━━━\u001b[0m\u001b[37m\u001b[0m \u001b[1m0s\u001b[0m 6ms/step - accuracy: 0.9068 - loss: 0.2478 - val_accuracy: 0.9724 - val_loss: 0.1045\n",
      "Epoch 128/1000\n",
      "\u001b[1m15/27\u001b[0m \u001b[32m━━━━━━━━━━━\u001b[0m\u001b[37m━━━━━━━━━\u001b[0m \u001b[1m0s\u001b[0m 4ms/step - accuracy: 0.9169 - loss: 0.2345 \n",
      "Epoch 128: saving model to e:\\Games\\UnityProject\\HandDetection\\hand-gesture-recognition-using-mediapipe-main\\model\\thumb_and_index_finger_classifier\\thumb_and_index_finger_classifier.keras\n",
      "\u001b[1m27/27\u001b[0m \u001b[32m━━━━━━━━━━━━━━━━━━━━\u001b[0m\u001b[37m\u001b[0m \u001b[1m0s\u001b[0m 6ms/step - accuracy: 0.9151 - loss: 0.2392 - val_accuracy: 0.9751 - val_loss: 0.1161\n",
      "Epoch 129/1000\n",
      "\u001b[1m15/27\u001b[0m \u001b[32m━━━━━━━━━━━\u001b[0m\u001b[37m━━━━━━━━━\u001b[0m \u001b[1m0s\u001b[0m 4ms/step - accuracy: 0.9225 - loss: 0.2246 \n",
      "Epoch 129: saving model to e:\\Games\\UnityProject\\HandDetection\\hand-gesture-recognition-using-mediapipe-main\\model\\thumb_and_index_finger_classifier\\thumb_and_index_finger_classifier.keras\n",
      "\u001b[1m27/27\u001b[0m \u001b[32m━━━━━━━━━━━━━━━━━━━━\u001b[0m\u001b[37m\u001b[0m \u001b[1m0s\u001b[0m 6ms/step - accuracy: 0.9229 - loss: 0.2238 - val_accuracy: 0.9804 - val_loss: 0.0956\n",
      "Epoch 130/1000\n",
      "\u001b[1m15/27\u001b[0m \u001b[32m━━━━━━━━━━━\u001b[0m\u001b[37m━━━━━━━━━\u001b[0m \u001b[1m0s\u001b[0m 4ms/step - accuracy: 0.9141 - loss: 0.2631 \n",
      "Epoch 130: saving model to e:\\Games\\UnityProject\\HandDetection\\hand-gesture-recognition-using-mediapipe-main\\model\\thumb_and_index_finger_classifier\\thumb_and_index_finger_classifier.keras\n",
      "\u001b[1m27/27\u001b[0m \u001b[32m━━━━━━━━━━━━━━━━━━━━\u001b[0m\u001b[37m\u001b[0m \u001b[1m0s\u001b[0m 6ms/step - accuracy: 0.9168 - loss: 0.2539 - val_accuracy: 0.9724 - val_loss: 0.1123\n",
      "Epoch 131/1000\n",
      "\u001b[1m15/27\u001b[0m \u001b[32m━━━━━━━━━━━\u001b[0m\u001b[37m━━━━━━━━━\u001b[0m \u001b[1m0s\u001b[0m 4ms/step - accuracy: 0.9189 - loss: 0.2364 \n",
      "Epoch 131: saving model to e:\\Games\\UnityProject\\HandDetection\\hand-gesture-recognition-using-mediapipe-main\\model\\thumb_and_index_finger_classifier\\thumb_and_index_finger_classifier.keras\n",
      "\u001b[1m27/27\u001b[0m \u001b[32m━━━━━━━━━━━━━━━━━━━━\u001b[0m\u001b[37m\u001b[0m \u001b[1m0s\u001b[0m 6ms/step - accuracy: 0.9187 - loss: 0.2347 - val_accuracy: 0.9751 - val_loss: 0.1103\n",
      "Epoch 132/1000\n",
      "\u001b[1m26/27\u001b[0m \u001b[32m━━━━━━━━━━━━━━━━━━━\u001b[0m\u001b[37m━\u001b[0m \u001b[1m0s\u001b[0m 4ms/step - accuracy: 0.9250 - loss: 0.2258\n",
      "Epoch 132: saving model to e:\\Games\\UnityProject\\HandDetection\\hand-gesture-recognition-using-mediapipe-main\\model\\thumb_and_index_finger_classifier\\thumb_and_index_finger_classifier.keras\n",
      "\u001b[1m27/27\u001b[0m \u001b[32m━━━━━━━━━━━━━━━━━━━━\u001b[0m\u001b[37m\u001b[0m \u001b[1m0s\u001b[0m 6ms/step - accuracy: 0.9246 - loss: 0.2261 - val_accuracy: 0.9653 - val_loss: 0.1322\n",
      "Epoch 133/1000\n",
      "\u001b[1m15/27\u001b[0m \u001b[32m━━━━━━━━━━━\u001b[0m\u001b[37m━━━━━━━━━\u001b[0m \u001b[1m0s\u001b[0m 4ms/step - accuracy: 0.9189 - loss: 0.2538 \n",
      "Epoch 133: saving model to e:\\Games\\UnityProject\\HandDetection\\hand-gesture-recognition-using-mediapipe-main\\model\\thumb_and_index_finger_classifier\\thumb_and_index_finger_classifier.keras\n",
      "\u001b[1m27/27\u001b[0m \u001b[32m━━━━━━━━━━━━━━━━━━━━\u001b[0m\u001b[37m\u001b[0m \u001b[1m0s\u001b[0m 6ms/step - accuracy: 0.9188 - loss: 0.2431 - val_accuracy: 0.9751 - val_loss: 0.1016\n",
      "Epoch 134/1000\n",
      "\u001b[1m15/27\u001b[0m \u001b[32m━━━━━━━━━━━\u001b[0m\u001b[37m━━━━━━━━━\u001b[0m \u001b[1m0s\u001b[0m 4ms/step - accuracy: 0.9228 - loss: 0.2372 \n",
      "Epoch 134: saving model to e:\\Games\\UnityProject\\HandDetection\\hand-gesture-recognition-using-mediapipe-main\\model\\thumb_and_index_finger_classifier\\thumb_and_index_finger_classifier.keras\n",
      "\u001b[1m27/27\u001b[0m \u001b[32m━━━━━━━━━━━━━━━━━━━━\u001b[0m\u001b[37m\u001b[0m \u001b[1m0s\u001b[0m 6ms/step - accuracy: 0.9219 - loss: 0.2350 - val_accuracy: 0.9760 - val_loss: 0.1017\n",
      "Epoch 135/1000\n",
      "\u001b[1m15/27\u001b[0m \u001b[32m━━━━━━━━━━━\u001b[0m\u001b[37m━━━━━━━━━\u001b[0m \u001b[1m0s\u001b[0m 4ms/step - accuracy: 0.9156 - loss: 0.2642 \n",
      "Epoch 135: saving model to e:\\Games\\UnityProject\\HandDetection\\hand-gesture-recognition-using-mediapipe-main\\model\\thumb_and_index_finger_classifier\\thumb_and_index_finger_classifier.keras\n",
      "\u001b[1m27/27\u001b[0m \u001b[32m━━━━━━━━━━━━━━━━━━━━\u001b[0m\u001b[37m\u001b[0m \u001b[1m0s\u001b[0m 6ms/step - accuracy: 0.9156 - loss: 0.2553 - val_accuracy: 0.9742 - val_loss: 0.1117\n",
      "Epoch 136/1000\n",
      "\u001b[1m15/27\u001b[0m \u001b[32m━━━━━━━━━━━\u001b[0m\u001b[37m━━━━━━━━━\u001b[0m \u001b[1m0s\u001b[0m 4ms/step - accuracy: 0.9143 - loss: 0.2519 \n",
      "Epoch 136: saving model to e:\\Games\\UnityProject\\HandDetection\\hand-gesture-recognition-using-mediapipe-main\\model\\thumb_and_index_finger_classifier\\thumb_and_index_finger_classifier.keras\n",
      "\u001b[1m27/27\u001b[0m \u001b[32m━━━━━━━━━━━━━━━━━━━━\u001b[0m\u001b[37m\u001b[0m \u001b[1m0s\u001b[0m 6ms/step - accuracy: 0.9150 - loss: 0.2483 - val_accuracy: 0.9751 - val_loss: 0.1110\n",
      "Epoch 137/1000\n",
      "\u001b[1m16/27\u001b[0m \u001b[32m━━━━━━━━━━━\u001b[0m\u001b[37m━━━━━━━━━\u001b[0m \u001b[1m0s\u001b[0m 4ms/step - accuracy: 0.9240 - loss: 0.2110 \n",
      "Epoch 137: saving model to e:\\Games\\UnityProject\\HandDetection\\hand-gesture-recognition-using-mediapipe-main\\model\\thumb_and_index_finger_classifier\\thumb_and_index_finger_classifier.keras\n",
      "\u001b[1m27/27\u001b[0m \u001b[32m━━━━━━━━━━━━━━━━━━━━\u001b[0m\u001b[37m\u001b[0m \u001b[1m0s\u001b[0m 6ms/step - accuracy: 0.9220 - loss: 0.2183 - val_accuracy: 0.9760 - val_loss: 0.1043\n",
      "Epoch 138/1000\n",
      "\u001b[1m16/27\u001b[0m \u001b[32m━━━━━━━━━━━\u001b[0m\u001b[37m━━━━━━━━━\u001b[0m \u001b[1m0s\u001b[0m 4ms/step - accuracy: 0.9298 - loss: 0.2112 \n",
      "Epoch 138: saving model to e:\\Games\\UnityProject\\HandDetection\\hand-gesture-recognition-using-mediapipe-main\\model\\thumb_and_index_finger_classifier\\thumb_and_index_finger_classifier.keras\n",
      "\u001b[1m27/27\u001b[0m \u001b[32m━━━━━━━━━━━━━━━━━━━━\u001b[0m\u001b[37m\u001b[0m \u001b[1m0s\u001b[0m 6ms/step - accuracy: 0.9281 - loss: 0.2185 - val_accuracy: 0.9796 - val_loss: 0.0954\n",
      "Epoch 139/1000\n",
      "\u001b[1m15/27\u001b[0m \u001b[32m━━━━━━━━━━━\u001b[0m\u001b[37m━━━━━━━━━\u001b[0m \u001b[1m0s\u001b[0m 4ms/step - accuracy: 0.9229 - loss: 0.2114 \n",
      "Epoch 139: saving model to e:\\Games\\UnityProject\\HandDetection\\hand-gesture-recognition-using-mediapipe-main\\model\\thumb_and_index_finger_classifier\\thumb_and_index_finger_classifier.keras\n",
      "\u001b[1m27/27\u001b[0m \u001b[32m━━━━━━━━━━━━━━━━━━━━\u001b[0m\u001b[37m\u001b[0m \u001b[1m0s\u001b[0m 6ms/step - accuracy: 0.9243 - loss: 0.2133 - val_accuracy: 0.9716 - val_loss: 0.1047\n",
      "Epoch 140/1000\n",
      "\u001b[1m15/27\u001b[0m \u001b[32m━━━━━━━━━━━\u001b[0m\u001b[37m━━━━━━━━━\u001b[0m \u001b[1m0s\u001b[0m 4ms/step - accuracy: 0.9216 - loss: 0.2159 \n",
      "Epoch 140: saving model to e:\\Games\\UnityProject\\HandDetection\\hand-gesture-recognition-using-mediapipe-main\\model\\thumb_and_index_finger_classifier\\thumb_and_index_finger_classifier.keras\n",
      "\u001b[1m27/27\u001b[0m \u001b[32m━━━━━━━━━━━━━━━━━━━━\u001b[0m\u001b[37m\u001b[0m \u001b[1m0s\u001b[0m 6ms/step - accuracy: 0.9225 - loss: 0.2205 - val_accuracy: 0.9778 - val_loss: 0.0878\n",
      "Epoch 141/1000\n",
      "\u001b[1m14/27\u001b[0m \u001b[32m━━━━━━━━━━\u001b[0m\u001b[37m━━━━━━━━━━\u001b[0m \u001b[1m0s\u001b[0m 4ms/step - accuracy: 0.9094 - loss: 0.2527 \n",
      "Epoch 141: saving model to e:\\Games\\UnityProject\\HandDetection\\hand-gesture-recognition-using-mediapipe-main\\model\\thumb_and_index_finger_classifier\\thumb_and_index_finger_classifier.keras\n",
      "\u001b[1m27/27\u001b[0m \u001b[32m━━━━━━━━━━━━━━━━━━━━\u001b[0m\u001b[37m\u001b[0m \u001b[1m0s\u001b[0m 6ms/step - accuracy: 0.9149 - loss: 0.2392 - val_accuracy: 0.9769 - val_loss: 0.0935\n",
      "Epoch 142/1000\n",
      "\u001b[1m24/27\u001b[0m \u001b[32m━━━━━━━━━━━━━━━━━\u001b[0m\u001b[37m━━━\u001b[0m \u001b[1m0s\u001b[0m 5ms/step - accuracy: 0.9292 - loss: 0.2166\n",
      "Epoch 142: saving model to e:\\Games\\UnityProject\\HandDetection\\hand-gesture-recognition-using-mediapipe-main\\model\\thumb_and_index_finger_classifier\\thumb_and_index_finger_classifier.keras\n",
      "\u001b[1m27/27\u001b[0m \u001b[32m━━━━━━━━━━━━━━━━━━━━\u001b[0m\u001b[37m\u001b[0m \u001b[1m0s\u001b[0m 7ms/step - accuracy: 0.9290 - loss: 0.2170 - val_accuracy: 0.9769 - val_loss: 0.0957\n",
      "Epoch 143/1000\n",
      "\u001b[1m16/27\u001b[0m \u001b[32m━━━━━━━━━━━\u001b[0m\u001b[37m━━━━━━━━━\u001b[0m \u001b[1m0s\u001b[0m 4ms/step - accuracy: 0.9196 - loss: 0.2346 \n",
      "Epoch 143: saving model to e:\\Games\\UnityProject\\HandDetection\\hand-gesture-recognition-using-mediapipe-main\\model\\thumb_and_index_finger_classifier\\thumb_and_index_finger_classifier.keras\n",
      "\u001b[1m27/27\u001b[0m \u001b[32m━━━━━━━━━━━━━━━━━━━━\u001b[0m\u001b[37m\u001b[0m \u001b[1m0s\u001b[0m 5ms/step - accuracy: 0.9203 - loss: 0.2293 - val_accuracy: 0.9769 - val_loss: 0.1069\n",
      "Epoch 144/1000\n",
      "\u001b[1m16/27\u001b[0m \u001b[32m━━━━━━━━━━━\u001b[0m\u001b[37m━━━━━━━━━\u001b[0m \u001b[1m0s\u001b[0m 4ms/step - accuracy: 0.9152 - loss: 0.2397 \n",
      "Epoch 144: saving model to e:\\Games\\UnityProject\\HandDetection\\hand-gesture-recognition-using-mediapipe-main\\model\\thumb_and_index_finger_classifier\\thumb_and_index_finger_classifier.keras\n",
      "\u001b[1m27/27\u001b[0m \u001b[32m━━━━━━━━━━━━━━━━━━━━\u001b[0m\u001b[37m\u001b[0m \u001b[1m0s\u001b[0m 6ms/step - accuracy: 0.9188 - loss: 0.2324 - val_accuracy: 0.9804 - val_loss: 0.0880\n",
      "Epoch 145/1000\n",
      "\u001b[1m16/27\u001b[0m \u001b[32m━━━━━━━━━━━\u001b[0m\u001b[37m━━━━━━━━━\u001b[0m \u001b[1m0s\u001b[0m 3ms/step - accuracy: 0.9279 - loss: 0.2145 \n",
      "Epoch 145: saving model to e:\\Games\\UnityProject\\HandDetection\\hand-gesture-recognition-using-mediapipe-main\\model\\thumb_and_index_finger_classifier\\thumb_and_index_finger_classifier.keras\n",
      "\u001b[1m27/27\u001b[0m \u001b[32m━━━━━━━━━━━━━━━━━━━━\u001b[0m\u001b[37m\u001b[0m \u001b[1m0s\u001b[0m 5ms/step - accuracy: 0.9269 - loss: 0.2146 - val_accuracy: 0.9769 - val_loss: 0.1101\n",
      "Epoch 146/1000\n",
      "\u001b[1m16/27\u001b[0m \u001b[32m━━━━━━━━━━━\u001b[0m\u001b[37m━━━━━━━━━\u001b[0m \u001b[1m0s\u001b[0m 4ms/step - accuracy: 0.9229 - loss: 0.2214 \n",
      "Epoch 146: saving model to e:\\Games\\UnityProject\\HandDetection\\hand-gesture-recognition-using-mediapipe-main\\model\\thumb_and_index_finger_classifier\\thumb_and_index_finger_classifier.keras\n",
      "\u001b[1m27/27\u001b[0m \u001b[32m━━━━━━━━━━━━━━━━━━━━\u001b[0m\u001b[37m\u001b[0m \u001b[1m0s\u001b[0m 6ms/step - accuracy: 0.9237 - loss: 0.2211 - val_accuracy: 0.9787 - val_loss: 0.0976\n",
      "Epoch 147/1000\n",
      "\u001b[1m16/27\u001b[0m \u001b[32m━━━━━━━━━━━\u001b[0m\u001b[37m━━━━━━━━━\u001b[0m \u001b[1m0s\u001b[0m 3ms/step - accuracy: 0.9325 - loss: 0.2049 \n",
      "Epoch 147: saving model to e:\\Games\\UnityProject\\HandDetection\\hand-gesture-recognition-using-mediapipe-main\\model\\thumb_and_index_finger_classifier\\thumb_and_index_finger_classifier.keras\n",
      "\u001b[1m27/27\u001b[0m \u001b[32m━━━━━━━━━━━━━━━━━━━━\u001b[0m\u001b[37m\u001b[0m \u001b[1m0s\u001b[0m 5ms/step - accuracy: 0.9278 - loss: 0.2113 - val_accuracy: 0.9760 - val_loss: 0.1047\n",
      "Epoch 148/1000\n",
      "\u001b[1m16/27\u001b[0m \u001b[32m━━━━━━━━━━━\u001b[0m\u001b[37m━━━━━━━━━\u001b[0m \u001b[1m0s\u001b[0m 4ms/step - accuracy: 0.9246 - loss: 0.2083 \n",
      "Epoch 148: saving model to e:\\Games\\UnityProject\\HandDetection\\hand-gesture-recognition-using-mediapipe-main\\model\\thumb_and_index_finger_classifier\\thumb_and_index_finger_classifier.keras\n",
      "\u001b[1m27/27\u001b[0m \u001b[32m━━━━━━━━━━━━━━━━━━━━\u001b[0m\u001b[37m\u001b[0m \u001b[1m0s\u001b[0m 6ms/step - accuracy: 0.9221 - loss: 0.2163 - val_accuracy: 0.9733 - val_loss: 0.1034\n",
      "Epoch 149/1000\n",
      "\u001b[1m16/27\u001b[0m \u001b[32m━━━━━━━━━━━\u001b[0m\u001b[37m━━━━━━━━━\u001b[0m \u001b[1m0s\u001b[0m 4ms/step - accuracy: 0.9338 - loss: 0.2036 \n",
      "Epoch 149: saving model to e:\\Games\\UnityProject\\HandDetection\\hand-gesture-recognition-using-mediapipe-main\\model\\thumb_and_index_finger_classifier\\thumb_and_index_finger_classifier.keras\n",
      "\u001b[1m27/27\u001b[0m \u001b[32m━━━━━━━━━━━━━━━━━━━━\u001b[0m\u001b[37m\u001b[0m \u001b[1m0s\u001b[0m 6ms/step - accuracy: 0.9336 - loss: 0.2036 - val_accuracy: 0.9760 - val_loss: 0.0873\n",
      "Epoch 150/1000\n",
      "\u001b[1m24/27\u001b[0m \u001b[32m━━━━━━━━━━━━━━━━━\u001b[0m\u001b[37m━━━\u001b[0m \u001b[1m0s\u001b[0m 5ms/step - accuracy: 0.9284 - loss: 0.2213\n",
      "Epoch 150: saving model to e:\\Games\\UnityProject\\HandDetection\\hand-gesture-recognition-using-mediapipe-main\\model\\thumb_and_index_finger_classifier\\thumb_and_index_finger_classifier.keras\n",
      "\u001b[1m27/27\u001b[0m \u001b[32m━━━━━━━━━━━━━━━━━━━━\u001b[0m\u001b[37m\u001b[0m \u001b[1m0s\u001b[0m 7ms/step - accuracy: 0.9288 - loss: 0.2201 - val_accuracy: 0.9760 - val_loss: 0.1032\n",
      "Epoch 151/1000\n",
      "\u001b[1m16/27\u001b[0m \u001b[32m━━━━━━━━━━━\u001b[0m\u001b[37m━━━━━━━━━\u001b[0m \u001b[1m0s\u001b[0m 3ms/step - accuracy: 0.9379 - loss: 0.2073 \n",
      "Epoch 151: saving model to e:\\Games\\UnityProject\\HandDetection\\hand-gesture-recognition-using-mediapipe-main\\model\\thumb_and_index_finger_classifier\\thumb_and_index_finger_classifier.keras\n",
      "\u001b[1m27/27\u001b[0m \u001b[32m━━━━━━━━━━━━━━━━━━━━\u001b[0m\u001b[37m\u001b[0m \u001b[1m0s\u001b[0m 6ms/step - accuracy: 0.9357 - loss: 0.2061 - val_accuracy: 0.9813 - val_loss: 0.0825\n",
      "Epoch 152/1000\n",
      "\u001b[1m15/27\u001b[0m \u001b[32m━━━━━━━━━━━\u001b[0m\u001b[37m━━━━━━━━━\u001b[0m \u001b[1m0s\u001b[0m 4ms/step - accuracy: 0.9268 - loss: 0.2245 \n",
      "Epoch 152: saving model to e:\\Games\\UnityProject\\HandDetection\\hand-gesture-recognition-using-mediapipe-main\\model\\thumb_and_index_finger_classifier\\thumb_and_index_finger_classifier.keras\n",
      "\u001b[1m27/27\u001b[0m \u001b[32m━━━━━━━━━━━━━━━━━━━━\u001b[0m\u001b[37m\u001b[0m \u001b[1m0s\u001b[0m 6ms/step - accuracy: 0.9264 - loss: 0.2179 - val_accuracy: 0.9760 - val_loss: 0.0954\n",
      "Epoch 153/1000\n",
      "\u001b[1m15/27\u001b[0m \u001b[32m━━━━━━━━━━━\u001b[0m\u001b[37m━━━━━━━━━\u001b[0m \u001b[1m0s\u001b[0m 4ms/step - accuracy: 0.9207 - loss: 0.2202 \n",
      "Epoch 153: saving model to e:\\Games\\UnityProject\\HandDetection\\hand-gesture-recognition-using-mediapipe-main\\model\\thumb_and_index_finger_classifier\\thumb_and_index_finger_classifier.keras\n",
      "\u001b[1m27/27\u001b[0m \u001b[32m━━━━━━━━━━━━━━━━━━━━\u001b[0m\u001b[37m\u001b[0m \u001b[1m0s\u001b[0m 6ms/step - accuracy: 0.9222 - loss: 0.2168 - val_accuracy: 0.9778 - val_loss: 0.0897\n",
      "Epoch 154/1000\n",
      "\u001b[1m16/27\u001b[0m \u001b[32m━━━━━━━━━━━\u001b[0m\u001b[37m━━━━━━━━━\u001b[0m \u001b[1m0s\u001b[0m 4ms/step - accuracy: 0.9234 - loss: 0.2109 \n",
      "Epoch 154: saving model to e:\\Games\\UnityProject\\HandDetection\\hand-gesture-recognition-using-mediapipe-main\\model\\thumb_and_index_finger_classifier\\thumb_and_index_finger_classifier.keras\n",
      "\u001b[1m27/27\u001b[0m \u001b[32m━━━━━━━━━━━━━━━━━━━━\u001b[0m\u001b[37m\u001b[0m \u001b[1m0s\u001b[0m 6ms/step - accuracy: 0.9255 - loss: 0.2076 - val_accuracy: 0.9804 - val_loss: 0.0804\n",
      "Epoch 155/1000\n",
      "\u001b[1m16/27\u001b[0m \u001b[32m━━━━━━━━━━━\u001b[0m\u001b[37m━━━━━━━━━\u001b[0m \u001b[1m0s\u001b[0m 3ms/step - accuracy: 0.9292 - loss: 0.2078 \n",
      "Epoch 155: saving model to e:\\Games\\UnityProject\\HandDetection\\hand-gesture-recognition-using-mediapipe-main\\model\\thumb_and_index_finger_classifier\\thumb_and_index_finger_classifier.keras\n",
      "\u001b[1m27/27\u001b[0m \u001b[32m━━━━━━━━━━━━━━━━━━━━\u001b[0m\u001b[37m\u001b[0m \u001b[1m0s\u001b[0m 6ms/step - accuracy: 0.9275 - loss: 0.2075 - val_accuracy: 0.9813 - val_loss: 0.0834\n",
      "Epoch 156/1000\n",
      "\u001b[1m16/27\u001b[0m \u001b[32m━━━━━━━━━━━\u001b[0m\u001b[37m━━━━━━━━━\u001b[0m \u001b[1m0s\u001b[0m 3ms/step - accuracy: 0.9281 - loss: 0.1905 \n",
      "Epoch 156: saving model to e:\\Games\\UnityProject\\HandDetection\\hand-gesture-recognition-using-mediapipe-main\\model\\thumb_and_index_finger_classifier\\thumb_and_index_finger_classifier.keras\n",
      "\u001b[1m27/27\u001b[0m \u001b[32m━━━━━━━━━━━━━━━━━━━━\u001b[0m\u001b[37m\u001b[0m \u001b[1m0s\u001b[0m 6ms/step - accuracy: 0.9292 - loss: 0.1974 - val_accuracy: 0.9796 - val_loss: 0.0815\n",
      "Epoch 157/1000\n",
      "\u001b[1m15/27\u001b[0m \u001b[32m━━━━━━━━━━━\u001b[0m\u001b[37m━━━━━━━━━\u001b[0m \u001b[1m0s\u001b[0m 4ms/step - accuracy: 0.9346 - loss: 0.1859 \n",
      "Epoch 157: saving model to e:\\Games\\UnityProject\\HandDetection\\hand-gesture-recognition-using-mediapipe-main\\model\\thumb_and_index_finger_classifier\\thumb_and_index_finger_classifier.keras\n",
      "\u001b[1m27/27\u001b[0m \u001b[32m━━━━━━━━━━━━━━━━━━━━\u001b[0m\u001b[37m\u001b[0m \u001b[1m0s\u001b[0m 6ms/step - accuracy: 0.9359 - loss: 0.1899 - val_accuracy: 0.9822 - val_loss: 0.0759\n",
      "Epoch 158/1000\n",
      "\u001b[1m16/27\u001b[0m \u001b[32m━━━━━━━━━━━\u001b[0m\u001b[37m━━━━━━━━━\u001b[0m \u001b[1m0s\u001b[0m 3ms/step - accuracy: 0.9322 - loss: 0.2309 \n",
      "Epoch 158: saving model to e:\\Games\\UnityProject\\HandDetection\\hand-gesture-recognition-using-mediapipe-main\\model\\thumb_and_index_finger_classifier\\thumb_and_index_finger_classifier.keras\n",
      "\u001b[1m27/27\u001b[0m \u001b[32m━━━━━━━━━━━━━━━━━━━━\u001b[0m\u001b[37m\u001b[0m \u001b[1m0s\u001b[0m 5ms/step - accuracy: 0.9325 - loss: 0.2210 - val_accuracy: 0.9796 - val_loss: 0.0963\n",
      "Epoch 159/1000\n",
      "\u001b[1m27/27\u001b[0m \u001b[32m━━━━━━━━━━━━━━━━━━━━\u001b[0m\u001b[37m\u001b[0m \u001b[1m0s\u001b[0m 4ms/step - accuracy: 0.9307 - loss: 0.1974\n",
      "Epoch 159: saving model to e:\\Games\\UnityProject\\HandDetection\\hand-gesture-recognition-using-mediapipe-main\\model\\thumb_and_index_finger_classifier\\thumb_and_index_finger_classifier.keras\n",
      "\u001b[1m27/27\u001b[0m \u001b[32m━━━━━━━━━━━━━━━━━━━━\u001b[0m\u001b[37m\u001b[0m \u001b[1m0s\u001b[0m 6ms/step - accuracy: 0.9306 - loss: 0.1975 - val_accuracy: 0.9787 - val_loss: 0.0900\n",
      "Epoch 160/1000\n",
      "\u001b[1m16/27\u001b[0m \u001b[32m━━━━━━━━━━━\u001b[0m\u001b[37m━━━━━━━━━\u001b[0m \u001b[1m0s\u001b[0m 4ms/step - accuracy: 0.9371 - loss: 0.1816 \n",
      "Epoch 160: saving model to e:\\Games\\UnityProject\\HandDetection\\hand-gesture-recognition-using-mediapipe-main\\model\\thumb_and_index_finger_classifier\\thumb_and_index_finger_classifier.keras\n",
      "\u001b[1m27/27\u001b[0m \u001b[32m━━━━━━━━━━━━━━━━━━━━\u001b[0m\u001b[37m\u001b[0m \u001b[1m0s\u001b[0m 5ms/step - accuracy: 0.9360 - loss: 0.1862 - val_accuracy: 0.9769 - val_loss: 0.0785\n",
      "Epoch 161/1000\n",
      "\u001b[1m16/27\u001b[0m \u001b[32m━━━━━━━━━━━\u001b[0m\u001b[37m━━━━━━━━━\u001b[0m \u001b[1m0s\u001b[0m 3ms/step - accuracy: 0.9325 - loss: 0.1919 \n",
      "Epoch 161: saving model to e:\\Games\\UnityProject\\HandDetection\\hand-gesture-recognition-using-mediapipe-main\\model\\thumb_and_index_finger_classifier\\thumb_and_index_finger_classifier.keras\n",
      "\u001b[1m27/27\u001b[0m \u001b[32m━━━━━━━━━━━━━━━━━━━━\u001b[0m\u001b[37m\u001b[0m \u001b[1m0s\u001b[0m 6ms/step - accuracy: 0.9305 - loss: 0.1971 - val_accuracy: 0.9796 - val_loss: 0.0803\n",
      "Epoch 162/1000\n",
      "\u001b[1m16/27\u001b[0m \u001b[32m━━━━━━━━━━━\u001b[0m\u001b[37m━━━━━━━━━\u001b[0m \u001b[1m0s\u001b[0m 3ms/step - accuracy: 0.9372 - loss: 0.1810 \n",
      "Epoch 162: saving model to e:\\Games\\UnityProject\\HandDetection\\hand-gesture-recognition-using-mediapipe-main\\model\\thumb_and_index_finger_classifier\\thumb_and_index_finger_classifier.keras\n",
      "\u001b[1m27/27\u001b[0m \u001b[32m━━━━━━━━━━━━━━━━━━━━\u001b[0m\u001b[37m\u001b[0m \u001b[1m0s\u001b[0m 5ms/step - accuracy: 0.9320 - loss: 0.1913 - val_accuracy: 0.9796 - val_loss: 0.0842\n",
      "Epoch 163/1000\n",
      "\u001b[1m15/27\u001b[0m \u001b[32m━━━━━━━━━━━\u001b[0m\u001b[37m━━━━━━━━━\u001b[0m \u001b[1m0s\u001b[0m 4ms/step - accuracy: 0.9381 - loss: 0.1708 \n",
      "Epoch 163: saving model to e:\\Games\\UnityProject\\HandDetection\\hand-gesture-recognition-using-mediapipe-main\\model\\thumb_and_index_finger_classifier\\thumb_and_index_finger_classifier.keras\n",
      "\u001b[1m27/27\u001b[0m \u001b[32m━━━━━━━━━━━━━━━━━━━━\u001b[0m\u001b[37m\u001b[0m \u001b[1m0s\u001b[0m 6ms/step - accuracy: 0.9380 - loss: 0.1748 - val_accuracy: 0.9760 - val_loss: 0.0931\n",
      "Epoch 164/1000\n",
      "\u001b[1m16/27\u001b[0m \u001b[32m━━━━━━━━━━━\u001b[0m\u001b[37m━━━━━━━━━\u001b[0m \u001b[1m0s\u001b[0m 4ms/step - accuracy: 0.9344 - loss: 0.2050 \n",
      "Epoch 164: saving model to e:\\Games\\UnityProject\\HandDetection\\hand-gesture-recognition-using-mediapipe-main\\model\\thumb_and_index_finger_classifier\\thumb_and_index_finger_classifier.keras\n",
      "\u001b[1m27/27\u001b[0m \u001b[32m━━━━━━━━━━━━━━━━━━━━\u001b[0m\u001b[37m\u001b[0m \u001b[1m0s\u001b[0m 6ms/step - accuracy: 0.9334 - loss: 0.2056 - val_accuracy: 0.9813 - val_loss: 0.0818\n",
      "Epoch 165/1000\n",
      "\u001b[1m16/27\u001b[0m \u001b[32m━━━━━━━━━━━\u001b[0m\u001b[37m━━━━━━━━━\u001b[0m \u001b[1m0s\u001b[0m 3ms/step - accuracy: 0.9363 - loss: 0.1801 \n",
      "Epoch 165: saving model to e:\\Games\\UnityProject\\HandDetection\\hand-gesture-recognition-using-mediapipe-main\\model\\thumb_and_index_finger_classifier\\thumb_and_index_finger_classifier.keras\n",
      "\u001b[1m27/27\u001b[0m \u001b[32m━━━━━━━━━━━━━━━━━━━━\u001b[0m\u001b[37m\u001b[0m \u001b[1m0s\u001b[0m 6ms/step - accuracy: 0.9353 - loss: 0.1836 - val_accuracy: 0.9760 - val_loss: 0.0871\n",
      "Epoch 166/1000\n",
      "\u001b[1m16/27\u001b[0m \u001b[32m━━━━━━━━━━━\u001b[0m\u001b[37m━━━━━━━━━\u001b[0m \u001b[1m0s\u001b[0m 3ms/step - accuracy: 0.9424 - loss: 0.1867 \n",
      "Epoch 166: saving model to e:\\Games\\UnityProject\\HandDetection\\hand-gesture-recognition-using-mediapipe-main\\model\\thumb_and_index_finger_classifier\\thumb_and_index_finger_classifier.keras\n",
      "\u001b[1m27/27\u001b[0m \u001b[32m━━━━━━━━━━━━━━━━━━━━\u001b[0m\u001b[37m\u001b[0m \u001b[1m0s\u001b[0m 6ms/step - accuracy: 0.9384 - loss: 0.1882 - val_accuracy: 0.9733 - val_loss: 0.0912\n",
      "Epoch 167/1000\n",
      "\u001b[1m15/27\u001b[0m \u001b[32m━━━━━━━━━━━\u001b[0m\u001b[37m━━━━━━━━━\u001b[0m \u001b[1m0s\u001b[0m 4ms/step - accuracy: 0.9405 - loss: 0.1851  \n",
      "Epoch 167: saving model to e:\\Games\\UnityProject\\HandDetection\\hand-gesture-recognition-using-mediapipe-main\\model\\thumb_and_index_finger_classifier\\thumb_and_index_finger_classifier.keras\n",
      "\u001b[1m27/27\u001b[0m \u001b[32m━━━━━━━━━━━━━━━━━━━━\u001b[0m\u001b[37m\u001b[0m \u001b[1m0s\u001b[0m 6ms/step - accuracy: 0.9380 - loss: 0.1914 - val_accuracy: 0.9787 - val_loss: 0.0868\n",
      "Epoch 168/1000\n",
      "\u001b[1m15/27\u001b[0m \u001b[32m━━━━━━━━━━━\u001b[0m\u001b[37m━━━━━━━━━\u001b[0m \u001b[1m0s\u001b[0m 4ms/step - accuracy: 0.9272 - loss: 0.2030 \n",
      "Epoch 168: saving model to e:\\Games\\UnityProject\\HandDetection\\hand-gesture-recognition-using-mediapipe-main\\model\\thumb_and_index_finger_classifier\\thumb_and_index_finger_classifier.keras\n",
      "\u001b[1m27/27\u001b[0m \u001b[32m━━━━━━━━━━━━━━━━━━━━\u001b[0m\u001b[37m\u001b[0m \u001b[1m0s\u001b[0m 6ms/step - accuracy: 0.9312 - loss: 0.1986 - val_accuracy: 0.9787 - val_loss: 0.0841\n",
      "Epoch 169/1000\n",
      "\u001b[1m16/27\u001b[0m \u001b[32m━━━━━━━━━━━\u001b[0m\u001b[37m━━━━━━━━━\u001b[0m \u001b[1m0s\u001b[0m 4ms/step - accuracy: 0.9383 - loss: 0.1760 \n",
      "Epoch 169: saving model to e:\\Games\\UnityProject\\HandDetection\\hand-gesture-recognition-using-mediapipe-main\\model\\thumb_and_index_finger_classifier\\thumb_and_index_finger_classifier.keras\n",
      "\u001b[1m27/27\u001b[0m \u001b[32m━━━━━━━━━━━━━━━━━━━━\u001b[0m\u001b[37m\u001b[0m \u001b[1m0s\u001b[0m 6ms/step - accuracy: 0.9381 - loss: 0.1789 - val_accuracy: 0.9760 - val_loss: 0.0935\n",
      "Epoch 170/1000\n",
      "\u001b[1m15/27\u001b[0m \u001b[32m━━━━━━━━━━━\u001b[0m\u001b[37m━━━━━━━━━\u001b[0m \u001b[1m0s\u001b[0m 4ms/step - accuracy: 0.9518 - loss: 0.1474 \n",
      "Epoch 170: saving model to e:\\Games\\UnityProject\\HandDetection\\hand-gesture-recognition-using-mediapipe-main\\model\\thumb_and_index_finger_classifier\\thumb_and_index_finger_classifier.keras\n",
      "\u001b[1m27/27\u001b[0m \u001b[32m━━━━━━━━━━━━━━━━━━━━\u001b[0m\u001b[37m\u001b[0m \u001b[1m0s\u001b[0m 6ms/step - accuracy: 0.9499 - loss: 0.1545 - val_accuracy: 0.9760 - val_loss: 0.0903\n",
      "Epoch 171/1000\n",
      "\u001b[1m15/27\u001b[0m \u001b[32m━━━━━━━━━━━\u001b[0m\u001b[37m━━━━━━━━━\u001b[0m \u001b[1m0s\u001b[0m 4ms/step - accuracy: 0.9395 - loss: 0.1815 \n",
      "Epoch 171: saving model to e:\\Games\\UnityProject\\HandDetection\\hand-gesture-recognition-using-mediapipe-main\\model\\thumb_and_index_finger_classifier\\thumb_and_index_finger_classifier.keras\n",
      "\u001b[1m27/27\u001b[0m \u001b[32m━━━━━━━━━━━━━━━━━━━━\u001b[0m\u001b[37m\u001b[0m \u001b[1m0s\u001b[0m 6ms/step - accuracy: 0.9376 - loss: 0.1834 - val_accuracy: 0.9840 - val_loss: 0.0721\n",
      "Epoch 172/1000\n",
      "\u001b[1m15/27\u001b[0m \u001b[32m━━━━━━━━━━━\u001b[0m\u001b[37m━━━━━━━━━\u001b[0m \u001b[1m0s\u001b[0m 4ms/step - accuracy: 0.9395 - loss: 0.1950 \n",
      "Epoch 172: saving model to e:\\Games\\UnityProject\\HandDetection\\hand-gesture-recognition-using-mediapipe-main\\model\\thumb_and_index_finger_classifier\\thumb_and_index_finger_classifier.keras\n",
      "\u001b[1m27/27\u001b[0m \u001b[32m━━━━━━━━━━━━━━━━━━━━\u001b[0m\u001b[37m\u001b[0m \u001b[1m0s\u001b[0m 6ms/step - accuracy: 0.9390 - loss: 0.1924 - val_accuracy: 0.9813 - val_loss: 0.0749\n",
      "Epoch 173/1000\n",
      "\u001b[1m16/27\u001b[0m \u001b[32m━━━━━━━━━━━\u001b[0m\u001b[37m━━━━━━━━━\u001b[0m \u001b[1m0s\u001b[0m 4ms/step - accuracy: 0.9407 - loss: 0.1784 \n",
      "Epoch 173: saving model to e:\\Games\\UnityProject\\HandDetection\\hand-gesture-recognition-using-mediapipe-main\\model\\thumb_and_index_finger_classifier\\thumb_and_index_finger_classifier.keras\n",
      "\u001b[1m27/27\u001b[0m \u001b[32m━━━━━━━━━━━━━━━━━━━━\u001b[0m\u001b[37m\u001b[0m \u001b[1m0s\u001b[0m 6ms/step - accuracy: 0.9399 - loss: 0.1821 - val_accuracy: 0.9822 - val_loss: 0.0769\n",
      "Epoch 174/1000\n",
      "\u001b[1m27/27\u001b[0m \u001b[32m━━━━━━━━━━━━━━━━━━━━\u001b[0m\u001b[37m\u001b[0m \u001b[1m0s\u001b[0m 4ms/step - accuracy: 0.9284 - loss: 0.2117\n",
      "Epoch 174: saving model to e:\\Games\\UnityProject\\HandDetection\\hand-gesture-recognition-using-mediapipe-main\\model\\thumb_and_index_finger_classifier\\thumb_and_index_finger_classifier.keras\n",
      "\u001b[1m27/27\u001b[0m \u001b[32m━━━━━━━━━━━━━━━━━━━━\u001b[0m\u001b[37m\u001b[0m \u001b[1m0s\u001b[0m 7ms/step - accuracy: 0.9285 - loss: 0.2114 - val_accuracy: 0.9840 - val_loss: 0.0701\n",
      "Epoch 175/1000\n",
      "\u001b[1m14/27\u001b[0m \u001b[32m━━━━━━━━━━\u001b[0m\u001b[37m━━━━━━━━━━\u001b[0m \u001b[1m0s\u001b[0m 4ms/step - accuracy: 0.9361 - loss: 0.2005 \n",
      "Epoch 175: saving model to e:\\Games\\UnityProject\\HandDetection\\hand-gesture-recognition-using-mediapipe-main\\model\\thumb_and_index_finger_classifier\\thumb_and_index_finger_classifier.keras\n",
      "\u001b[1m27/27\u001b[0m \u001b[32m━━━━━━━━━━━━━━━━━━━━\u001b[0m\u001b[37m\u001b[0m \u001b[1m0s\u001b[0m 6ms/step - accuracy: 0.9335 - loss: 0.2005 - val_accuracy: 0.9822 - val_loss: 0.0690\n",
      "Epoch 176/1000\n",
      "\u001b[1m15/27\u001b[0m \u001b[32m━━━━━━━━━━━\u001b[0m\u001b[37m━━━━━━━━━\u001b[0m \u001b[1m0s\u001b[0m 4ms/step - accuracy: 0.9389 - loss: 0.1659 \n",
      "Epoch 176: saving model to e:\\Games\\UnityProject\\HandDetection\\hand-gesture-recognition-using-mediapipe-main\\model\\thumb_and_index_finger_classifier\\thumb_and_index_finger_classifier.keras\n",
      "\u001b[1m27/27\u001b[0m \u001b[32m━━━━━━━━━━━━━━━━━━━━\u001b[0m\u001b[37m\u001b[0m \u001b[1m0s\u001b[0m 6ms/step - accuracy: 0.9365 - loss: 0.1735 - val_accuracy: 0.9796 - val_loss: 0.0769\n",
      "Epoch 177/1000\n",
      "\u001b[1m15/27\u001b[0m \u001b[32m━━━━━━━━━━━\u001b[0m\u001b[37m━━━━━━━━━\u001b[0m \u001b[1m0s\u001b[0m 4ms/step - accuracy: 0.9439 - loss: 0.1673 \n",
      "Epoch 177: saving model to e:\\Games\\UnityProject\\HandDetection\\hand-gesture-recognition-using-mediapipe-main\\model\\thumb_and_index_finger_classifier\\thumb_and_index_finger_classifier.keras\n",
      "\u001b[1m27/27\u001b[0m \u001b[32m━━━━━━━━━━━━━━━━━━━━\u001b[0m\u001b[37m\u001b[0m \u001b[1m0s\u001b[0m 6ms/step - accuracy: 0.9428 - loss: 0.1714 - val_accuracy: 0.9724 - val_loss: 0.1143\n",
      "Epoch 178/1000\n",
      "\u001b[1m27/27\u001b[0m \u001b[32m━━━━━━━━━━━━━━━━━━━━\u001b[0m\u001b[37m\u001b[0m \u001b[1m0s\u001b[0m 4ms/step - accuracy: 0.9355 - loss: 0.1998\n",
      "Epoch 178: saving model to e:\\Games\\UnityProject\\HandDetection\\hand-gesture-recognition-using-mediapipe-main\\model\\thumb_and_index_finger_classifier\\thumb_and_index_finger_classifier.keras\n",
      "\u001b[1m27/27\u001b[0m \u001b[32m━━━━━━━━━━━━━━━━━━━━\u001b[0m\u001b[37m\u001b[0m \u001b[1m0s\u001b[0m 6ms/step - accuracy: 0.9356 - loss: 0.1992 - val_accuracy: 0.9796 - val_loss: 0.0882\n",
      "Epoch 179/1000\n",
      "\u001b[1m27/27\u001b[0m \u001b[32m━━━━━━━━━━━━━━━━━━━━\u001b[0m\u001b[37m\u001b[0m \u001b[1m0s\u001b[0m 4ms/step - accuracy: 0.9419 - loss: 0.1784\n",
      "Epoch 179: saving model to e:\\Games\\UnityProject\\HandDetection\\hand-gesture-recognition-using-mediapipe-main\\model\\thumb_and_index_finger_classifier\\thumb_and_index_finger_classifier.keras\n",
      "\u001b[1m27/27\u001b[0m \u001b[32m━━━━━━━━━━━━━━━━━━━━\u001b[0m\u001b[37m\u001b[0m \u001b[1m0s\u001b[0m 6ms/step - accuracy: 0.9418 - loss: 0.1786 - val_accuracy: 0.9769 - val_loss: 0.0895\n",
      "Epoch 180/1000\n",
      "\u001b[1m14/27\u001b[0m \u001b[32m━━━━━━━━━━\u001b[0m\u001b[37m━━━━━━━━━━\u001b[0m \u001b[1m0s\u001b[0m 4ms/step - accuracy: 0.9417 - loss: 0.1915 \n",
      "Epoch 180: saving model to e:\\Games\\UnityProject\\HandDetection\\hand-gesture-recognition-using-mediapipe-main\\model\\thumb_and_index_finger_classifier\\thumb_and_index_finger_classifier.keras\n",
      "\u001b[1m27/27\u001b[0m \u001b[32m━━━━━━━━━━━━━━━━━━━━\u001b[0m\u001b[37m\u001b[0m \u001b[1m0s\u001b[0m 6ms/step - accuracy: 0.9415 - loss: 0.1850 - val_accuracy: 0.9804 - val_loss: 0.0735\n",
      "Epoch 181/1000\n",
      "\u001b[1m15/27\u001b[0m \u001b[32m━━━━━━━━━━━\u001b[0m\u001b[37m━━━━━━━━━\u001b[0m \u001b[1m0s\u001b[0m 4ms/step - accuracy: 0.9295 - loss: 0.1939 \n",
      "Epoch 181: saving model to e:\\Games\\UnityProject\\HandDetection\\hand-gesture-recognition-using-mediapipe-main\\model\\thumb_and_index_finger_classifier\\thumb_and_index_finger_classifier.keras\n",
      "\u001b[1m27/27\u001b[0m \u001b[32m━━━━━━━━━━━━━━━━━━━━\u001b[0m\u001b[37m\u001b[0m \u001b[1m0s\u001b[0m 6ms/step - accuracy: 0.9316 - loss: 0.1893 - val_accuracy: 0.9778 - val_loss: 0.0876\n",
      "Epoch 182/1000\n",
      "\u001b[1m23/27\u001b[0m \u001b[32m━━━━━━━━━━━━━━━━━\u001b[0m\u001b[37m━━━\u001b[0m \u001b[1m0s\u001b[0m 5ms/step - accuracy: 0.9411 - loss: 0.1642\n",
      "Epoch 182: saving model to e:\\Games\\UnityProject\\HandDetection\\hand-gesture-recognition-using-mediapipe-main\\model\\thumb_and_index_finger_classifier\\thumb_and_index_finger_classifier.keras\n",
      "\u001b[1m27/27\u001b[0m \u001b[32m━━━━━━━━━━━━━━━━━━━━\u001b[0m\u001b[37m\u001b[0m \u001b[1m0s\u001b[0m 7ms/step - accuracy: 0.9401 - loss: 0.1681 - val_accuracy: 0.9796 - val_loss: 0.0736\n",
      "Epoch 183/1000\n",
      "\u001b[1m15/27\u001b[0m \u001b[32m━━━━━━━━━━━\u001b[0m\u001b[37m━━━━━━━━━\u001b[0m \u001b[1m0s\u001b[0m 4ms/step - accuracy: 0.9317 - loss: 0.1903 \n",
      "Epoch 183: saving model to e:\\Games\\UnityProject\\HandDetection\\hand-gesture-recognition-using-mediapipe-main\\model\\thumb_and_index_finger_classifier\\thumb_and_index_finger_classifier.keras\n",
      "\u001b[1m27/27\u001b[0m \u001b[32m━━━━━━━━━━━━━━━━━━━━\u001b[0m\u001b[37m\u001b[0m \u001b[1m0s\u001b[0m 6ms/step - accuracy: 0.9349 - loss: 0.1867 - val_accuracy: 0.9769 - val_loss: 0.0809\n",
      "Epoch 184/1000\n",
      "\u001b[1m15/27\u001b[0m \u001b[32m━━━━━━━━━━━\u001b[0m\u001b[37m━━━━━━━━━\u001b[0m \u001b[1m0s\u001b[0m 4ms/step - accuracy: 0.9434 - loss: 0.1576 \n",
      "Epoch 184: saving model to e:\\Games\\UnityProject\\HandDetection\\hand-gesture-recognition-using-mediapipe-main\\model\\thumb_and_index_finger_classifier\\thumb_and_index_finger_classifier.keras\n",
      "\u001b[1m27/27\u001b[0m \u001b[32m━━━━━━━━━━━━━━━━━━━━\u001b[0m\u001b[37m\u001b[0m \u001b[1m0s\u001b[0m 6ms/step - accuracy: 0.9414 - loss: 0.1640 - val_accuracy: 0.9813 - val_loss: 0.0800\n",
      "Epoch 185/1000\n",
      "\u001b[1m15/27\u001b[0m \u001b[32m━━━━━━━━━━━\u001b[0m\u001b[37m━━━━━━━━━\u001b[0m \u001b[1m0s\u001b[0m 4ms/step - accuracy: 0.9446 - loss: 0.1585 \n",
      "Epoch 185: saving model to e:\\Games\\UnityProject\\HandDetection\\hand-gesture-recognition-using-mediapipe-main\\model\\thumb_and_index_finger_classifier\\thumb_and_index_finger_classifier.keras\n",
      "\u001b[1m27/27\u001b[0m \u001b[32m━━━━━━━━━━━━━━━━━━━━\u001b[0m\u001b[37m\u001b[0m \u001b[1m0s\u001b[0m 6ms/step - accuracy: 0.9404 - loss: 0.1664 - val_accuracy: 0.9822 - val_loss: 0.0754\n",
      "Epoch 186/1000\n",
      "\u001b[1m14/27\u001b[0m \u001b[32m━━━━━━━━━━\u001b[0m\u001b[37m━━━━━━━━━━\u001b[0m \u001b[1m0s\u001b[0m 4ms/step - accuracy: 0.9418 - loss: 0.1686 \n",
      "Epoch 186: saving model to e:\\Games\\UnityProject\\HandDetection\\hand-gesture-recognition-using-mediapipe-main\\model\\thumb_and_index_finger_classifier\\thumb_and_index_finger_classifier.keras\n",
      "\u001b[1m27/27\u001b[0m \u001b[32m━━━━━━━━━━━━━━━━━━━━\u001b[0m\u001b[37m\u001b[0m \u001b[1m0s\u001b[0m 6ms/step - accuracy: 0.9414 - loss: 0.1671 - val_accuracy: 0.9813 - val_loss: 0.0779\n",
      "Epoch 187/1000\n",
      "\u001b[1m16/27\u001b[0m \u001b[32m━━━━━━━━━━━\u001b[0m\u001b[37m━━━━━━━━━\u001b[0m \u001b[1m0s\u001b[0m 4ms/step - accuracy: 0.9379 - loss: 0.1904 \n",
      "Epoch 187: saving model to e:\\Games\\UnityProject\\HandDetection\\hand-gesture-recognition-using-mediapipe-main\\model\\thumb_and_index_finger_classifier\\thumb_and_index_finger_classifier.keras\n",
      "\u001b[1m27/27\u001b[0m \u001b[32m━━━━━━━━━━━━━━━━━━━━\u001b[0m\u001b[37m\u001b[0m \u001b[1m0s\u001b[0m 6ms/step - accuracy: 0.9372 - loss: 0.1876 - val_accuracy: 0.9787 - val_loss: 0.0891\n",
      "Epoch 188/1000\n",
      "\u001b[1m16/27\u001b[0m \u001b[32m━━━━━━━━━━━\u001b[0m\u001b[37m━━━━━━━━━\u001b[0m \u001b[1m0s\u001b[0m 4ms/step - accuracy: 0.9456 - loss: 0.1674 \n",
      "Epoch 188: saving model to e:\\Games\\UnityProject\\HandDetection\\hand-gesture-recognition-using-mediapipe-main\\model\\thumb_and_index_finger_classifier\\thumb_and_index_finger_classifier.keras\n",
      "\u001b[1m27/27\u001b[0m \u001b[32m━━━━━━━━━━━━━━━━━━━━\u001b[0m\u001b[37m\u001b[0m \u001b[1m0s\u001b[0m 6ms/step - accuracy: 0.9453 - loss: 0.1648 - val_accuracy: 0.9840 - val_loss: 0.0669\n",
      "Epoch 189/1000\n",
      "\u001b[1m16/27\u001b[0m \u001b[32m━━━━━━━━━━━\u001b[0m\u001b[37m━━━━━━━━━\u001b[0m \u001b[1m0s\u001b[0m 4ms/step - accuracy: 0.9273 - loss: 0.1910 \n",
      "Epoch 189: saving model to e:\\Games\\UnityProject\\HandDetection\\hand-gesture-recognition-using-mediapipe-main\\model\\thumb_and_index_finger_classifier\\thumb_and_index_finger_classifier.keras\n",
      "\u001b[1m27/27\u001b[0m \u001b[32m━━━━━━━━━━━━━━━━━━━━\u001b[0m\u001b[37m\u001b[0m \u001b[1m0s\u001b[0m 6ms/step - accuracy: 0.9327 - loss: 0.1828 - val_accuracy: 0.9813 - val_loss: 0.0695\n",
      "Epoch 190/1000\n",
      "\u001b[1m24/27\u001b[0m \u001b[32m━━━━━━━━━━━━━━━━━\u001b[0m\u001b[37m━━━\u001b[0m \u001b[1m0s\u001b[0m 5ms/step - accuracy: 0.9386 - loss: 0.1800\n",
      "Epoch 190: saving model to e:\\Games\\UnityProject\\HandDetection\\hand-gesture-recognition-using-mediapipe-main\\model\\thumb_and_index_finger_classifier\\thumb_and_index_finger_classifier.keras\n",
      "\u001b[1m27/27\u001b[0m \u001b[32m━━━━━━━━━━━━━━━━━━━━\u001b[0m\u001b[37m\u001b[0m \u001b[1m0s\u001b[0m 7ms/step - accuracy: 0.9389 - loss: 0.1780 - val_accuracy: 0.9813 - val_loss: 0.0733\n",
      "Epoch 191/1000\n",
      "\u001b[1m15/27\u001b[0m \u001b[32m━━━━━━━━━━━\u001b[0m\u001b[37m━━━━━━━━━\u001b[0m \u001b[1m0s\u001b[0m 4ms/step - accuracy: 0.9417 - loss: 0.1742 \n",
      "Epoch 191: saving model to e:\\Games\\UnityProject\\HandDetection\\hand-gesture-recognition-using-mediapipe-main\\model\\thumb_and_index_finger_classifier\\thumb_and_index_finger_classifier.keras\n",
      "\u001b[1m27/27\u001b[0m \u001b[32m━━━━━━━━━━━━━━━━━━━━\u001b[0m\u001b[37m\u001b[0m \u001b[1m0s\u001b[0m 6ms/step - accuracy: 0.9393 - loss: 0.1759 - val_accuracy: 0.9831 - val_loss: 0.0716\n",
      "Epoch 192/1000\n",
      "\u001b[1m14/27\u001b[0m \u001b[32m━━━━━━━━━━\u001b[0m\u001b[37m━━━━━━━━━━\u001b[0m \u001b[1m0s\u001b[0m 4ms/step - accuracy: 0.9457 - loss: 0.1615 \n",
      "Epoch 192: saving model to e:\\Games\\UnityProject\\HandDetection\\hand-gesture-recognition-using-mediapipe-main\\model\\thumb_and_index_finger_classifier\\thumb_and_index_finger_classifier.keras\n",
      "\u001b[1m27/27\u001b[0m \u001b[32m━━━━━━━━━━━━━━━━━━━━\u001b[0m\u001b[37m\u001b[0m \u001b[1m0s\u001b[0m 6ms/step - accuracy: 0.9414 - loss: 0.1705 - val_accuracy: 0.9840 - val_loss: 0.0623\n",
      "Epoch 193/1000\n",
      "\u001b[1m16/27\u001b[0m \u001b[32m━━━━━━━━━━━\u001b[0m\u001b[37m━━━━━━━━━\u001b[0m \u001b[1m0s\u001b[0m 4ms/step - accuracy: 0.9524 - loss: 0.1555 \n",
      "Epoch 193: saving model to e:\\Games\\UnityProject\\HandDetection\\hand-gesture-recognition-using-mediapipe-main\\model\\thumb_and_index_finger_classifier\\thumb_and_index_finger_classifier.keras\n",
      "\u001b[1m27/27\u001b[0m \u001b[32m━━━━━━━━━━━━━━━━━━━━\u001b[0m\u001b[37m\u001b[0m \u001b[1m0s\u001b[0m 6ms/step - accuracy: 0.9505 - loss: 0.1575 - val_accuracy: 0.9813 - val_loss: 0.0720\n",
      "Epoch 194/1000\n",
      "\u001b[1m15/27\u001b[0m \u001b[32m━━━━━━━━━━━\u001b[0m\u001b[37m━━━━━━━━━\u001b[0m \u001b[1m0s\u001b[0m 4ms/step - accuracy: 0.9452 - loss: 0.1568 \n",
      "Epoch 194: saving model to e:\\Games\\UnityProject\\HandDetection\\hand-gesture-recognition-using-mediapipe-main\\model\\thumb_and_index_finger_classifier\\thumb_and_index_finger_classifier.keras\n",
      "\u001b[1m27/27\u001b[0m \u001b[32m━━━━━━━━━━━━━━━━━━━━\u001b[0m\u001b[37m\u001b[0m \u001b[1m0s\u001b[0m 6ms/step - accuracy: 0.9423 - loss: 0.1656 - val_accuracy: 0.9840 - val_loss: 0.0677\n",
      "Epoch 195/1000\n",
      "\u001b[1m15/27\u001b[0m \u001b[32m━━━━━━━━━━━\u001b[0m\u001b[37m━━━━━━━━━\u001b[0m \u001b[1m0s\u001b[0m 4ms/step - accuracy: 0.9312 - loss: 0.1927 \n",
      "Epoch 195: saving model to e:\\Games\\UnityProject\\HandDetection\\hand-gesture-recognition-using-mediapipe-main\\model\\thumb_and_index_finger_classifier\\thumb_and_index_finger_classifier.keras\n",
      "\u001b[1m27/27\u001b[0m \u001b[32m━━━━━━━━━━━━━━━━━━━━\u001b[0m\u001b[37m\u001b[0m \u001b[1m0s\u001b[0m 6ms/step - accuracy: 0.9351 - loss: 0.1829 - val_accuracy: 0.9831 - val_loss: 0.0628\n",
      "Epoch 196/1000\n",
      "\u001b[1m15/27\u001b[0m \u001b[32m━━━━━━━━━━━\u001b[0m\u001b[37m━━━━━━━━━\u001b[0m \u001b[1m0s\u001b[0m 4ms/step - accuracy: 0.9404 - loss: 0.1762 \n",
      "Epoch 196: saving model to e:\\Games\\UnityProject\\HandDetection\\hand-gesture-recognition-using-mediapipe-main\\model\\thumb_and_index_finger_classifier\\thumb_and_index_finger_classifier.keras\n",
      "\u001b[1m27/27\u001b[0m \u001b[32m━━━━━━━━━━━━━━━━━━━━\u001b[0m\u001b[37m\u001b[0m \u001b[1m0s\u001b[0m 6ms/step - accuracy: 0.9397 - loss: 0.1804 - val_accuracy: 0.9831 - val_loss: 0.0782\n",
      "Epoch 197/1000\n",
      "\u001b[1m14/27\u001b[0m \u001b[32m━━━━━━━━━━\u001b[0m\u001b[37m━━━━━━━━━━\u001b[0m \u001b[1m0s\u001b[0m 4ms/step - accuracy: 0.9344 - loss: 0.1651 \n",
      "Epoch 197: saving model to e:\\Games\\UnityProject\\HandDetection\\hand-gesture-recognition-using-mediapipe-main\\model\\thumb_and_index_finger_classifier\\thumb_and_index_finger_classifier.keras\n",
      "\u001b[1m27/27\u001b[0m \u001b[32m━━━━━━━━━━━━━━━━━━━━\u001b[0m\u001b[37m\u001b[0m \u001b[1m0s\u001b[0m 6ms/step - accuracy: 0.9377 - loss: 0.1660 - val_accuracy: 0.9849 - val_loss: 0.0638\n",
      "Epoch 198/1000\n",
      "\u001b[1m25/27\u001b[0m \u001b[32m━━━━━━━━━━━━━━━━━━\u001b[0m\u001b[37m━━\u001b[0m \u001b[1m0s\u001b[0m 5ms/step - accuracy: 0.9461 - loss: 0.1664\n",
      "Epoch 198: saving model to e:\\Games\\UnityProject\\HandDetection\\hand-gesture-recognition-using-mediapipe-main\\model\\thumb_and_index_finger_classifier\\thumb_and_index_finger_classifier.keras\n",
      "\u001b[1m27/27\u001b[0m \u001b[32m━━━━━━━━━━━━━━━━━━━━\u001b[0m\u001b[37m\u001b[0m \u001b[1m0s\u001b[0m 7ms/step - accuracy: 0.9457 - loss: 0.1659 - val_accuracy: 0.9822 - val_loss: 0.0651\n",
      "Epoch 199/1000\n",
      "\u001b[1m15/27\u001b[0m \u001b[32m━━━━━━━━━━━\u001b[0m\u001b[37m━━━━━━━━━\u001b[0m \u001b[1m0s\u001b[0m 4ms/step - accuracy: 0.9442 - loss: 0.1663 \n",
      "Epoch 199: saving model to e:\\Games\\UnityProject\\HandDetection\\hand-gesture-recognition-using-mediapipe-main\\model\\thumb_and_index_finger_classifier\\thumb_and_index_finger_classifier.keras\n",
      "\u001b[1m27/27\u001b[0m \u001b[32m━━━━━━━━━━━━━━━━━━━━\u001b[0m\u001b[37m\u001b[0m \u001b[1m0s\u001b[0m 6ms/step - accuracy: 0.9437 - loss: 0.1733 - val_accuracy: 0.9840 - val_loss: 0.0709\n",
      "Epoch 200/1000\n",
      "\u001b[1m15/27\u001b[0m \u001b[32m━━━━━━━━━━━\u001b[0m\u001b[37m━━━━━━━━━\u001b[0m \u001b[1m0s\u001b[0m 4ms/step - accuracy: 0.9372 - loss: 0.1666 \n",
      "Epoch 200: saving model to e:\\Games\\UnityProject\\HandDetection\\hand-gesture-recognition-using-mediapipe-main\\model\\thumb_and_index_finger_classifier\\thumb_and_index_finger_classifier.keras\n",
      "\u001b[1m27/27\u001b[0m \u001b[32m━━━━━━━━━━━━━━━━━━━━\u001b[0m\u001b[37m\u001b[0m \u001b[1m0s\u001b[0m 6ms/step - accuracy: 0.9411 - loss: 0.1657 - val_accuracy: 0.9840 - val_loss: 0.0745\n",
      "Epoch 201/1000\n",
      "\u001b[1m16/27\u001b[0m \u001b[32m━━━━━━━━━━━\u001b[0m\u001b[37m━━━━━━━━━\u001b[0m \u001b[1m0s\u001b[0m 4ms/step - accuracy: 0.9513 - loss: 0.1814 \n",
      "Epoch 201: saving model to e:\\Games\\UnityProject\\HandDetection\\hand-gesture-recognition-using-mediapipe-main\\model\\thumb_and_index_finger_classifier\\thumb_and_index_finger_classifier.keras\n",
      "\u001b[1m27/27\u001b[0m \u001b[32m━━━━━━━━━━━━━━━━━━━━\u001b[0m\u001b[37m\u001b[0m \u001b[1m0s\u001b[0m 6ms/step - accuracy: 0.9501 - loss: 0.1770 - val_accuracy: 0.9822 - val_loss: 0.0832\n",
      "Epoch 202/1000\n",
      "\u001b[1m15/27\u001b[0m \u001b[32m━━━━━━━━━━━\u001b[0m\u001b[37m━━━━━━━━━\u001b[0m \u001b[1m0s\u001b[0m 4ms/step - accuracy: 0.9528 - loss: 0.1745 \n",
      "Epoch 202: saving model to e:\\Games\\UnityProject\\HandDetection\\hand-gesture-recognition-using-mediapipe-main\\model\\thumb_and_index_finger_classifier\\thumb_and_index_finger_classifier.keras\n",
      "\u001b[1m27/27\u001b[0m \u001b[32m━━━━━━━━━━━━━━━━━━━━\u001b[0m\u001b[37m\u001b[0m \u001b[1m0s\u001b[0m 6ms/step - accuracy: 0.9514 - loss: 0.1679 - val_accuracy: 0.9804 - val_loss: 0.0685\n",
      "Epoch 203/1000\n",
      "\u001b[1m16/27\u001b[0m \u001b[32m━━━━━━━━━━━\u001b[0m\u001b[37m━━━━━━━━━\u001b[0m \u001b[1m0s\u001b[0m 4ms/step - accuracy: 0.9528 - loss: 0.1433 \n",
      "Epoch 203: saving model to e:\\Games\\UnityProject\\HandDetection\\hand-gesture-recognition-using-mediapipe-main\\model\\thumb_and_index_finger_classifier\\thumb_and_index_finger_classifier.keras\n",
      "\u001b[1m27/27\u001b[0m \u001b[32m━━━━━━━━━━━━━━━━━━━━\u001b[0m\u001b[37m\u001b[0m \u001b[1m0s\u001b[0m 6ms/step - accuracy: 0.9497 - loss: 0.1487 - val_accuracy: 0.9840 - val_loss: 0.0705\n",
      "Epoch 204/1000\n",
      "\u001b[1m15/27\u001b[0m \u001b[32m━━━━━━━━━━━\u001b[0m\u001b[37m━━━━━━━━━\u001b[0m \u001b[1m0s\u001b[0m 4ms/step - accuracy: 0.9512 - loss: 0.1434 \n",
      "Epoch 204: saving model to e:\\Games\\UnityProject\\HandDetection\\hand-gesture-recognition-using-mediapipe-main\\model\\thumb_and_index_finger_classifier\\thumb_and_index_finger_classifier.keras\n",
      "\u001b[1m27/27\u001b[0m \u001b[32m━━━━━━━━━━━━━━━━━━━━\u001b[0m\u001b[37m\u001b[0m \u001b[1m0s\u001b[0m 6ms/step - accuracy: 0.9511 - loss: 0.1492 - val_accuracy: 0.9858 - val_loss: 0.0680\n",
      "Epoch 205/1000\n",
      "\u001b[1m26/27\u001b[0m \u001b[32m━━━━━━━━━━━━━━━━━━━\u001b[0m\u001b[37m━\u001b[0m \u001b[1m0s\u001b[0m 4ms/step - accuracy: 0.9445 - loss: 0.1794\n",
      "Epoch 205: saving model to e:\\Games\\UnityProject\\HandDetection\\hand-gesture-recognition-using-mediapipe-main\\model\\thumb_and_index_finger_classifier\\thumb_and_index_finger_classifier.keras\n",
      "\u001b[1m27/27\u001b[0m \u001b[32m━━━━━━━━━━━━━━━━━━━━\u001b[0m\u001b[37m\u001b[0m \u001b[1m0s\u001b[0m 6ms/step - accuracy: 0.9444 - loss: 0.1795 - val_accuracy: 0.9822 - val_loss: 0.0801\n",
      "Epoch 206/1000\n",
      "\u001b[1m15/27\u001b[0m \u001b[32m━━━━━━━━━━━\u001b[0m\u001b[37m━━━━━━━━━\u001b[0m \u001b[1m0s\u001b[0m 4ms/step - accuracy: 0.9380 - loss: 0.1729 \n",
      "Epoch 206: saving model to e:\\Games\\UnityProject\\HandDetection\\hand-gesture-recognition-using-mediapipe-main\\model\\thumb_and_index_finger_classifier\\thumb_and_index_finger_classifier.keras\n",
      "\u001b[1m27/27\u001b[0m \u001b[32m━━━━━━━━━━━━━━━━━━━━\u001b[0m\u001b[37m\u001b[0m \u001b[1m0s\u001b[0m 6ms/step - accuracy: 0.9393 - loss: 0.1701 - val_accuracy: 0.9822 - val_loss: 0.0661\n",
      "Epoch 207/1000\n",
      "\u001b[1m15/27\u001b[0m \u001b[32m━━━━━━━━━━━\u001b[0m\u001b[37m━━━━━━━━━\u001b[0m \u001b[1m0s\u001b[0m 4ms/step - accuracy: 0.9353 - loss: 0.1766 \n",
      "Epoch 207: saving model to e:\\Games\\UnityProject\\HandDetection\\hand-gesture-recognition-using-mediapipe-main\\model\\thumb_and_index_finger_classifier\\thumb_and_index_finger_classifier.keras\n",
      "\u001b[1m27/27\u001b[0m \u001b[32m━━━━━━━━━━━━━━━━━━━━\u001b[0m\u001b[37m\u001b[0m \u001b[1m0s\u001b[0m 6ms/step - accuracy: 0.9363 - loss: 0.1792 - val_accuracy: 0.9831 - val_loss: 0.0673\n",
      "Epoch 208/1000\n",
      "\u001b[1m14/27\u001b[0m \u001b[32m━━━━━━━━━━\u001b[0m\u001b[37m━━━━━━━━━━\u001b[0m \u001b[1m0s\u001b[0m 4ms/step - accuracy: 0.9415 - loss: 0.1703 \n",
      "Epoch 208: saving model to e:\\Games\\UnityProject\\HandDetection\\hand-gesture-recognition-using-mediapipe-main\\model\\thumb_and_index_finger_classifier\\thumb_and_index_finger_classifier.keras\n",
      "\u001b[1m27/27\u001b[0m \u001b[32m━━━━━━━━━━━━━━━━━━━━\u001b[0m\u001b[37m\u001b[0m \u001b[1m0s\u001b[0m 6ms/step - accuracy: 0.9461 - loss: 0.1661 - val_accuracy: 0.9831 - val_loss: 0.0785\n",
      "Epoch 209/1000\n",
      "\u001b[1m15/27\u001b[0m \u001b[32m━━━━━━━━━━━\u001b[0m\u001b[37m━━━━━━━━━\u001b[0m \u001b[1m0s\u001b[0m 4ms/step - accuracy: 0.9376 - loss: 0.1977 \n",
      "Epoch 209: saving model to e:\\Games\\UnityProject\\HandDetection\\hand-gesture-recognition-using-mediapipe-main\\model\\thumb_and_index_finger_classifier\\thumb_and_index_finger_classifier.keras\n",
      "\u001b[1m27/27\u001b[0m \u001b[32m━━━━━━━━━━━━━━━━━━━━\u001b[0m\u001b[37m\u001b[0m \u001b[1m0s\u001b[0m 6ms/step - accuracy: 0.9402 - loss: 0.1852 - val_accuracy: 0.9831 - val_loss: 0.0631\n",
      "Epoch 210/1000\n",
      "\u001b[1m15/27\u001b[0m \u001b[32m━━━━━━━━━━━\u001b[0m\u001b[37m━━━━━━━━━\u001b[0m \u001b[1m0s\u001b[0m 4ms/step - accuracy: 0.9552 - loss: 0.1408 \n",
      "Epoch 210: saving model to e:\\Games\\UnityProject\\HandDetection\\hand-gesture-recognition-using-mediapipe-main\\model\\thumb_and_index_finger_classifier\\thumb_and_index_finger_classifier.keras\n",
      "\u001b[1m27/27\u001b[0m \u001b[32m━━━━━━━━━━━━━━━━━━━━\u001b[0m\u001b[37m\u001b[0m \u001b[1m0s\u001b[0m 6ms/step - accuracy: 0.9519 - loss: 0.1443 - val_accuracy: 0.9849 - val_loss: 0.0626\n",
      "Epoch 211/1000\n",
      "\u001b[1m24/27\u001b[0m \u001b[32m━━━━━━━━━━━━━━━━━\u001b[0m\u001b[37m━━━\u001b[0m \u001b[1m0s\u001b[0m 5ms/step - accuracy: 0.9505 - loss: 0.1441\n",
      "Epoch 211: saving model to e:\\Games\\UnityProject\\HandDetection\\hand-gesture-recognition-using-mediapipe-main\\model\\thumb_and_index_finger_classifier\\thumb_and_index_finger_classifier.keras\n",
      "\u001b[1m27/27\u001b[0m \u001b[32m━━━━━━━━━━━━━━━━━━━━\u001b[0m\u001b[37m\u001b[0m \u001b[1m0s\u001b[0m 7ms/step - accuracy: 0.9502 - loss: 0.1453 - val_accuracy: 0.9822 - val_loss: 0.0761\n",
      "Epoch 212/1000\n",
      "\u001b[1m27/27\u001b[0m \u001b[32m━━━━━━━━━━━━━━━━━━━━\u001b[0m\u001b[37m\u001b[0m \u001b[1m0s\u001b[0m 4ms/step - accuracy: 0.9412 - loss: 0.1817\n",
      "Epoch 212: saving model to e:\\Games\\UnityProject\\HandDetection\\hand-gesture-recognition-using-mediapipe-main\\model\\thumb_and_index_finger_classifier\\thumb_and_index_finger_classifier.keras\n",
      "\u001b[1m27/27\u001b[0m \u001b[32m━━━━━━━━━━━━━━━━━━━━\u001b[0m\u001b[37m\u001b[0m \u001b[1m0s\u001b[0m 6ms/step - accuracy: 0.9414 - loss: 0.1813 - val_accuracy: 0.9822 - val_loss: 0.0666\n",
      "Epoch 212: early stopping\n"
     ]
    }
   ],
   "source": [
    "history = model.fit(\n",
    "    X_train,\n",
    "    y_train,\n",
    "    epochs=1000,\n",
    "    batch_size=128,\n",
    "    validation_data=(X_test, y_test),\n",
    "    callbacks=[cp_callback, es_callback]\n",
    ")"
   ]
  },
  {
   "cell_type": "markdown",
   "metadata": {},
   "source": [
    "# MODEL EVALUATION"
   ]
  },
  {
   "cell_type": "markdown",
   "metadata": {},
   "source": [
    "## *Evaluate validation results*"
   ]
  },
  {
   "cell_type": "code",
   "execution_count": 25,
   "metadata": {},
   "outputs": [
    {
     "name": "stdout",
     "output_type": "stream",
     "text": [
      "\u001b[1m9/9\u001b[0m \u001b[32m━━━━━━━━━━━━━━━━━━━━\u001b[0m\u001b[37m\u001b[0m \u001b[1m0s\u001b[0m 2ms/step - accuracy: 0.9796 - loss: 0.0667 \n"
     ]
    }
   ],
   "source": [
    "val_loss, val_acc = model.evaluate(X_test, y_test, batch_size=128)"
   ]
  },
  {
   "cell_type": "markdown",
   "metadata": {},
   "source": [
    "## *Prediction test*"
   ]
  },
  {
   "cell_type": "markdown",
   "metadata": {},
   "source": [
    "### *Loading a saved model*"
   ]
  },
  {
   "cell_type": "code",
   "execution_count": 26,
   "metadata": {},
   "outputs": [],
   "source": [
    "model = tf.keras.models.load_model(model_save_path)"
   ]
  },
  {
   "cell_type": "markdown",
   "metadata": {},
   "source": [
    "### *Prediction testing*"
   ]
  },
  {
   "cell_type": "code",
   "execution_count": 27,
   "metadata": {},
   "outputs": [
    {
     "name": "stdout",
     "output_type": "stream",
     "text": [
      "\u001b[1m1/1\u001b[0m \u001b[32m━━━━━━━━━━━━━━━━━━━━\u001b[0m\u001b[37m\u001b[0m \u001b[1m0s\u001b[0m 191ms/step\n",
      "[8.0189917e-11 9.8106670e-01 7.9763366e-12 2.1344799e-06 8.0321794e-09\n",
      " 9.0792599e-07 5.9519694e-12 1.8930167e-02 6.2726127e-09]\n",
      "1\n"
     ]
    }
   ],
   "source": [
    "predict_result = model.predict(np.array([X_test[0]]))\n",
    "print(np.squeeze(predict_result))\n",
    "print(np.argmax(np.squeeze(predict_result)))"
   ]
  },
  {
   "cell_type": "markdown",
   "metadata": {},
   "source": [
    "# CONFUSION MATRIX"
   ]
  },
  {
   "cell_type": "code",
   "execution_count": 28,
   "metadata": {},
   "outputs": [
    {
     "name": "stdout",
     "output_type": "stream",
     "text": [
      "\u001b[1m36/36\u001b[0m \u001b[32m━━━━━━━━━━━━━━━━━━━━\u001b[0m\u001b[37m\u001b[0m \u001b[1m0s\u001b[0m 1ms/step  \n"
     ]
    },
    {
     "data": {
      "image/png": "[encoded data removed]",
      "text/plain": [
       "<Figure size 700x600 with 2 Axes>"
      ]
     },
     "metadata": {},
     "output_type": "display_data"
    },
    {
     "name": "stdout",
     "output_type": "stream",
     "text": [
      "Classification Report\n",
      "              precision    recall  f1-score   support\n",
      "\n",
      "         0.0       1.00      1.00      1.00       320\n",
      "         1.0       0.99      0.98      0.98       298\n",
      "         2.0       0.97      1.00      0.99        77\n",
      "         3.0       1.00      0.97      0.99        75\n",
      "         4.0       0.98      1.00      0.99        63\n",
      "         5.0       1.00      0.95      0.98        64\n",
      "         6.0       0.91      0.96      0.93        71\n",
      "         7.0       0.94      1.00      0.97        78\n",
      "         8.0       0.97      0.94      0.95        79\n",
      "\n",
      "    accuracy                           0.98      1125\n",
      "   macro avg       0.97      0.98      0.98      1125\n",
      "weighted avg       0.98      0.98      0.98      1125\n",
      "\n"
     ]
    }
   ],
   "source": [
    "def print_confusion_matrix(y_true, y_pred, report=True):\n",
    "    labels = sorted(list(set(y_true)))\n",
    "    cmx_data = confusion_matrix(y_true, y_pred, labels=labels)\n",
    "    \n",
    "    df_cmx = pd.DataFrame(cmx_data, index=labels, columns=labels)\n",
    " \n",
    "    fig, ax = plt.subplots(figsize=(7, 6))\n",
    "    sns.heatmap(df_cmx, annot=True, fmt='g' ,square=False)\n",
    "    ax.set_ylim(len(set(y_true)), 0)\n",
    "    plt.savefig(\"graph/ThumbAndIndexFingerGestureModelConfusionMatrix.png\")\n",
    "    plt.show()\n",
    "    \n",
    "    if report:\n",
    "        print('Classification Report')\n",
    "        print(classification_report(y_test, y_pred))\n",
    "\n",
    "Y_pred = model.predict(X_test)\n",
    "y_pred = np.argmax(Y_pred, axis=1)\n",
    "\n",
    "print_confusion_matrix(y_test, y_pred)"
   ]
  },
  {
   "cell_type": "markdown",
   "metadata": {},
   "source": [
    "# TRAINING HISTORY OF THE MODEL"
   ]
  },
  {
   "cell_type": "code",
   "execution_count": 29,
   "metadata": {},
   "outputs": [
    {
     "data": {
      "image/png": "[encoded data removed]",
      "text/plain": [
       "<Figure size 1200x500 with 2 Axes>"
      ]
     },
     "metadata": {},
     "output_type": "display_data"
    }
   ],
   "source": [
    "def plot_history(history):\n",
    "    acc = history.history[\"accuracy\"]\n",
    "    loss = history.history[\"loss\"]\n",
    "    val_loss = history.history[\"val_loss\"]\n",
    "    val_accuracy = history.history[\"val_accuracy\"]\n",
    "    \n",
    "    x = range(1, len(acc) + 1)\n",
    "    \n",
    "    plt.figure(figsize=(12,5))\n",
    "    plt.subplot(1, 2, 1)\n",
    "    plt.plot(x, acc, \"b\", label=\"train\")\n",
    "    plt.plot(x, val_accuracy, \"r\", label=\"validation\")\n",
    "    plt.legend(loc=\"best\")\n",
    "    plt.xlabel(\"Epoch\")\n",
    "    plt.ylabel(\"Accuracy\")\n",
    "    plt.title(\"Model Accuracy\")\n",
    "    \n",
    "    plt.subplot(1, 2, 2)\n",
    "    plt.plot(x, loss, \"b\", label=\"train\")\n",
    "    plt.plot(x, val_loss, \"r\", label=\"validation\")\n",
    "    plt.legend(loc=\"best\")\n",
    "    plt.xlabel(\"Epoch\")\n",
    "    plt.ylabel(\"Loss\")\n",
    "    plt.title(\"Model Loss\")\n",
    "    plt.savefig(\"graph/ThumbAndIndexFingerGestureModelTrainingHistory.png\")\n",
    "    \n",
    "plot_history(history)"
   ]
  },
  {
   "cell_type": "markdown",
   "metadata": {},
   "source": [
    "# MODEL CONVERTING FOR TensorFlow-Lite"
   ]
  },
  {
   "cell_type": "markdown",
   "metadata": {},
   "source": [
    "## *Model export*"
   ]
  },
  {
   "cell_type": "code",
   "execution_count": 30,
   "metadata": {},
   "outputs": [
    {
     "name": "stdout",
     "output_type": "stream",
     "text": [
      "INFO:tensorflow:Assets written to: e:\\Games\\UnityProject\\HandDetection\\hand-gesture-recognition-using-mediapipe-main\\model\\thumb_and_index_finger_classifier\\assets\n"
     ]
    },
    {
     "name": "stderr",
     "output_type": "stream",
     "text": [
      "INFO:tensorflow:Assets written to: e:\\Games\\UnityProject\\HandDetection\\hand-gesture-recognition-using-mediapipe-main\\model\\thumb_and_index_finger_classifier\\assets\n"
     ]
    },
    {
     "name": "stdout",
     "output_type": "stream",
     "text": [
      "Saved artifact at 'e:\\Games\\UnityProject\\HandDetection\\hand-gesture-recognition-using-mediapipe-main\\model\\thumb_and_index_finger_classifier'. The following endpoints are available:\n",
      "\n",
      "* Endpoint 'serve'\n",
      "  args_0 (POSITIONAL_ONLY): TensorSpec(shape=(None, 64), dtype=tf.float32, name='input_layer')\n",
      "Output Type:\n",
      "  TensorSpec(shape=(None, 9), dtype=tf.float32, name=None)\n",
      "Captures:\n",
      "  2164785937248: TensorSpec(shape=(), dtype=tf.resource, name=None)\n",
      "  2164785938128: TensorSpec(shape=(), dtype=tf.resource, name=None)\n",
      "  2164785936016: TensorSpec(shape=(), dtype=tf.resource, name=None)\n",
      "  2164821344848: TensorSpec(shape=(), dtype=tf.resource, name=None)\n",
      "  2164785934960: TensorSpec(shape=(), dtype=tf.resource, name=None)\n",
      "  2164841962960: TensorSpec(shape=(), dtype=tf.resource, name=None)\n",
      "  2164841966832: TensorSpec(shape=(), dtype=tf.resource, name=None)\n"
     ]
    }
   ],
   "source": [
    "# model.save(model_save_path, include_optimizer=False)\n",
    "model.export(filepath=saved_model_path, format=\"tf_saved_model\")"
   ]
  },
  {
   "cell_type": "markdown",
   "metadata": {},
   "source": [
    "## *Load the exported model*"
   ]
  },
  {
   "cell_type": "code",
   "execution_count": 31,
   "metadata": {},
   "outputs": [],
   "source": [
    "model = tf.keras.models.load_model(model_save_path)"
   ]
  },
  {
   "cell_type": "markdown",
   "metadata": {},
   "source": [
    "## *Transform the model (**quantize**)*"
   ]
  },
  {
   "cell_type": "code",
   "execution_count": 32,
   "metadata": {},
   "outputs": [
    {
     "data": {
      "text/plain": [
       "17160"
      ]
     },
     "execution_count": 32,
     "metadata": {},
     "output_type": "execute_result"
    }
   ],
   "source": [
    "# converter = tf.lite.TFLiteConverter.from_keras_model(model)  \n",
    "converter = tf.lite.TFLiteConverter.from_saved_model(saved_model_path)\n",
    "\n",
    "converter.optimizations = [tf.lite.Optimize.DEFAULT]\n",
    "converter.target_spec.supported_ops = [\n",
    "  tf.lite.OpsSet.TFLITE_BUILTINS, # enable TensorFlow Lite ops.\n",
    "  tf.lite.OpsSet.SELECT_TF_OPS # enable TensorFlow ops.\n",
    "]\n",
    "tflite_quantized_model = converter.convert()\n",
    "\n",
    "open(tflite_save_path, 'wb').write(tflite_quantized_model)"
   ]
  },
  {
   "cell_type": "markdown",
   "metadata": {},
   "source": [
    "# REASONING TEST"
   ]
  },
  {
   "cell_type": "markdown",
   "metadata": {},
   "source": [
    "## *Set up an interpreter*"
   ]
  },
  {
   "cell_type": "code",
   "execution_count": 33,
   "metadata": {},
   "outputs": [],
   "source": [
    "interpreter = tf.lite.Interpreter(model_path=tflite_save_path)\n",
    "interpreter.allocate_tensors()"
   ]
  },
  {
   "cell_type": "markdown",
   "metadata": {},
   "source": [
    "## *Get input tensor*"
   ]
  },
  {
   "cell_type": "code",
   "execution_count": 34,
   "metadata": {},
   "outputs": [],
   "source": [
    "input_details = interpreter.get_input_details()"
   ]
  },
  {
   "cell_type": "markdown",
   "metadata": {},
   "source": [
    "## *Get output tensor*"
   ]
  },
  {
   "cell_type": "code",
   "execution_count": 35,
   "metadata": {},
   "outputs": [],
   "source": [
    "output_details = interpreter.get_output_details()"
   ]
  },
  {
   "cell_type": "markdown",
   "metadata": {},
   "source": [
    "## *Set the value for the input tensor*"
   ]
  },
  {
   "cell_type": "code",
   "execution_count": 36,
   "metadata": {},
   "outputs": [],
   "source": [
    "interpreter.set_tensor(input_details[0]['index'], np.float32(np.array([X_test[0]])))"
   ]
  },
  {
   "cell_type": "markdown",
   "metadata": {},
   "source": [
    "## *Inference implementation*"
   ]
  },
  {
   "cell_type": "code",
   "execution_count": 37,
   "metadata": {},
   "outputs": [
    {
     "name": "stdout",
     "output_type": "stream",
     "text": [
      "CPU times: total: 0 ns\n",
      "Wall time: 0 ns\n"
     ]
    }
   ],
   "source": [
    "%%time\n",
    "interpreter.invoke()\n",
    "tflite_results = interpreter.get_tensor(output_details[0]['index'])"
   ]
  },
  {
   "cell_type": "markdown",
   "metadata": {},
   "source": [
    "## *Print the results*"
   ]
  },
  {
   "cell_type": "code",
   "execution_count": 38,
   "metadata": {},
   "outputs": [
    {
     "name": "stdout",
     "output_type": "stream",
     "text": [
      "[7.9439184e-11 9.8048776e-01 7.8480998e-12 2.1616104e-06 7.8865723e-09\n",
      " 8.9109642e-07 5.8492022e-12 1.9509204e-02 6.1900760e-09]\n",
      "1\n"
     ]
    }
   ],
   "source": [
    "print(np.squeeze(tflite_results))\n",
    "print(np.argmax(np.squeeze(tflite_results)))"
   ]
  }
 ],
 "metadata": {
  "kernelspec": {
   "display_name": "Python 3",
   "language": "python",
   "name": "python3"
  },
  "language_info": {
   "codemirror_mode": {
    "name": "ipython",
    "version": 3
   },
   "file_extension": ".py",
   "mimetype": "text/x-python",
   "name": "python",
   "nbconvert_exporter": "python",
   "pygments_lexer": "ipython3",
   "version": "3.11.0"
  }
 },
 "nbformat": 4,
 "nbformat_minor": 4
}
